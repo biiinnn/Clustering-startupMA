{
 "cells": [
  {
   "cell_type": "code",
   "execution_count": 1,
   "metadata": {},
   "outputs": [],
   "source": [
    "import pandas as pd"
   ]
  },
  {
   "cell_type": "code",
   "execution_count": 68,
   "metadata": {},
   "outputs": [],
   "source": [
    "MA = pd.read_csv('C:\\\\Users\\\\yebin\\\\OneDrive\\\\바탕 화면\\\\세미나\\\\new\\\\data\\\\M&ARecords.csv')"
   ]
  },
  {
   "cell_type": "code",
   "execution_count": 69,
   "metadata": {},
   "outputs": [
    {
     "data": {
      "text/html": [
       "<div>\n",
       "<style scoped>\n",
       "    .dataframe tbody tr th:only-of-type {\n",
       "        vertical-align: middle;\n",
       "    }\n",
       "\n",
       "    .dataframe tbody tr th {\n",
       "        vertical-align: top;\n",
       "    }\n",
       "\n",
       "    .dataframe thead th {\n",
       "        text-align: right;\n",
       "    }\n",
       "</style>\n",
       "<table border=\"1\" class=\"dataframe\">\n",
       "  <thead>\n",
       "    <tr style=\"text-align: right;\">\n",
       "      <th></th>\n",
       "      <th>Announced Date</th>\n",
       "      <th>Announced Date Precision</th>\n",
       "      <th>Transaction Name</th>\n",
       "      <th>Transaction Name URL</th>\n",
       "      <th>Acquiree Name</th>\n",
       "      <th>Acquiree Name URL</th>\n",
       "      <th>Acquirer Name</th>\n",
       "      <th>Acquirer Name URL</th>\n",
       "    </tr>\n",
       "  </thead>\n",
       "  <tbody>\n",
       "    <tr>\n",
       "      <th>count</th>\n",
       "      <td>23622</td>\n",
       "      <td>23622</td>\n",
       "      <td>23622</td>\n",
       "      <td>23622</td>\n",
       "      <td>23622</td>\n",
       "      <td>23622</td>\n",
       "      <td>23622</td>\n",
       "      <td>23622</td>\n",
       "    </tr>\n",
       "    <tr>\n",
       "      <th>unique</th>\n",
       "      <td>3216</td>\n",
       "      <td>2</td>\n",
       "      <td>23622</td>\n",
       "      <td>23622</td>\n",
       "      <td>23089</td>\n",
       "      <td>23146</td>\n",
       "      <td>13939</td>\n",
       "      <td>13973</td>\n",
       "    </tr>\n",
       "    <tr>\n",
       "      <th>top</th>\n",
       "      <td>2014-01-01</td>\n",
       "      <td>day</td>\n",
       "      <td>LiquidM acquired by Ligatus</td>\n",
       "      <td>https://www.crunchbase.com/acquisition/3bl-med...</td>\n",
       "      <td>Groupon Indonesia</td>\n",
       "      <td>https://www.crunchbase.com/organization/groupo...</td>\n",
       "      <td>Facebook</td>\n",
       "      <td>https://www.crunchbase.com/organization/facebook</td>\n",
       "    </tr>\n",
       "    <tr>\n",
       "      <th>freq</th>\n",
       "      <td>45</td>\n",
       "      <td>22854</td>\n",
       "      <td>1</td>\n",
       "      <td>1</td>\n",
       "      <td>4</td>\n",
       "      <td>4</td>\n",
       "      <td>77</td>\n",
       "      <td>77</td>\n",
       "    </tr>\n",
       "  </tbody>\n",
       "</table>\n",
       "</div>"
      ],
      "text/plain": [
       "       Announced Date Announced Date Precision             Transaction Name  \\\n",
       "count           23622                    23622                        23622   \n",
       "unique           3216                        2                        23622   \n",
       "top        2014-01-01                      day  LiquidM acquired by Ligatus   \n",
       "freq               45                    22854                            1   \n",
       "\n",
       "                                     Transaction Name URL      Acquiree Name  \\\n",
       "count                                               23622              23622   \n",
       "unique                                              23622              23089   \n",
       "top     https://www.crunchbase.com/acquisition/3bl-med...  Groupon Indonesia   \n",
       "freq                                                    1                  4   \n",
       "\n",
       "                                        Acquiree Name URL Acquirer Name  \\\n",
       "count                                               23622         23622   \n",
       "unique                                              23146         13939   \n",
       "top     https://www.crunchbase.com/organization/groupo...      Facebook   \n",
       "freq                                                    4            77   \n",
       "\n",
       "                                       Acquirer Name URL  \n",
       "count                                              23622  \n",
       "unique                                             13973  \n",
       "top     https://www.crunchbase.com/organization/facebook  \n",
       "freq                                                  77  "
      ]
     },
     "execution_count": 69,
     "metadata": {},
     "output_type": "execute_result"
    }
   ],
   "source": [
    "MA.describe()"
   ]
  },
  {
   "cell_type": "code",
   "execution_count": 78,
   "metadata": {},
   "outputs": [
    {
     "data": {
      "text/plain": [
       "Index(['Announced Date', 'Announced Date Precision', 'Transaction Name',\n",
       "       'Transaction Name URL', 'Acquiree Name', 'Acquiree Name URL',\n",
       "       'Acquirer Name', 'Acquirer Name URL'],\n",
       "      dtype='object')"
      ]
     },
     "execution_count": 78,
     "metadata": {},
     "output_type": "execute_result"
    }
   ],
   "source": [
    "MA.columns"
   ]
  },
  {
   "cell_type": "code",
   "execution_count": 71,
   "metadata": {},
   "outputs": [
    {
     "name": "stdout",
     "output_type": "stream",
     "text": [
      "<class 'pandas.core.frame.DataFrame'>\n",
      "RangeIndex: 23622 entries, 0 to 23621\n",
      "Data columns (total 8 columns):\n",
      " #   Column                    Non-Null Count  Dtype \n",
      "---  ------                    --------------  ----- \n",
      " 0   Announced Date            23622 non-null  object\n",
      " 1   Announced Date Precision  23622 non-null  object\n",
      " 2   Transaction Name          23622 non-null  object\n",
      " 3   Transaction Name URL      23622 non-null  object\n",
      " 4   Acquiree Name             23622 non-null  object\n",
      " 5   Acquiree Name URL         23622 non-null  object\n",
      " 6   Acquirer Name             23622 non-null  object\n",
      " 7   Acquirer Name URL         23622 non-null  object\n",
      "dtypes: object(8)\n",
      "memory usage: 1.4+ MB\n"
     ]
    }
   ],
   "source": [
    "MA.info()"
   ]
  },
  {
   "cell_type": "code",
   "execution_count": 72,
   "metadata": {},
   "outputs": [],
   "source": [
    "year = []\n",
    "for i in MA['Announced Date']:\n",
    "    new = i.split('-')[0]\n",
    "    year.append(new)"
   ]
  },
  {
   "cell_type": "code",
   "execution_count": 73,
   "metadata": {},
   "outputs": [],
   "source": [
    "MA['Announced Date'] = year"
   ]
  },
  {
   "cell_type": "code",
   "execution_count": 75,
   "metadata": {},
   "outputs": [],
   "source": [
    "df = MA.loc[:, ['Announced Date', 'Transaction Name', 'Acquiree Name', 'Acquirer Name']]"
   ]
  },
  {
   "cell_type": "code",
   "execution_count": 76,
   "metadata": {},
   "outputs": [],
   "source": [
    "df.to_csv('C:\\\\Users\\\\yebin\\\\OneDrive\\\\바탕 화면\\\\세미나\\\\new\\\\data\\\\M&APreprocessed.csv', encoding='utf-8', index=False)"
   ]
  },
  {
   "cell_type": "code",
   "execution_count": null,
   "metadata": {},
   "outputs": [],
   "source": []
  }
 ],
 "metadata": {
  "kernelspec": {
   "display_name": "Python 3 (ipykernel)",
   "language": "python",
   "name": "python3"
  },
  "language_info": {
   "codemirror_mode": {
    "name": "ipython",
    "version": 3
   },
   "file_extension": ".py",
   "mimetype": "text/x-python",
   "name": "python",
   "nbconvert_exporter": "python",
   "pygments_lexer": "ipython3",
   "version": "3.9.7"
  }
 },
 "nbformat": 4,
 "nbformat_minor": 4
}
