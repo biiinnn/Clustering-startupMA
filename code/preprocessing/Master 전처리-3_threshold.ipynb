{
 "cells": [
  {
   "cell_type": "code",
   "execution_count": 1,
   "metadata": {},
   "outputs": [],
   "source": [
    "import pandas as pd\n",
    "import numpy as np\n",
    "import matplotlib.pyplot as plt\n",
    "import seaborn as sns"
   ]
  },
  {
   "cell_type": "code",
   "execution_count": 2,
   "metadata": {},
   "outputs": [],
   "source": [
    "data3 = pd.read_excel('C:\\\\Users\\\\yebin\\\\OneDrive\\\\바탕 화면\\\\세미나\\\\new\\\\data\\\\data3.xlsx')"
   ]
  },
  {
   "cell_type": "code",
   "execution_count": 4,
   "metadata": {},
   "outputs": [
    {
     "data": {
      "text/plain": [
       "(16785, 35)"
      ]
     },
     "execution_count": 4,
     "metadata": {},
     "output_type": "execute_result"
    }
   ],
   "source": [
    "data3.shape"
   ]
  },
  {
   "cell_type": "code",
   "execution_count": 5,
   "metadata": {
    "scrolled": true
   },
   "outputs": [
    {
     "data": {
      "text/plain": [
       "Index(['Announced Date', 'EE_Organization Name', 'EE_Founded Date',\n",
       "       'EE_Industry Groups', 'EE_Industries', 'EE_Headquarters Location',\n",
       "       'EE_Number of Founders', 'EE_Number of Employees',\n",
       "       'EE_Number of Articles', 'EE_Active Tech Count', 'EE_Patents Granted',\n",
       "       'EE_Trademarks Registered', 'EE_Total Products Active',\n",
       "       'EE_IT Spend Currency (in USD)', 'EE_Estimated Revenue Range',\n",
       "       'EE_Number of Funding Rounds',\n",
       "       'EE_Total Funding Amount Currency (in USD)', 'EE_Number of Investors',\n",
       "       'ER_Organization Name', 'ER_Founded Date', 'ER_Industry Groups',\n",
       "       'ER_Industries', 'ER_Headquarters Location', 'ER_Number of Founders',\n",
       "       'ER_Number of Employees', 'ER_Number of Articles',\n",
       "       'ER_Active Tech Count', 'ER_Patents Granted',\n",
       "       'ER_Trademarks Registered', 'ER_Total Products Active',\n",
       "       'ER_IT Spend Currency (in USD)', 'ER_Estimated Revenue Range',\n",
       "       'ER_Number of Funding Rounds',\n",
       "       'ER_Total Funding Amount Currency (in USD)', 'ER_Number of Investors'],\n",
       "      dtype='object')"
      ]
     },
     "execution_count": 5,
     "metadata": {},
     "output_type": "execute_result"
    }
   ],
   "source": [
    "data3.columns"
   ]
  },
  {
   "cell_type": "code",
   "execution_count": 6,
   "metadata": {},
   "outputs": [],
   "source": [
    "# 기업 나이 구하기\n",
    "data3['EE_Age'] = data3['Announced Date']-data3['EE_Founded Date']\n",
    "data3['ER_Age'] = data3['Announced Date']-data3['ER_Founded Date']"
   ]
  },
  {
   "cell_type": "code",
   "execution_count": 7,
   "metadata": {},
   "outputs": [],
   "source": [
    "#직원 수 중앙 값으로 변경\n",
    "#피인수\n",
    "data3['EE_Number of Employees'].replace('01-10', 5, inplace=True)\n",
    "data3['EE_Number of Employees'].replace('11-50', 30, inplace=True)\n",
    "data3['EE_Number of Employees'].replace('51-100', 75, inplace=True)\n",
    "data3['EE_Number of Employees'].replace('101-250', 175, inplace=True)\n",
    "data3['EE_Number of Employees'].replace('251-500', 375, inplace=True)\n",
    "data3['EE_Number of Employees'].replace('501-1000', 750, inplace=True)\n",
    "data3['EE_Number of Employees'].replace('1001-5000', 3000, inplace=True)\n",
    "data3['EE_Number of Employees'].replace('5001-10000', 7500, inplace=True)\n",
    "data3['EE_Number of Employees'].replace('10001+', 10000, inplace=True)\n",
    "#인수\n",
    "data3['ER_Number of Employees'].replace('01-10', 5, inplace=True)\n",
    "data3['ER_Number of Employees'].replace('11-50', 30, inplace=True)\n",
    "data3['ER_Number of Employees'].replace('51-100', 75, inplace=True)\n",
    "data3['ER_Number of Employees'].replace('101-250', 175, inplace=True)\n",
    "data3['ER_Number of Employees'].replace('251-500', 375, inplace=True)\n",
    "data3['ER_Number of Employees'].replace('501-1000', 750, inplace=True)\n",
    "data3['ER_Number of Employees'].replace('1001-5000', 3000, inplace=True)\n",
    "data3['ER_Number of Employees'].replace('5001-10000', 7500, inplace=True)\n",
    "data3['ER_Number of Employees'].replace('10001+', 10000, inplace=True)"
   ]
  },
  {
   "cell_type": "code",
   "execution_count": 8,
   "metadata": {},
   "outputs": [],
   "source": [
    "# 수익 중앙 값으로 변경\n",
    "# 피인수\n",
    "data3['EE_Estimated Revenue Range'].replace('Less than $1M', 1, inplace=True)\n",
    "data3['EE_Estimated Revenue Range'].replace('$1M to $10M', 5, inplace=True)\n",
    "data3['EE_Estimated Revenue Range'].replace('$10M to $50M', 25, inplace=True)\n",
    "data3['EE_Estimated Revenue Range'].replace('$50M to $100M', 75, inplace=True)\n",
    "data3['EE_Estimated Revenue Range'].replace('$100M to $500M', 300, inplace=True)\n",
    "data3['EE_Estimated Revenue Range'].replace('$500M to $1B', 750, inplace=True)\n",
    "data3['EE_Estimated Revenue Range'].replace('$1B to $10B', 5000, inplace=True)\n",
    "data3['EE_Estimated Revenue Range'].replace('$10B+', 10000, inplace=True)\n",
    "# 인수\n",
    "data3['ER_Estimated Revenue Range'].replace('Less than $1M', 1, inplace=True)\n",
    "data3['ER_Estimated Revenue Range'].replace('$1M to $10M', 5, inplace=True)\n",
    "data3['ER_Estimated Revenue Range'].replace('$10M to $50M', 25, inplace=True)\n",
    "data3['ER_Estimated Revenue Range'].replace('$50M to $100M', 75, inplace=True)\n",
    "data3['ER_Estimated Revenue Range'].replace('$100M to $500M', 300, inplace=True)\n",
    "data3['ER_Estimated Revenue Range'].replace('$500M to $1B', 750, inplace=True)\n",
    "data3['ER_Estimated Revenue Range'].replace('$1B to $10B', 5000, inplace=True)\n",
    "data3['ER_Estimated Revenue Range'].replace('$10B+', 10000, inplace=True)"
   ]
  },
  {
   "cell_type": "code",
   "execution_count": 9,
   "metadata": {},
   "outputs": [],
   "source": [
    "# Industry Groups Similarity 구하기\n",
    "ee_grp = []\n",
    "for i in data3['EE_Industry Groups']:\n",
    "    new = i.split(\", \")\n",
    "    ee_grp.append(new)\n",
    "\n",
    "er_grp = []\n",
    "for i in data3['ER_Industry Groups']:\n",
    "    new = i.split(\", \")\n",
    "    er_grp.append(new)\n",
    "\n",
    "grp_similarity = []\n",
    "for i in range(len(ee_grp)):\n",
    "    intersection = list(set(ee_grp[i]) & set(er_grp[i]))\n",
    "    union = list(set().union(ee_grp[i], er_grp[i]))\n",
    "    sim = len(intersection) / len(union)\n",
    "    grp_similarity.append(sim)\n",
    "    \n",
    "data3['Industry Groups Similarity'] = grp_similarity"
   ]
  },
  {
   "cell_type": "code",
   "execution_count": 10,
   "metadata": {},
   "outputs": [],
   "source": [
    "# Industries Similarity 구하기\n",
    "ee_ind = []\n",
    "for i in data3['EE_Industries']:\n",
    "    new = i.split(\", \")\n",
    "    ee_ind.append(new)\n",
    "\n",
    "er_ind = []\n",
    "for i in data3['ER_Industries']:\n",
    "    new = i.split(\", \")\n",
    "    er_ind.append(new)\n",
    "\n",
    "ind_similarity = []\n",
    "for i in range(len(ee_ind)):\n",
    "    intersection = list(set(ee_ind[i]) & set(er_ind[i]))\n",
    "    union = list(set().union(ee_ind[i], er_ind[i]))\n",
    "    sim = len(intersection) / len(union)\n",
    "    ind_similarity.append(sim)\n",
    "    \n",
    "data3['Industries Similarity'] = ind_similarity"
   ]
  },
  {
   "cell_type": "code",
   "execution_count": 11,
   "metadata": {},
   "outputs": [],
   "source": [
    "# Location Similarity 구하기\n",
    "ee_loc = []\n",
    "for i in data3['EE_Headquarters Location']:\n",
    "    new = i.split(\", \")\n",
    "    ee_loc.append(new)\n",
    "\n",
    "er_loc = []\n",
    "for i in data3['ER_Headquarters Location']:\n",
    "    new = i.split(\", \")\n",
    "    er_loc.append(new)\n",
    "\n",
    "loc_similarity = []\n",
    "for i in range(len(ee_loc)):\n",
    "    intersection = list(set(ee_loc[i]) & set(er_loc[i]))\n",
    "    union = list(set().union(ee_loc[i], er_loc[i]))\n",
    "    sim = len(intersection) / len(union)\n",
    "    loc_similarity.append(sim)\n",
    "    \n",
    "data3['Location Similarity'] = loc_similarity"
   ]
  },
  {
   "cell_type": "code",
   "execution_count": 17,
   "metadata": {},
   "outputs": [],
   "source": [
    "using_columns = ['Announced Date', 'Industry Groups Similarity', 'Industries Similarity', 'Location Similarity', \n",
    "                 'EE_Organization Name', 'EE_Founded Date', 'EE_Age', 'EE_Industry Groups', 'EE_Industries', 'EE_Headquarters Location', 'EE_Number of Founders', 'EE_Number of Employees', 'EE_Number of Articles', 'EE_Active Tech Count', 'EE_Patents Granted', 'EE_Trademarks Registered', 'EE_Total Products Active', 'EE_IT Spend Currency (in USD)', 'EE_Estimated Revenue Range', 'EE_Number of Funding Rounds', 'EE_Total Funding Amount Currency (in USD)', 'EE_Number of Investors', \n",
    "                 'ER_Organization Name', 'ER_Founded Date', 'ER_Age', 'ER_Industry Groups', 'ER_Industries', 'ER_Headquarters Location', 'ER_Number of Founders', 'ER_Number of Employees', 'ER_Number of Articles', 'ER_Active Tech Count', 'ER_Patents Granted', 'ER_Trademarks Registered', 'ER_Total Products Active', 'ER_IT Spend Currency (in USD)', 'ER_Estimated Revenue Range', 'ER_Number of Funding Rounds', 'ER_Total Funding Amount Currency (in USD)', 'ER_Number of Investors']"
   ]
  },
  {
   "cell_type": "code",
   "execution_count": 18,
   "metadata": {},
   "outputs": [],
   "source": [
    "data8 = data3[using_columns]"
   ]
  },
  {
   "cell_type": "code",
   "execution_count": 19,
   "metadata": {},
   "outputs": [
    {
     "name": "stdout",
     "output_type": "stream",
     "text": [
      "<class 'pandas.core.frame.DataFrame'>\n",
      "RangeIndex: 16785 entries, 0 to 16784\n",
      "Data columns (total 40 columns):\n",
      " #   Column                                     Non-Null Count  Dtype  \n",
      "---  ------                                     --------------  -----  \n",
      " 0   Announced Date                             16785 non-null  int64  \n",
      " 1   Industry Groups Similarity                 16785 non-null  float64\n",
      " 2   Industries Similarity                      16785 non-null  float64\n",
      " 3   Location Similarity                        16785 non-null  float64\n",
      " 4   EE_Organization Name                       16785 non-null  object \n",
      " 5   EE_Founded Date                            16785 non-null  int64  \n",
      " 6   EE_Age                                     16785 non-null  int64  \n",
      " 7   EE_Industry Groups                         16785 non-null  object \n",
      " 8   EE_Industries                              16785 non-null  object \n",
      " 9   EE_Headquarters Location                   16785 non-null  object \n",
      " 10  EE_Number of Founders                      10406 non-null  float64\n",
      " 11  EE_Number of Employees                     16785 non-null  int64  \n",
      " 12  EE_Number of Articles                      10306 non-null  float64\n",
      " 13  EE_Active Tech Count                       15270 non-null  float64\n",
      " 14  EE_Patents Granted                         4658 non-null   float64\n",
      " 15  EE_Trademarks Registered                   4658 non-null   float64\n",
      " 16  EE_Total Products Active                   10505 non-null  float64\n",
      " 17  EE_IT Spend Currency (in USD)              1730 non-null   float64\n",
      " 18  EE_Estimated Revenue Range                 6039 non-null   float64\n",
      " 19  EE_Number of Funding Rounds                8103 non-null   float64\n",
      " 20  EE_Total Funding Amount Currency (in USD)  6427 non-null   float64\n",
      " 21  EE_Number of Investors                     7148 non-null   float64\n",
      " 22  ER_Organization Name                       16785 non-null  object \n",
      " 23  ER_Founded Date                            16785 non-null  int64  \n",
      " 24  ER_Age                                     16785 non-null  int64  \n",
      " 25  ER_Industry Groups                         16785 non-null  object \n",
      " 26  ER_Industries                              16785 non-null  object \n",
      " 27  ER_Headquarters Location                   16785 non-null  object \n",
      " 28  ER_Number of Founders                      12468 non-null  float64\n",
      " 29  ER_Number of Employees                     16785 non-null  int64  \n",
      " 30  ER_Number of Articles                      14404 non-null  float64\n",
      " 31  ER_Active Tech Count                       16024 non-null  float64\n",
      " 32  ER_Patents Granted                         9664 non-null   float64\n",
      " 33  ER_Trademarks Registered                   9664 non-null   float64\n",
      " 34  ER_Total Products Active                   13206 non-null  float64\n",
      " 35  ER_IT Spend Currency (in USD)              5733 non-null   float64\n",
      " 36  ER_Estimated Revenue Range                 12437 non-null  float64\n",
      " 37  ER_Number of Funding Rounds                11370 non-null  float64\n",
      " 38  ER_Total Funding Amount Currency (in USD)  9956 non-null   float64\n",
      " 39  ER_Number of Investors                     10339 non-null  float64\n",
      "dtypes: float64(25), int64(7), object(8)\n",
      "memory usage: 5.1+ MB\n"
     ]
    }
   ],
   "source": [
    "data8.info()"
   ]
  },
  {
   "cell_type": "code",
   "execution_count": 20,
   "metadata": {},
   "outputs": [],
   "source": [
    "data8.to_excel('C:\\\\Users\\\\yebin\\\\OneDrive\\\\바탕 화면\\\\세미나\\\\new\\\\data\\\\data8.xlsx', index=False)"
   ]
  },
  {
   "cell_type": "code",
   "execution_count": null,
   "metadata": {},
   "outputs": [],
   "source": []
  },
  {
   "cell_type": "code",
   "execution_count": 29,
   "metadata": {},
   "outputs": [],
   "source": [
    "nt_data = pd.read_excel('C:\\\\Users\\\\yebin\\\\OneDrive\\\\바탕 화면\\\\세미나\\\\new\\\\data\\\\data8_re.xlsx')"
   ]
  },
  {
   "cell_type": "code",
   "execution_count": 30,
   "metadata": {},
   "outputs": [
    {
     "name": "stdout",
     "output_type": "stream",
     "text": [
      "<class 'pandas.core.frame.DataFrame'>\n",
      "RangeIndex: 16696 entries, 0 to 16695\n",
      "Data columns (total 40 columns):\n",
      " #   Column                                     Non-Null Count  Dtype  \n",
      "---  ------                                     --------------  -----  \n",
      " 0   Announced Date                             16696 non-null  int64  \n",
      " 1   Industry Groups Similarity                 16696 non-null  float64\n",
      " 2   Industries Similarity                      16696 non-null  float64\n",
      " 3   Location Similarity                        16696 non-null  float64\n",
      " 4   EE_Organization Name                       16696 non-null  object \n",
      " 5   EE_Founded Date                            16696 non-null  int64  \n",
      " 6   EE_Age                                     16696 non-null  int64  \n",
      " 7   EE_Industry Groups                         16696 non-null  object \n",
      " 8   EE_Industries                              16696 non-null  object \n",
      " 9   EE_Headquarters Location                   16696 non-null  object \n",
      " 10  EE_Number of Founders                      10343 non-null  float64\n",
      " 11  EE_Number of Employees                     16696 non-null  int64  \n",
      " 12  EE_Number of Articles                      10255 non-null  float64\n",
      " 13  EE_Active Tech Count                       15188 non-null  float64\n",
      " 14  EE_Patents Granted                         4641 non-null   float64\n",
      " 15  EE_Trademarks Registered                   4641 non-null   float64\n",
      " 16  EE_Total Products Active                   10448 non-null  float64\n",
      " 17  EE_IT Spend Currency (in USD)              1723 non-null   float64\n",
      " 18  EE_Estimated Revenue Range                 6019 non-null   float64\n",
      " 19  EE_Number of Funding Rounds                8058 non-null   float64\n",
      " 20  EE_Total Funding Amount Currency (in USD)  6391 non-null   float64\n",
      " 21  EE_Number of Investors                     7112 non-null   float64\n",
      " 22  ER_Organization Name                       16696 non-null  object \n",
      " 23  ER_Founded Date                            16696 non-null  int64  \n",
      " 24  ER_Age                                     16696 non-null  int64  \n",
      " 25  ER_Industry Groups                         16696 non-null  object \n",
      " 26  ER_Industries                              16696 non-null  object \n",
      " 27  ER_Headquarters Location                   16696 non-null  object \n",
      " 28  ER_Number of Founders                      12404 non-null  float64\n",
      " 29  ER_Number of Employees                     16696 non-null  int64  \n",
      " 30  ER_Number of Articles                      14336 non-null  float64\n",
      " 31  ER_Active Tech Count                       15945 non-null  float64\n",
      " 32  ER_Patents Granted                         9624 non-null   float64\n",
      " 33  ER_Trademarks Registered                   9624 non-null   float64\n",
      " 34  ER_Total Products Active                   13156 non-null  float64\n",
      " 35  ER_IT Spend Currency (in USD)              5724 non-null   float64\n",
      " 36  ER_Estimated Revenue Range                 12395 non-null  float64\n",
      " 37  ER_Number of Funding Rounds                11320 non-null  float64\n",
      " 38  ER_Total Funding Amount Currency (in USD)  9912 non-null   float64\n",
      " 39  ER_Number of Investors                     10303 non-null  float64\n",
      "dtypes: float64(25), int64(7), object(8)\n",
      "memory usage: 5.1+ MB\n"
     ]
    }
   ],
   "source": [
    "nt_data.info()"
   ]
  },
  {
   "cell_type": "code",
   "execution_count": 31,
   "metadata": {},
   "outputs": [],
   "source": [
    "data9 = nt_data.dropna(thresh = 29)"
   ]
  },
  {
   "cell_type": "code",
   "execution_count": 32,
   "metadata": {
    "scrolled": false
   },
   "outputs": [
    {
     "data": {
      "text/plain": [
       "(11070, 40)"
      ]
     },
     "execution_count": 32,
     "metadata": {},
     "output_type": "execute_result"
    }
   ],
   "source": [
    "data9.shape"
   ]
  },
  {
   "cell_type": "code",
   "execution_count": 33,
   "metadata": {},
   "outputs": [],
   "source": [
    "# 설립자 수 결측치 1로 대체\n",
    "data9['EE_Number of Founders'].fillna(1, inplace=True)\n",
    "data9['ER_Number of Founders'].fillna(1, inplace=True)\n",
    "# 기사 언급 수 결측치 0으로 대체\n",
    "data9['EE_Number of Articles'].fillna(0, inplace=True)\n",
    "data9['ER_Number of Articles'].fillna(0, inplace=True)\n",
    "# Active Tech Count, Total Products Active, Patents Granted, Trademarks Registered 결측치 0으로 대체\n",
    "data9['EE_Active Tech Count'].fillna(0, inplace=True)\n",
    "data9['ER_Active Tech Count'].fillna(0, inplace=True)\n",
    "data9['EE_Total Products Active'].fillna(0, inplace=True)\n",
    "data9['ER_Total Products Active'].fillna(0, inplace=True)\n",
    "data9['EE_Patents Granted'].fillna(0, inplace=True)\n",
    "data9['ER_Patents Granted'].fillna(0, inplace=True)\n",
    "data9['EE_Trademarks Registered'].fillna(0, inplace=True)\n",
    "data9['ER_Trademarks Registered'].fillna(0, inplace=True)\n",
    "# IT Spend Currency (in USD) 결측치 0으로 대체\n",
    "data9['EE_IT Spend Currency (in USD)'].fillna(0, inplace=True)\n",
    "data9['ER_IT Spend Currency (in USD)'].fillna(0, inplace=True)\n",
    "# Estimated Revenue Range 결측치 0으로 대체\n",
    "data9['EE_Estimated Revenue Range'].fillna(0, inplace=True)\n",
    "data9['ER_Estimated Revenue Range'].fillna(0, inplace=True)\n",
    "# Number of Funding Rounds 결측치 0으로 대체\n",
    "data9['EE_Number of Funding Rounds'].fillna(0, inplace=True)\n",
    "data9['ER_Number of Funding Rounds'].fillna(0, inplace=True)\n",
    "# Total Funding Amount Currency (in USD) 결측치 0으로 대체\n",
    "data9['EE_Total Funding Amount Currency (in USD)'].fillna(0, inplace=True)\n",
    "data9['ER_Total Funding Amount Currency (in USD)'].fillna(0, inplace=True)\n",
    "# Number of Investors 결측치 0으로 대체\n",
    "data9['EE_Number of Investors'].fillna(0, inplace=True)\n",
    "data9['ER_Number of Investors'].fillna(0, inplace=True)"
   ]
  },
  {
   "cell_type": "code",
   "execution_count": 34,
   "metadata": {},
   "outputs": [
    {
     "name": "stdout",
     "output_type": "stream",
     "text": [
      "<class 'pandas.core.frame.DataFrame'>\n",
      "Int64Index: 11070 entries, 0 to 16694\n",
      "Data columns (total 40 columns):\n",
      " #   Column                                     Non-Null Count  Dtype  \n",
      "---  ------                                     --------------  -----  \n",
      " 0   Announced Date                             11070 non-null  int64  \n",
      " 1   Industry Groups Similarity                 11070 non-null  float64\n",
      " 2   Industries Similarity                      11070 non-null  float64\n",
      " 3   Location Similarity                        11070 non-null  float64\n",
      " 4   EE_Organization Name                       11070 non-null  object \n",
      " 5   EE_Founded Date                            11070 non-null  int64  \n",
      " 6   EE_Age                                     11070 non-null  int64  \n",
      " 7   EE_Industry Groups                         11070 non-null  object \n",
      " 8   EE_Industries                              11070 non-null  object \n",
      " 9   EE_Headquarters Location                   11070 non-null  object \n",
      " 10  EE_Number of Founders                      11070 non-null  float64\n",
      " 11  EE_Number of Employees                     11070 non-null  int64  \n",
      " 12  EE_Number of Articles                      11070 non-null  float64\n",
      " 13  EE_Active Tech Count                       11070 non-null  float64\n",
      " 14  EE_Patents Granted                         11070 non-null  float64\n",
      " 15  EE_Trademarks Registered                   11070 non-null  float64\n",
      " 16  EE_Total Products Active                   11070 non-null  float64\n",
      " 17  EE_IT Spend Currency (in USD)              11070 non-null  float64\n",
      " 18  EE_Estimated Revenue Range                 11070 non-null  float64\n",
      " 19  EE_Number of Funding Rounds                11070 non-null  float64\n",
      " 20  EE_Total Funding Amount Currency (in USD)  11070 non-null  float64\n",
      " 21  EE_Number of Investors                     11070 non-null  float64\n",
      " 22  ER_Organization Name                       11070 non-null  object \n",
      " 23  ER_Founded Date                            11070 non-null  int64  \n",
      " 24  ER_Age                                     11070 non-null  int64  \n",
      " 25  ER_Industry Groups                         11070 non-null  object \n",
      " 26  ER_Industries                              11070 non-null  object \n",
      " 27  ER_Headquarters Location                   11070 non-null  object \n",
      " 28  ER_Number of Founders                      11070 non-null  float64\n",
      " 29  ER_Number of Employees                     11070 non-null  int64  \n",
      " 30  ER_Number of Articles                      11070 non-null  float64\n",
      " 31  ER_Active Tech Count                       11070 non-null  float64\n",
      " 32  ER_Patents Granted                         11070 non-null  float64\n",
      " 33  ER_Trademarks Registered                   11070 non-null  float64\n",
      " 34  ER_Total Products Active                   11070 non-null  float64\n",
      " 35  ER_IT Spend Currency (in USD)              11070 non-null  float64\n",
      " 36  ER_Estimated Revenue Range                 11070 non-null  float64\n",
      " 37  ER_Number of Funding Rounds                11070 non-null  float64\n",
      " 38  ER_Total Funding Amount Currency (in USD)  11070 non-null  float64\n",
      " 39  ER_Number of Investors                     11070 non-null  float64\n",
      "dtypes: float64(25), int64(7), object(8)\n",
      "memory usage: 3.5+ MB\n"
     ]
    }
   ],
   "source": [
    "data9.info()"
   ]
  },
  {
   "cell_type": "code",
   "execution_count": 35,
   "metadata": {},
   "outputs": [],
   "source": [
    "data9.to_excel('C:\\\\Users\\\\yebin\\\\OneDrive\\\\바탕 화면\\\\세미나\\\\new\\\\data\\\\data9.xlsx', index=False)"
   ]
  },
  {
   "cell_type": "code",
   "execution_count": null,
   "metadata": {},
   "outputs": [],
   "source": []
  },
  {
   "cell_type": "code",
   "execution_count": null,
   "metadata": {},
   "outputs": [],
   "source": []
  },
  {
   "cell_type": "code",
   "execution_count": null,
   "metadata": {},
   "outputs": [],
   "source": []
  },
  {
   "cell_type": "code",
   "execution_count": null,
   "metadata": {},
   "outputs": [],
   "source": []
  },
  {
   "cell_type": "code",
   "execution_count": null,
   "metadata": {},
   "outputs": [],
   "source": []
  },
  {
   "cell_type": "code",
   "execution_count": null,
   "metadata": {},
   "outputs": [],
   "source": []
  },
  {
   "cell_type": "code",
   "execution_count": null,
   "metadata": {},
   "outputs": [],
   "source": []
  },
  {
   "cell_type": "code",
   "execution_count": null,
   "metadata": {},
   "outputs": [],
   "source": []
  },
  {
   "cell_type": "code",
   "execution_count": null,
   "metadata": {},
   "outputs": [],
   "source": []
  },
  {
   "cell_type": "code",
   "execution_count": null,
   "metadata": {},
   "outputs": [],
   "source": []
  },
  {
   "cell_type": "code",
   "execution_count": null,
   "metadata": {},
   "outputs": [],
   "source": []
  },
  {
   "cell_type": "code",
   "execution_count": null,
   "metadata": {},
   "outputs": [],
   "source": []
  }
 ],
 "metadata": {
  "kernelspec": {
   "display_name": "Python 3",
   "language": "python",
   "name": "python3"
  },
  "language_info": {
   "codemirror_mode": {
    "name": "ipython",
    "version": 3
   },
   "file_extension": ".py",
   "mimetype": "text/x-python",
   "name": "python",
   "nbconvert_exporter": "python",
   "pygments_lexer": "ipython3",
   "version": "3.8.3"
  }
 },
 "nbformat": 4,
 "nbformat_minor": 4
}
