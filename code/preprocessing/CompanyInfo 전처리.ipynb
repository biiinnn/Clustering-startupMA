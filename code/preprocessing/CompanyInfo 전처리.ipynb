{
 "cells": [
  {
   "cell_type": "code",
   "execution_count": 159,
   "metadata": {},
   "outputs": [],
   "source": [
    "import pandas as pd\n",
    "import numpy as np"
   ]
  },
  {
   "cell_type": "code",
   "execution_count": 160,
   "metadata": {},
   "outputs": [],
   "source": [
    "CI = pd.read_csv('..\\\\data\\\\raw\\\\CompanyInfo.csv', \n",
    "                 error_bad_lines=True, dtype={\n",
    "'Organization Name': np.str ,\n",
    "'Organization Name URL': np.str,\n",
    "'Founded Date': np.str,\n",
    "'Founded Date Precision': np.str,\n",
    "'Announced Date': np.str,\n",
    "'Announced Date Precision': np.str,\n",
    "'Acquired by': np.str,\n",
    "'Acquired by URL': np.str,\n",
    "'Industry Groups': np.str,\n",
    "'Industries': np.str,\n",
    "'Headquarters Location': np.str,\n",
    "'Headquarters Regions': np.str,\n",
    "'Number of Founders': np.float64,\n",
    "'Number of Employees': np.str,\n",
    "'Number of Articles': np.float64,\n",
    "'SEMrush - Average Visits (6 months)': np.float64,\n",
    "'SEMrush - Visit Duration': np.float64,\n",
    "'SEMrush - Page Views / Visit': np.float64,\n",
    "'BuiltWith - Active Tech Count': np.float64,\n",
    "'IPqwery - Patents Granted': np.float64,\n",
    "'IPqwery - Trademarks Registered': np.float64,\n",
    "'G2 Stack - Total Products Active': np.float64,\n",
    "'Aberdeen - IT Spend': np.float64,\n",
    "'Aberdeen - IT Spend Currency': np.str,\n",
    "'Aberdeen - IT Spend Currency (in USD)': np.float64,\n",
    "'Apptopia - Number of Apps': np.float64,\n",
    "'Apptopia - Downloads Last 30 Days': np.float64,\n",
    "'Estimated Revenue Range': np.str,\n",
    "'Number of Funding Rounds': np.float64,\n",
    "'Funding Status': np.str,\n",
    "'Last Funding Amount': np.float64,\n",
    "'Last Funding Amount Currency': np.str,\n",
    "'Last Funding Amount Currency (in USD)': np.float64,\n",
    "'Last Funding Type': np.str,\n",
    "'Last Equity Funding Amount': np.float64,\n",
    "'Last Equity Funding Amount Currency': np.str,\n",
    "'Last Equity Funding Amount Currency (in USD)': np.float64,\n",
    "'Last Equity Funding Type': np.str,\n",
    "'Total Equity Funding Amount': np.float64,\n",
    "'Total Equity Funding Amount Currency': np.str,\n",
    "'Total Equity Funding Amount Currency (in USD)': np.float64,\n",
    "'Total Funding Amount': np.float64,\n",
    "'Total Funding Amount Currency': np.str,\n",
    "'Total Funding Amount Currency (in USD)': np.float64,\n",
    "'Number of Portfolio Organizations': np.float64,\n",
    "'Number of Investments': np.float64,\n",
    "'Number of Lead Investments': np.float64,\n",
    "'Number of Diversity Investments': np.float64,\n",
    "'Number of Lead Investors': np.float64,\n",
    "'Number of Investors': np.float64\n",
    "}\n",
    ")"
   ]
  },
  {
   "cell_type": "code",
   "execution_count": 161,
   "metadata": {},
   "outputs": [],
   "source": [
    "#CI.info()"
   ]
  },
  {
   "cell_type": "code",
   "execution_count": 162,
   "metadata": {},
   "outputs": [],
   "source": [
    "#CI.columns"
   ]
  },
  {
   "cell_type": "code",
   "execution_count": 163,
   "metadata": {},
   "outputs": [],
   "source": [
    "CI.columns=['Organization Name',\n",
    "'Organization Name URL',\n",
    "'Founded Date',\n",
    "'Founded Date Precision',\n",
    "'C_Announced Date',\n",
    "'C_Announced Date Precision',\n",
    "'Acquired by',\n",
    "'Acquired by URL',\n",
    "'Industry Groups',\n",
    "'Industries',\n",
    "'Headquarters Location',\n",
    "'Headquarters Regions',\n",
    "'Number of Founders',\n",
    "'Number of Employees',\n",
    "'Number of Articles',\n",
    "'Average Visits (6 months)',\n",
    "'Visit Duration',\n",
    "'Page Views / Visit',\n",
    "'Active Tech Count',\n",
    "'Patents Granted',\n",
    "'Trademarks Registered',\n",
    "'Total Products Active',\n",
    "'IT Spend',\n",
    "'IT Spend Currency',\n",
    "'IT Spend Currency (in USD)',\n",
    "'Number of Apps',\n",
    "'Downloads Last 30 Days',\n",
    "'Estimated Revenue Range',\n",
    "'Number of Funding Rounds',\n",
    "'Funding Status',\n",
    "'Last Funding Amount',\n",
    "'Last Funding Amount Currency',\n",
    "'Last Funding Amount Currency (in USD)',\n",
    "'Last Funding Type',\n",
    "'Last Equity Funding Amount',\n",
    "'Last Equity Funding Amount Currency',\n",
    "'Last Equity Funding Amount Currency (in USD)',\n",
    "'Last Equity Funding Type',\n",
    "'Total Equity Funding Amount',\n",
    "'Total Equity Funding Amount Currency',\n",
    "'Total Equity Funding Amount Currency (in USD)',\n",
    "'Total Funding Amount',\n",
    "'Total Funding Amount Currency',\n",
    "'Total Funding Amount Currency (in USD)',\n",
    "'Number of Portfolio Organizations',\n",
    "'Number of Investments',\n",
    "'Number of Lead Investments',\n",
    "'Number of Diversity Investments',\n",
    "'Number of Lead Investors',\n",
    "'Number of Investors']"
   ]
  },
  {
   "cell_type": "code",
   "execution_count": 164,
   "metadata": {},
   "outputs": [
    {
     "name": "stdout",
     "output_type": "stream",
     "text": [
      "<class 'pandas.core.frame.DataFrame'>\n",
      "RangeIndex: 64075 entries, 0 to 64074\n",
      "Data columns (total 50 columns):\n",
      " #   Column                                         Non-Null Count  Dtype  \n",
      "---  ------                                         --------------  -----  \n",
      " 0   Organization Name                              64075 non-null  object \n",
      " 1   Organization Name URL                          64075 non-null  object \n",
      " 2   Founded Date                                   64075 non-null  object \n",
      " 3   Founded Date Precision                         64075 non-null  object \n",
      " 4   C_Announced Date                               49708 non-null  object \n",
      " 5   C_Announced Date Precision                     49708 non-null  object \n",
      " 6   Acquired by                                    49708 non-null  object \n",
      " 7   Acquired by URL                                49708 non-null  object \n",
      " 8   Industry Groups                                63425 non-null  object \n",
      " 9   Industries                                     63425 non-null  object \n",
      " 10  Headquarters Location                          61940 non-null  object \n",
      " 11  Headquarters Regions                           51612 non-null  object \n",
      " 12  Number of Founders                             30142 non-null  float64\n",
      " 13  Number of Employees                            53032 non-null  object \n",
      " 14  Number of Articles                             34051 non-null  float64\n",
      " 15  Average Visits (6 months)                      18361 non-null  float64\n",
      " 16  Visit Duration                                 25851 non-null  float64\n",
      " 17  Page Views / Visit                             25851 non-null  float64\n",
      " 18  Active Tech Count                              54930 non-null  float64\n",
      " 19  Patents Granted                                18962 non-null  float64\n",
      " 20  Trademarks Registered                          18962 non-null  float64\n",
      " 21  Total Products Active                          34177 non-null  float64\n",
      " 22  IT Spend                                       9064 non-null   float64\n",
      " 23  IT Spend Currency                              9249 non-null   object \n",
      " 24  IT Spend Currency (in USD)                     9064 non-null   float64\n",
      " 25  Number of Apps                                 7943 non-null   float64\n",
      " 26  Downloads Last 30 Days                         3407 non-null   float64\n",
      " 27  Estimated Revenue Range                        22254 non-null  object \n",
      " 28  Number of Funding Rounds                       25300 non-null  float64\n",
      " 29  Funding Status                                 56066 non-null  object \n",
      " 30  Last Funding Amount                            18040 non-null  float64\n",
      " 31  Last Funding Amount Currency                   18040 non-null  object \n",
      " 32  Last Funding Amount Currency (in USD)          18040 non-null  float64\n",
      " 33  Last Funding Type                              25300 non-null  object \n",
      " 34  Last Equity Funding Amount                     17515 non-null  float64\n",
      " 35  Last Equity Funding Amount Currency            17515 non-null  object \n",
      " 36  Last Equity Funding Amount Currency (in USD)   17515 non-null  float64\n",
      " 37  Last Equity Funding Type                       24304 non-null  object \n",
      " 38  Total Equity Funding Amount                    19463 non-null  float64\n",
      " 39  Total Equity Funding Amount Currency           19463 non-null  object \n",
      " 40  Total Equity Funding Amount Currency (in USD)  19463 non-null  float64\n",
      " 41  Total Funding Amount                           20377 non-null  float64\n",
      " 42  Total Funding Amount Currency                  20377 non-null  object \n",
      " 43  Total Funding Amount Currency (in USD)         20377 non-null  float64\n",
      " 44  Number of Portfolio Organizations              2172 non-null   float64\n",
      " 45  Number of Investments                          2172 non-null   float64\n",
      " 46  Number of Lead Investments                     1234 non-null   float64\n",
      " 47  Number of Diversity Investments                326 non-null    float64\n",
      " 48  Number of Lead Investors                       15660 non-null  float64\n",
      " 49  Number of Investors                            22376 non-null  float64\n",
      "dtypes: float64(28), object(22)\n",
      "memory usage: 24.4+ MB\n"
     ]
    }
   ],
   "source": [
    "CI.info()"
   ]
  },
  {
   "cell_type": "code",
   "execution_count": 165,
   "metadata": {},
   "outputs": [],
   "source": [
    "CI2 = CI.loc[:, ['Organization Name',\n",
    "'Founded Date',\n",
    "'C_Announced Date',\n",
    "'Acquired by',\n",
    "'Industry Groups',\n",
    "'Industries',\n",
    "'Headquarters Location',\n",
    "'Headquarters Regions',\n",
    "'Number of Founders',\n",
    "'Number of Employees',\n",
    "'Number of Articles',\n",
    "'Average Visits (6 months)',\n",
    "'Visit Duration',\n",
    "'Page Views / Visit',\n",
    "'Active Tech Count',\n",
    "'Patents Granted',\n",
    "'Trademarks Registered',\n",
    "'Total Products Active',\n",
    "'IT Spend Currency (in USD)',\n",
    "'Number of Apps',\n",
    "'Downloads Last 30 Days',\n",
    "'Estimated Revenue Range',\n",
    "'Number of Funding Rounds', \n",
    "'Funding Status',\n",
    "'Last Funding Amount Currency (in USD)',\n",
    "'Last Funding Type',\n",
    "'Last Equity Funding Amount Currency (in USD)',\n",
    "'Last Equity Funding Type',\n",
    "'Total Equity Funding Amount Currency (in USD)',\n",
    "'Total Funding Amount Currency (in USD)',\n",
    "'Number of Portfolio Organizations',\n",
    "'Number of Investments',\n",
    "'Number of Lead Investments',\n",
    "'Number of Diversity Investments',\n",
    "'Number of Lead Investors',\n",
    "'Number of Investors']]"
   ]
  },
  {
   "cell_type": "code",
   "execution_count": 166,
   "metadata": {},
   "outputs": [],
   "source": [
    "#CI2.isna().sum()"
   ]
  },
  {
   "cell_type": "code",
   "execution_count": 167,
   "metadata": {},
   "outputs": [],
   "source": [
    "# 설립년도 년도만 짜르기\n",
    "year_F = []\n",
    "for i in CI2['Founded Date']:\n",
    "    new = i.split('-')[0]\n",
    "    year_F.append(int(new))\n",
    "\n",
    "CI2['Founded Date'] = year_F"
   ]
  },
  {
   "cell_type": "code",
   "execution_count": 172,
   "metadata": {},
   "outputs": [],
   "source": [
    "#거래년도 년도만 짜르기\n",
    "year_CA = []\n",
    "for i in CI2['C_Announced Date']:\n",
    "    new = str(i).split('-')[0]\n",
    "    if new == 'nan':\n",
    "        year_CA.append(np.nan)\n",
    "    else:\n",
    "        year_CA.append(int(new))\n",
    "\n",
    "CI2['C_Announced Date'] = year_CA"
   ]
  },
  {
   "cell_type": "code",
   "execution_count": 173,
   "metadata": {},
   "outputs": [
    {
     "data": {
      "text/plain": [
       "count    49708.000000\n",
       "mean      2015.851372\n",
       "std          4.074319\n",
       "min       1919.000000\n",
       "25%       2014.000000\n",
       "50%       2017.000000\n",
       "75%       2019.000000\n",
       "max       2021.000000\n",
       "Name: C_Announced Date, dtype: float64"
      ]
     },
     "execution_count": 173,
     "metadata": {},
     "output_type": "execute_result"
    }
   ],
   "source": [
    "CI2['C_Announced Date'].describe()"
   ]
  },
  {
   "cell_type": "code",
   "execution_count": 174,
   "metadata": {},
   "outputs": [],
   "source": [
    "#직원수 날짜 형식 -> str\n",
    "CI2['Number of Employees'] = CI2['Number of Employees'].replace('01월 10일', '01-10')"
   ]
  },
  {
   "cell_type": "code",
   "execution_count": 156,
   "metadata": {},
   "outputs": [],
   "source": [
    "#CI2['Number of Employees']"
   ]
  },
  {
   "cell_type": "code",
   "execution_count": 177,
   "metadata": {
    "scrolled": true
   },
   "outputs": [
    {
     "data": {
      "text/plain": [
       "14367"
      ]
     },
     "execution_count": 177,
     "metadata": {},
     "output_type": "execute_result"
    }
   ],
   "source": [
    "CI2['C_Announced Date'].isnull().sum()"
   ]
  },
  {
   "cell_type": "code",
   "execution_count": null,
   "metadata": {},
   "outputs": [],
   "source": []
  },
  {
   "cell_type": "code",
   "execution_count": 141,
   "metadata": {},
   "outputs": [],
   "source": [
    "CI2.to_excel('..\\\\data\\\\raw\\\\CompanyInfoPreprocessed.xlsx', encoding='utf-8', index=False)"
   ]
  },
  {
   "cell_type": "code",
   "execution_count": null,
   "metadata": {},
   "outputs": [],
   "source": []
  }
 ],
 "metadata": {
  "kernelspec": {
   "display_name": "Python 3",
   "language": "python",
   "name": "python3"
  },
  "language_info": {
   "codemirror_mode": {
    "name": "ipython",
    "version": 3
   },
   "file_extension": ".py",
   "mimetype": "text/x-python",
   "name": "python",
   "nbconvert_exporter": "python",
   "pygments_lexer": "ipython3",
   "version": "3.7.6"
  }
 },
 "nbformat": 4,
 "nbformat_minor": 4
}
