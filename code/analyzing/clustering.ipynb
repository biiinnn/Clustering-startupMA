{
 "cells": [
  {
   "cell_type": "code",
   "execution_count": 89,
   "metadata": {},
   "outputs": [],
   "source": [
    "import pandas as pd\n",
    "import numpy as np\n",
    "import collections\n",
    "import matplotlib.pyplot as plt\n",
    "from matplotlib import cm\n",
    "import seaborn as sns\n",
    "from sklearn.preprocessing import StandardScaler\n",
    "from sklearn.cluster import KMeans, AgglomerativeClustering, MeanShift, DBSCAN\n",
    "from sklearn.metrics import silhouette_score, silhouette_samples\n",
    "from statsmodels.formula.api import ols\n",
    "from statsmodels.stats.anova import anova_lm"
   ]
  },
  {
   "cell_type": "code",
   "execution_count": 90,
   "metadata": {},
   "outputs": [],
   "source": [
    "data = pd.read_excel('..\\\\data\\\\preprocessed\\\\data5.xlsx')"
   ]
  },
  {
   "cell_type": "code",
   "execution_count": 91,
   "metadata": {
    "scrolled": true
   },
   "outputs": [
    {
     "data": {
      "text/html": [
       "<div>\n",
       "<style scoped>\n",
       "    .dataframe tbody tr th:only-of-type {\n",
       "        vertical-align: middle;\n",
       "    }\n",
       "\n",
       "    .dataframe tbody tr th {\n",
       "        vertical-align: top;\n",
       "    }\n",
       "\n",
       "    .dataframe thead th {\n",
       "        text-align: right;\n",
       "    }\n",
       "</style>\n",
       "<table border=\"1\" class=\"dataframe\">\n",
       "  <thead>\n",
       "    <tr style=\"text-align: right;\">\n",
       "      <th></th>\n",
       "      <th>Announced Date</th>\n",
       "      <th>Industry Groups Similarity</th>\n",
       "      <th>Industries Similarity</th>\n",
       "      <th>Location Similarity</th>\n",
       "      <th>EE_Organization Name</th>\n",
       "      <th>EE_Founded Date</th>\n",
       "      <th>EE_Age</th>\n",
       "      <th>EE_Industry Groups</th>\n",
       "      <th>EE_Industries</th>\n",
       "      <th>EE_Headquarters Location</th>\n",
       "      <th>...</th>\n",
       "      <th>ER_Number of Articles</th>\n",
       "      <th>ER_Active Tech Count</th>\n",
       "      <th>ER_Patents Granted</th>\n",
       "      <th>ER_Trademarks Registered</th>\n",
       "      <th>ER_Total Products Active</th>\n",
       "      <th>ER_IT Spend Currency (in USD)</th>\n",
       "      <th>ER_Estimated Revenue Range</th>\n",
       "      <th>ER_Number of Funding Rounds</th>\n",
       "      <th>ER_Total Funding Amount Currency (in USD)</th>\n",
       "      <th>ER_Number of Investors</th>\n",
       "    </tr>\n",
       "  </thead>\n",
       "  <tbody>\n",
       "    <tr>\n",
       "      <th>0</th>\n",
       "      <td>2011</td>\n",
       "      <td>1.000000</td>\n",
       "      <td>0.200000</td>\n",
       "      <td>0.00</td>\n",
       "      <td>Unified Dispatch</td>\n",
       "      <td>2001</td>\n",
       "      <td>10</td>\n",
       "      <td>Mobile, Transportation</td>\n",
       "      <td>Automotive, Car Sharing, Mobile</td>\n",
       "      <td>Pasadena, California, United States</td>\n",
       "      <td>...</td>\n",
       "      <td>85</td>\n",
       "      <td>111</td>\n",
       "      <td>1</td>\n",
       "      <td>24</td>\n",
       "      <td>31</td>\n",
       "      <td>0</td>\n",
       "      <td>5000</td>\n",
       "      <td>1</td>\n",
       "      <td>0</td>\n",
       "      <td>2</td>\n",
       "    </tr>\n",
       "    <tr>\n",
       "      <th>1</th>\n",
       "      <td>2011</td>\n",
       "      <td>0.125000</td>\n",
       "      <td>0.000000</td>\n",
       "      <td>0.50</td>\n",
       "      <td>iVisit</td>\n",
       "      <td>2006</td>\n",
       "      <td>5</td>\n",
       "      <td>Hardware, Information Technology, Internet Ser...</td>\n",
       "      <td>Messaging, Software, Video Conferencing</td>\n",
       "      <td>Santa Monica, California, United States</td>\n",
       "      <td>...</td>\n",
       "      <td>127</td>\n",
       "      <td>43</td>\n",
       "      <td>27</td>\n",
       "      <td>3</td>\n",
       "      <td>21</td>\n",
       "      <td>71149</td>\n",
       "      <td>300</td>\n",
       "      <td>2</td>\n",
       "      <td>140000000</td>\n",
       "      <td>1</td>\n",
       "    </tr>\n",
       "    <tr>\n",
       "      <th>2</th>\n",
       "      <td>2011</td>\n",
       "      <td>0.250000</td>\n",
       "      <td>0.100000</td>\n",
       "      <td>0.50</td>\n",
       "      <td>Bring Light</td>\n",
       "      <td>2006</td>\n",
       "      <td>5</td>\n",
       "      <td>Community and Lifestyle, Internet Services, Other</td>\n",
       "      <td>Non Profit, Social, Social Network</td>\n",
       "      <td>Cupertino, California, United States</td>\n",
       "      <td>...</td>\n",
       "      <td>17</td>\n",
       "      <td>40</td>\n",
       "      <td>0</td>\n",
       "      <td>0</td>\n",
       "      <td>0</td>\n",
       "      <td>0</td>\n",
       "      <td>25</td>\n",
       "      <td>3</td>\n",
       "      <td>10500000</td>\n",
       "      <td>22</td>\n",
       "    </tr>\n",
       "    <tr>\n",
       "      <th>3</th>\n",
       "      <td>2011</td>\n",
       "      <td>0.333333</td>\n",
       "      <td>0.222222</td>\n",
       "      <td>0.50</td>\n",
       "      <td>nuBridges</td>\n",
       "      <td>2001</td>\n",
       "      <td>10</td>\n",
       "      <td>Hardware, Privacy and Security, Professional S...</td>\n",
       "      <td>Compliance, Data Storage, Security, Software</td>\n",
       "      <td>Atlanta, Georgia, United States</td>\n",
       "      <td>...</td>\n",
       "      <td>40</td>\n",
       "      <td>29</td>\n",
       "      <td>6</td>\n",
       "      <td>43</td>\n",
       "      <td>38</td>\n",
       "      <td>0</td>\n",
       "      <td>300</td>\n",
       "      <td>4</td>\n",
       "      <td>45727627</td>\n",
       "      <td>1</td>\n",
       "    </tr>\n",
       "    <tr>\n",
       "      <th>4</th>\n",
       "      <td>2011</td>\n",
       "      <td>0.142857</td>\n",
       "      <td>0.000000</td>\n",
       "      <td>0.20</td>\n",
       "      <td>ibeatyou</td>\n",
       "      <td>2007</td>\n",
       "      <td>4</td>\n",
       "      <td>Internet Services, Media and Entertainment, Video</td>\n",
       "      <td>Internet, Online Portals, Video</td>\n",
       "      <td>Santa Monica, California, United States</td>\n",
       "      <td>...</td>\n",
       "      <td>1119</td>\n",
       "      <td>22</td>\n",
       "      <td>12</td>\n",
       "      <td>9</td>\n",
       "      <td>53</td>\n",
       "      <td>0</td>\n",
       "      <td>75</td>\n",
       "      <td>12</td>\n",
       "      <td>49106783</td>\n",
       "      <td>9</td>\n",
       "    </tr>\n",
       "    <tr>\n",
       "      <th>...</th>\n",
       "      <td>...</td>\n",
       "      <td>...</td>\n",
       "      <td>...</td>\n",
       "      <td>...</td>\n",
       "      <td>...</td>\n",
       "      <td>...</td>\n",
       "      <td>...</td>\n",
       "      <td>...</td>\n",
       "      <td>...</td>\n",
       "      <td>...</td>\n",
       "      <td>...</td>\n",
       "      <td>...</td>\n",
       "      <td>...</td>\n",
       "      <td>...</td>\n",
       "      <td>...</td>\n",
       "      <td>...</td>\n",
       "      <td>...</td>\n",
       "      <td>...</td>\n",
       "      <td>...</td>\n",
       "      <td>...</td>\n",
       "      <td>...</td>\n",
       "    </tr>\n",
       "    <tr>\n",
       "      <th>11065</th>\n",
       "      <td>2021</td>\n",
       "      <td>0.500000</td>\n",
       "      <td>0.400000</td>\n",
       "      <td>0.00</td>\n",
       "      <td>Beach Bum</td>\n",
       "      <td>2015</td>\n",
       "      <td>6</td>\n",
       "      <td>Gaming, Software</td>\n",
       "      <td>Casual Games, Online Games, Software, Video Games</td>\n",
       "      <td>Ra'anana, HaMerkaz, Israel</td>\n",
       "      <td>...</td>\n",
       "      <td>11</td>\n",
       "      <td>50</td>\n",
       "      <td>0</td>\n",
       "      <td>1</td>\n",
       "      <td>25</td>\n",
       "      <td>0</td>\n",
       "      <td>300</td>\n",
       "      <td>6</td>\n",
       "      <td>516851844</td>\n",
       "      <td>7</td>\n",
       "    </tr>\n",
       "    <tr>\n",
       "      <th>11066</th>\n",
       "      <td>2021</td>\n",
       "      <td>1.000000</td>\n",
       "      <td>0.400000</td>\n",
       "      <td>0.20</td>\n",
       "      <td>Habitu8</td>\n",
       "      <td>2017</td>\n",
       "      <td>4</td>\n",
       "      <td>Information Technology, Privacy and Security, ...</td>\n",
       "      <td>Cyber Security, Security, Software</td>\n",
       "      <td>Torrance, California, United States</td>\n",
       "      <td>...</td>\n",
       "      <td>42</td>\n",
       "      <td>60</td>\n",
       "      <td>1</td>\n",
       "      <td>6</td>\n",
       "      <td>41</td>\n",
       "      <td>457832</td>\n",
       "      <td>300</td>\n",
       "      <td>7</td>\n",
       "      <td>498200000</td>\n",
       "      <td>14</td>\n",
       "    </tr>\n",
       "    <tr>\n",
       "      <th>11067</th>\n",
       "      <td>2021</td>\n",
       "      <td>0.333333</td>\n",
       "      <td>0.000000</td>\n",
       "      <td>0.00</td>\n",
       "      <td>Uncanny Vision</td>\n",
       "      <td>2012</td>\n",
       "      <td>9</td>\n",
       "      <td>Administrative Services, Artificial Intelligen...</td>\n",
       "      <td>Artificial Intelligence, Computer Vision, Imag...</td>\n",
       "      <td>Bangalore, Karnataka, India</td>\n",
       "      <td>...</td>\n",
       "      <td>60</td>\n",
       "      <td>15</td>\n",
       "      <td>15</td>\n",
       "      <td>1</td>\n",
       "      <td>25</td>\n",
       "      <td>0</td>\n",
       "      <td>5</td>\n",
       "      <td>4</td>\n",
       "      <td>95000000</td>\n",
       "      <td>3</td>\n",
       "    </tr>\n",
       "    <tr>\n",
       "      <th>11068</th>\n",
       "      <td>2021</td>\n",
       "      <td>0.250000</td>\n",
       "      <td>0.000000</td>\n",
       "      <td>0.00</td>\n",
       "      <td>Restorepoint</td>\n",
       "      <td>2008</td>\n",
       "      <td>13</td>\n",
       "      <td>Hardware, Information Technology, Privacy and ...</td>\n",
       "      <td>Data Center Automation, Enterprise Software, N...</td>\n",
       "      <td>Woking, Surrey, United Kingdom</td>\n",
       "      <td>...</td>\n",
       "      <td>92</td>\n",
       "      <td>91</td>\n",
       "      <td>16</td>\n",
       "      <td>5</td>\n",
       "      <td>45</td>\n",
       "      <td>6166194</td>\n",
       "      <td>300</td>\n",
       "      <td>6</td>\n",
       "      <td>214000000</td>\n",
       "      <td>7</td>\n",
       "    </tr>\n",
       "    <tr>\n",
       "      <th>11069</th>\n",
       "      <td>2021</td>\n",
       "      <td>1.000000</td>\n",
       "      <td>0.400000</td>\n",
       "      <td>0.25</td>\n",
       "      <td>The Music Fund</td>\n",
       "      <td>2017</td>\n",
       "      <td>4</td>\n",
       "      <td>Data and Analytics, Financial Services, Media ...</td>\n",
       "      <td>Analytics, Finance, FinTech, Music</td>\n",
       "      <td>San Francisco, California, United States</td>\n",
       "      <td>...</td>\n",
       "      <td>17</td>\n",
       "      <td>28</td>\n",
       "      <td>0</td>\n",
       "      <td>0</td>\n",
       "      <td>10</td>\n",
       "      <td>0</td>\n",
       "      <td>5</td>\n",
       "      <td>1</td>\n",
       "      <td>0</td>\n",
       "      <td>1</td>\n",
       "    </tr>\n",
       "  </tbody>\n",
       "</table>\n",
       "<p>11070 rows × 40 columns</p>\n",
       "</div>"
      ],
      "text/plain": [
       "       Announced Date  Industry Groups Similarity  Industries Similarity  \\\n",
       "0                2011                    1.000000               0.200000   \n",
       "1                2011                    0.125000               0.000000   \n",
       "2                2011                    0.250000               0.100000   \n",
       "3                2011                    0.333333               0.222222   \n",
       "4                2011                    0.142857               0.000000   \n",
       "...               ...                         ...                    ...   \n",
       "11065            2021                    0.500000               0.400000   \n",
       "11066            2021                    1.000000               0.400000   \n",
       "11067            2021                    0.333333               0.000000   \n",
       "11068            2021                    0.250000               0.000000   \n",
       "11069            2021                    1.000000               0.400000   \n",
       "\n",
       "       Location Similarity EE_Organization Name  EE_Founded Date  EE_Age  \\\n",
       "0                     0.00     Unified Dispatch             2001      10   \n",
       "1                     0.50               iVisit             2006       5   \n",
       "2                     0.50          Bring Light             2006       5   \n",
       "3                     0.50            nuBridges             2001      10   \n",
       "4                     0.20             ibeatyou             2007       4   \n",
       "...                    ...                  ...              ...     ...   \n",
       "11065                 0.00            Beach Bum             2015       6   \n",
       "11066                 0.20              Habitu8             2017       4   \n",
       "11067                 0.00       Uncanny Vision             2012       9   \n",
       "11068                 0.00         Restorepoint             2008      13   \n",
       "11069                 0.25       The Music Fund             2017       4   \n",
       "\n",
       "                                      EE_Industry Groups  \\\n",
       "0                                 Mobile, Transportation   \n",
       "1      Hardware, Information Technology, Internet Ser...   \n",
       "2      Community and Lifestyle, Internet Services, Other   \n",
       "3      Hardware, Privacy and Security, Professional S...   \n",
       "4      Internet Services, Media and Entertainment, Video   \n",
       "...                                                  ...   \n",
       "11065                                   Gaming, Software   \n",
       "11066  Information Technology, Privacy and Security, ...   \n",
       "11067  Administrative Services, Artificial Intelligen...   \n",
       "11068  Hardware, Information Technology, Privacy and ...   \n",
       "11069  Data and Analytics, Financial Services, Media ...   \n",
       "\n",
       "                                           EE_Industries  \\\n",
       "0                        Automotive, Car Sharing, Mobile   \n",
       "1                Messaging, Software, Video Conferencing   \n",
       "2                     Non Profit, Social, Social Network   \n",
       "3           Compliance, Data Storage, Security, Software   \n",
       "4                        Internet, Online Portals, Video   \n",
       "...                                                  ...   \n",
       "11065  Casual Games, Online Games, Software, Video Games   \n",
       "11066                 Cyber Security, Security, Software   \n",
       "11067  Artificial Intelligence, Computer Vision, Imag...   \n",
       "11068  Data Center Automation, Enterprise Software, N...   \n",
       "11069                 Analytics, Finance, FinTech, Music   \n",
       "\n",
       "                       EE_Headquarters Location  ...  ER_Number of Articles  \\\n",
       "0           Pasadena, California, United States  ...                     85   \n",
       "1       Santa Monica, California, United States  ...                    127   \n",
       "2          Cupertino, California, United States  ...                     17   \n",
       "3               Atlanta, Georgia, United States  ...                     40   \n",
       "4       Santa Monica, California, United States  ...                   1119   \n",
       "...                                         ...  ...                    ...   \n",
       "11065                Ra'anana, HaMerkaz, Israel  ...                     11   \n",
       "11066       Torrance, California, United States  ...                     42   \n",
       "11067               Bangalore, Karnataka, India  ...                     60   \n",
       "11068            Woking, Surrey, United Kingdom  ...                     92   \n",
       "11069  San Francisco, California, United States  ...                     17   \n",
       "\n",
       "       ER_Active Tech Count  ER_Patents Granted  ER_Trademarks Registered  \\\n",
       "0                       111                   1                        24   \n",
       "1                        43                  27                         3   \n",
       "2                        40                   0                         0   \n",
       "3                        29                   6                        43   \n",
       "4                        22                  12                         9   \n",
       "...                     ...                 ...                       ...   \n",
       "11065                    50                   0                         1   \n",
       "11066                    60                   1                         6   \n",
       "11067                    15                  15                         1   \n",
       "11068                    91                  16                         5   \n",
       "11069                    28                   0                         0   \n",
       "\n",
       "       ER_Total Products Active  ER_IT Spend Currency (in USD)  \\\n",
       "0                            31                              0   \n",
       "1                            21                          71149   \n",
       "2                             0                              0   \n",
       "3                            38                              0   \n",
       "4                            53                              0   \n",
       "...                         ...                            ...   \n",
       "11065                        25                              0   \n",
       "11066                        41                         457832   \n",
       "11067                        25                              0   \n",
       "11068                        45                        6166194   \n",
       "11069                        10                              0   \n",
       "\n",
       "       ER_Estimated Revenue Range  ER_Number of Funding Rounds  \\\n",
       "0                            5000                            1   \n",
       "1                             300                            2   \n",
       "2                              25                            3   \n",
       "3                             300                            4   \n",
       "4                              75                           12   \n",
       "...                           ...                          ...   \n",
       "11065                         300                            6   \n",
       "11066                         300                            7   \n",
       "11067                           5                            4   \n",
       "11068                         300                            6   \n",
       "11069                           5                            1   \n",
       "\n",
       "       ER_Total Funding Amount Currency (in USD)  ER_Number of Investors  \n",
       "0                                              0                       2  \n",
       "1                                      140000000                       1  \n",
       "2                                       10500000                      22  \n",
       "3                                       45727627                       1  \n",
       "4                                       49106783                       9  \n",
       "...                                          ...                     ...  \n",
       "11065                                  516851844                       7  \n",
       "11066                                  498200000                      14  \n",
       "11067                                   95000000                       3  \n",
       "11068                                  214000000                       7  \n",
       "11069                                          0                       1  \n",
       "\n",
       "[11070 rows x 40 columns]"
      ]
     },
     "execution_count": 91,
     "metadata": {},
     "output_type": "execute_result"
    }
   ],
   "source": [
    "data"
   ]
  },
  {
   "cell_type": "code",
   "execution_count": 92,
   "metadata": {},
   "outputs": [],
   "source": [
    "# 비율\n",
    "data['Diff Age'] = (data['ER_Age']+0.0001)/(data['EE_Age']+0.0001)\n",
    "data['Number of Founders'] = (data['ER_Number of Founders']+0.0001)/(data['EE_Number of Founders']+0.0001)\n",
    "data['Number of Employees'] = (data['ER_Number of Employees']+0.0001)/(data['EE_Number of Employees']+0.0001)\n",
    "data['Number of Articles'] = (data['ER_Number of Articles']+0.0001)/(data['EE_Number of Articles']+0.0001)\n",
    "data['Active Tech Count'] = (data['ER_Active Tech Count']+0.0001)/(data['EE_Active Tech Count']+0.0001)\n",
    "data['Patents Granted'] = (data['ER_Patents Granted']+0.0001)/(data['EE_Patents Granted']+0.0001)\n",
    "data['Trademarks Registered'] = (data['ER_Trademarks Registered']+0.0001)/(data['EE_Trademarks Registered']+0.0001)\n",
    "data['Total Products Active'] = (data['ER_Total Products Active']+0.0001)/(data['EE_Total Products Active']+0.0001)\n",
    "data['IT Spend'] = (data['ER_IT Spend Currency (in USD)']+0.0001)/(data['EE_IT Spend Currency (in USD)']+0.000001)\n",
    "data['Estimated Revenue Range'] = (data['ER_Estimated Revenue Range']+0.0001)/(data['EE_Estimated Revenue Range']+0.0001)\n",
    "data['Number of Funding Rounds'] = (data['ER_Number of Funding Rounds']+0.0001)/(data['EE_Number of Funding Rounds']+0.0001)\n",
    "data['Total Funding Amount'] = (data['ER_Total Funding Amount Currency (in USD)']+0.0001)/(data['EE_Total Funding Amount Currency (in USD)']+0.0001)\n",
    "data['Number of Investors'] = (data['ER_Number of Investors']+0.0001)/(data['EE_Number of Investors']+0.0001)"
   ]
  },
  {
   "cell_type": "code",
   "execution_count": 93,
   "metadata": {},
   "outputs": [],
   "source": [
    "# 기술적인 변수\n",
    "## 두 기업의 특허와 상표 수 평균의 비율\n",
    "data['Diff_Tech'] = (((data['ER_Patents Granted']+data['ER_Trademarks Registered'])/2)+0.0001) / (((data['EE_Patents Granted']+data['EE_Trademarks Registered'])/2)+0.0001) "
   ]
  },
  {
   "cell_type": "code",
   "execution_count": 94,
   "metadata": {
    "scrolled": true
   },
   "outputs": [
    {
     "name": "stdout",
     "output_type": "stream",
     "text": [
      "<class 'pandas.core.frame.DataFrame'>\n",
      "RangeIndex: 11070 entries, 0 to 11069\n",
      "Data columns (total 54 columns):\n",
      " #   Column                                     Non-Null Count  Dtype  \n",
      "---  ------                                     --------------  -----  \n",
      " 0   Announced Date                             11070 non-null  int64  \n",
      " 1   Industry Groups Similarity                 11070 non-null  float64\n",
      " 2   Industries Similarity                      11070 non-null  float64\n",
      " 3   Location Similarity                        11070 non-null  float64\n",
      " 4   EE_Organization Name                       11070 non-null  object \n",
      " 5   EE_Founded Date                            11070 non-null  int64  \n",
      " 6   EE_Age                                     11070 non-null  int64  \n",
      " 7   EE_Industry Groups                         11070 non-null  object \n",
      " 8   EE_Industries                              11070 non-null  object \n",
      " 9   EE_Headquarters Location                   11070 non-null  object \n",
      " 10  EE_Number of Founders                      11070 non-null  int64  \n",
      " 11  EE_Number of Employees                     11070 non-null  int64  \n",
      " 12  EE_Number of Articles                      11070 non-null  int64  \n",
      " 13  EE_Active Tech Count                       11070 non-null  int64  \n",
      " 14  EE_Patents Granted                         11070 non-null  int64  \n",
      " 15  EE_Trademarks Registered                   11070 non-null  int64  \n",
      " 16  EE_Total Products Active                   11070 non-null  int64  \n",
      " 17  EE_IT Spend Currency (in USD)              11070 non-null  int64  \n",
      " 18  EE_Estimated Revenue Range                 11070 non-null  int64  \n",
      " 19  EE_Number of Funding Rounds                11070 non-null  int64  \n",
      " 20  EE_Total Funding Amount Currency (in USD)  11070 non-null  int64  \n",
      " 21  EE_Number of Investors                     11070 non-null  int64  \n",
      " 22  ER_Organization Name                       11070 non-null  object \n",
      " 23  ER_Founded Date                            11070 non-null  int64  \n",
      " 24  ER_Age                                     11070 non-null  int64  \n",
      " 25  ER_Industry Groups                         11070 non-null  object \n",
      " 26  ER_Industries                              11070 non-null  object \n",
      " 27  ER_Headquarters Location                   11070 non-null  object \n",
      " 28  ER_Number of Founders                      11070 non-null  int64  \n",
      " 29  ER_Number of Employees                     11070 non-null  int64  \n",
      " 30  ER_Number of Articles                      11070 non-null  int64  \n",
      " 31  ER_Active Tech Count                       11070 non-null  int64  \n",
      " 32  ER_Patents Granted                         11070 non-null  int64  \n",
      " 33  ER_Trademarks Registered                   11070 non-null  int64  \n",
      " 34  ER_Total Products Active                   11070 non-null  int64  \n",
      " 35  ER_IT Spend Currency (in USD)              11070 non-null  int64  \n",
      " 36  ER_Estimated Revenue Range                 11070 non-null  int64  \n",
      " 37  ER_Number of Funding Rounds                11070 non-null  int64  \n",
      " 38  ER_Total Funding Amount Currency (in USD)  11070 non-null  int64  \n",
      " 39  ER_Number of Investors                     11070 non-null  int64  \n",
      " 40  Diff Age                                   11070 non-null  float64\n",
      " 41  Number of Founders                         11070 non-null  float64\n",
      " 42  Number of Employees                        11070 non-null  float64\n",
      " 43  Number of Articles                         11070 non-null  float64\n",
      " 44  Active Tech Count                          11070 non-null  float64\n",
      " 45  Patents Granted                            11070 non-null  float64\n",
      " 46  Trademarks Registered                      11070 non-null  float64\n",
      " 47  Total Products Active                      11070 non-null  float64\n",
      " 48  IT Spend                                   11070 non-null  float64\n",
      " 49  Estimated Revenue Range                    11070 non-null  float64\n",
      " 50  Number of Funding Rounds                   11070 non-null  float64\n",
      " 51  Total Funding Amount                       11070 non-null  float64\n",
      " 52  Number of Investors                        11070 non-null  float64\n",
      " 53  Diff_Tech                                  11070 non-null  float64\n",
      "dtypes: float64(17), int64(29), object(8)\n",
      "memory usage: 4.6+ MB\n"
     ]
    }
   ],
   "source": [
    "data.info()"
   ]
  },
  {
   "cell_type": "code",
   "execution_count": 95,
   "metadata": {},
   "outputs": [],
   "source": [
    "data.columns = ['Announced_Date', 'Industry_Groups_Similarity', 'Industries_Similarity', 'Location_Similarity', \n",
    "                'EE_Name', 'EE_Founded_Date', 'EE_Age', 'EE_Industry Groups', 'EE_Industries', 'EE_Headquarters_Location',\n",
    "                'EE_Number_of_Founders', 'EE_Number_of_Employees', 'EE_Number_of_Articles', 'EE_Active_Tech_Count', \n",
    "                'EE_Patents_Granted', 'EE_Trademarks_Registered', 'EE_Total_Products_Active', 'EE_IT_Spend', \n",
    "                'EE_Estimated_Revenue_Range', 'EE_Number_of_Funding_Rounds', 'EE_Total_Funding_Amount', 'EE_Number_of_Investors',\n",
    "                'ER_Name', 'ER_Founded_Date', 'ER_Age', 'ER_Industry Groups', 'ER_Industries', 'ER_Headquarters_Location',\n",
    "                'ER_Number_of_Founders', 'ER_Number_of_Employees', 'ER_Number_of_Articles', 'ER_Active_Tech_Count', \n",
    "                'ER_Patents_Granted', 'ER_Trademarks_Registered', 'ER_Total_Products_Active', 'ER_IT_Spend', \n",
    "                'ER_Estimated_Revenue_Range', 'ER_Number_of_Funding_Rounds', 'ER_Total_Funding_Amount', 'ER_Number_of_Investors',\n",
    "                'Diff_Age', 'Diff_NFounders', 'Diff_NEmployees', 'Diff_NArticles', 'Diff_NTech', 'Diff_NPatents',\n",
    "                'Diff_NTrademarks', 'Diff_NProducts', 'Diff_IT_Spend', 'Diff_ERR', 'Diff_NFunding',\n",
    "                'Diff_Funding_Amount', 'Diff_NInvestors', 'Diff_Infra']"
   ]
  },
  {
   "cell_type": "code",
   "execution_count": 96,
   "metadata": {},
   "outputs": [],
   "source": [
    "C_data = data[['Industry_Groups_Similarity', 'Location_Similarity', 'Diff_Age', 'Diff_Infra', 'Diff_ERR']]"
   ]
  },
  {
   "cell_type": "code",
   "execution_count": 97,
   "metadata": {},
   "outputs": [],
   "source": [
    "scaler = StandardScaler()"
   ]
  },
  {
   "cell_type": "code",
   "execution_count": 98,
   "metadata": {},
   "outputs": [
    {
     "data": {
      "text/html": [
       "<div>\n",
       "<style scoped>\n",
       "    .dataframe tbody tr th:only-of-type {\n",
       "        vertical-align: middle;\n",
       "    }\n",
       "\n",
       "    .dataframe tbody tr th {\n",
       "        vertical-align: top;\n",
       "    }\n",
       "\n",
       "    .dataframe thead th {\n",
       "        text-align: right;\n",
       "    }\n",
       "</style>\n",
       "<table border=\"1\" class=\"dataframe\">\n",
       "  <thead>\n",
       "    <tr style=\"text-align: right;\">\n",
       "      <th></th>\n",
       "      <th>Industry_Groups_Similarity</th>\n",
       "      <th>Location_Similarity</th>\n",
       "      <th>Diff_Age</th>\n",
       "      <th>Diff_Infra</th>\n",
       "      <th>Diff_ERR</th>\n",
       "    </tr>\n",
       "  </thead>\n",
       "  <tbody>\n",
       "    <tr>\n",
       "      <th>count</th>\n",
       "      <td>1.107000e+04</td>\n",
       "      <td>1.107000e+04</td>\n",
       "      <td>1.107000e+04</td>\n",
       "      <td>1.107000e+04</td>\n",
       "      <td>1.107000e+04</td>\n",
       "    </tr>\n",
       "    <tr>\n",
       "      <th>mean</th>\n",
       "      <td>6.104923e-16</td>\n",
       "      <td>6.064260e-15</td>\n",
       "      <td>4.015256e-16</td>\n",
       "      <td>5.594290e-16</td>\n",
       "      <td>5.285115e-15</td>\n",
       "    </tr>\n",
       "    <tr>\n",
       "      <th>std</th>\n",
       "      <td>1.000045e+00</td>\n",
       "      <td>1.000045e+00</td>\n",
       "      <td>1.000045e+00</td>\n",
       "      <td>1.000045e+00</td>\n",
       "      <td>1.000045e+00</td>\n",
       "    </tr>\n",
       "    <tr>\n",
       "      <th>min</th>\n",
       "      <td>-1.361768e+00</td>\n",
       "      <td>-9.022966e-01</td>\n",
       "      <td>-6.980395e-02</td>\n",
       "      <td>-1.024674e-01</td>\n",
       "      <td>-2.279044e-01</td>\n",
       "    </tr>\n",
       "    <tr>\n",
       "      <th>25%</th>\n",
       "      <td>-7.102459e-01</td>\n",
       "      <td>-9.022966e-01</td>\n",
       "      <td>-6.965832e-02</td>\n",
       "      <td>-1.024672e-01</td>\n",
       "      <td>-2.279043e-01</td>\n",
       "    </tr>\n",
       "    <tr>\n",
       "      <th>50%</th>\n",
       "      <td>-5.872407e-02</td>\n",
       "      <td>-3.097375e-01</td>\n",
       "      <td>-6.956123e-02</td>\n",
       "      <td>-1.024566e-01</td>\n",
       "      <td>-2.278798e-01</td>\n",
       "    </tr>\n",
       "    <tr>\n",
       "      <th>75%</th>\n",
       "      <td>5.927977e-01</td>\n",
       "      <td>5.791012e-01</td>\n",
       "      <td>-6.938323e-02</td>\n",
       "      <td>-9.434198e-02</td>\n",
       "      <td>-2.074294e-01</td>\n",
       "    </tr>\n",
       "    <tr>\n",
       "      <th>max</th>\n",
       "      <td>2.547363e+00</td>\n",
       "      <td>2.060499e+00</td>\n",
       "      <td>3.682526e+01</td>\n",
       "      <td>3.434852e+01</td>\n",
       "      <td>7.962050e+00</td>\n",
       "    </tr>\n",
       "  </tbody>\n",
       "</table>\n",
       "</div>"
      ],
      "text/plain": [
       "       Industry_Groups_Similarity  Location_Similarity      Diff_Age  \\\n",
       "count                1.107000e+04         1.107000e+04  1.107000e+04   \n",
       "mean                 6.104923e-16         6.064260e-15  4.015256e-16   \n",
       "std                  1.000045e+00         1.000045e+00  1.000045e+00   \n",
       "min                 -1.361768e+00        -9.022966e-01 -6.980395e-02   \n",
       "25%                 -7.102459e-01        -9.022966e-01 -6.965832e-02   \n",
       "50%                 -5.872407e-02        -3.097375e-01 -6.956123e-02   \n",
       "75%                  5.927977e-01         5.791012e-01 -6.938323e-02   \n",
       "max                  2.547363e+00         2.060499e+00  3.682526e+01   \n",
       "\n",
       "         Diff_Infra      Diff_ERR  \n",
       "count  1.107000e+04  1.107000e+04  \n",
       "mean   5.594290e-16  5.285115e-15  \n",
       "std    1.000045e+00  1.000045e+00  \n",
       "min   -1.024674e-01 -2.279044e-01  \n",
       "25%   -1.024672e-01 -2.279043e-01  \n",
       "50%   -1.024566e-01 -2.278798e-01  \n",
       "75%   -9.434198e-02 -2.074294e-01  \n",
       "max    3.434852e+01  7.962050e+00  "
      ]
     },
     "execution_count": 98,
     "metadata": {},
     "output_type": "execute_result"
    }
   ],
   "source": [
    "scaled_df = pd.DataFrame(data = scaler.fit_transform(C_data), columns=C_data.columns)\n",
    "\n",
    "scaled_df.describe()"
   ]
  },
  {
   "cell_type": "code",
   "execution_count": 99,
   "metadata": {},
   "outputs": [],
   "source": [
    "def plotSilhouette(X, y_km):\n",
    "    cluster_labels = np.unique(y_km)\n",
    "    n_clusters = cluster_labels.shape[0]\n",
    "    silhouette_vals = silhouette_samples(X, y_km, metric = 'euclidean')\n",
    "    y_ax_lower, y_ax_upper = 0, 0\n",
    "    yticks = []\n",
    "\n",
    "    for i, c in enumerate(cluster_labels):\n",
    "        c_silhouette_vals = silhouette_vals[y_km == c]\n",
    "        c_silhouette_vals.sort()\n",
    "        y_ax_upper += len(c_silhouette_vals)\n",
    "        color = cm.jet(i/n_clusters)\n",
    "\n",
    "        plt.barh(range(y_ax_lower, y_ax_upper), c_silhouette_vals, height=1.0,\n",
    "                edgecolor='none', color=color)\n",
    "        yticks.append((y_ax_lower + y_ax_upper)/2)\n",
    "        y_ax_lower += len(c_silhouette_vals)\n",
    "\n",
    "    silhoutte_avg = np.mean(silhouette_vals)\n",
    "    plt.axvline(silhoutte_avg, color = 'red', linestyle='--')\n",
    "    plt.yticks(yticks, cluster_labels+1)\n",
    "    plt.ylabel('K')\n",
    "    plt.xlabel('silhoutte')\n",
    "    plt.show()"
   ]
  },
  {
   "cell_type": "code",
   "execution_count": 100,
   "metadata": {},
   "outputs": [
    {
     "data": {
      "text/plain": [
       "[<matplotlib.lines.Line2D at 0x2a8148535b0>]"
      ]
     },
     "execution_count": 100,
     "metadata": {},
     "output_type": "execute_result"
    },
    {
     "data": {
      "image/png": "[encoded data removed]",
      "text/plain": [
       "<Figure size 432x288 with 1 Axes>"
      ]
     },
     "metadata": {
      "needs_background": "light"
     },
     "output_type": "display_data"
    }
   ],
   "source": [
    "# K-Means\n",
    "inertia1=[]\n",
    "for n_cls in range(2,15):\n",
    "    kmeans = KMeans(n_clusters=n_cls)\n",
    "    kmeans.fit(scaled_df)\n",
    "    inertia1.append(kmeans.inertia_)\n",
    "    \n",
    "plt.plot(range(2,15), inertia1)    # elbow 확인"
   ]
  },
  {
   "cell_type": "code",
   "execution_count": 101,
   "metadata": {},
   "outputs": [],
   "source": [
    "kmeans=KMeans(n_clusters=6)\n",
    "kmeans_label=kmeans.fit_predict(scaled_df)"
   ]
  },
  {
   "cell_type": "code",
   "execution_count": 102,
   "metadata": {},
   "outputs": [
    {
     "data": {
      "text/plain": [
       "0.46903971096121383"
      ]
     },
     "execution_count": 102,
     "metadata": {},
     "output_type": "execute_result"
    }
   ],
   "source": [
    "silhouette_score(scaled_df, kmeans_label)"
   ]
  },
  {
   "cell_type": "code",
   "execution_count": 103,
   "metadata": {},
   "outputs": [
    {
     "data": {
      "text/plain": [
       "Counter({4: 387, 0: 6157, 3: 2707, 1: 1717, 2: 54, 5: 48})"
      ]
     },
     "execution_count": 103,
     "metadata": {},
     "output_type": "execute_result"
    }
   ],
   "source": [
    "collections.Counter(kmeans_label)"
   ]
  },
  {
   "cell_type": "code",
   "execution_count": 104,
   "metadata": {},
   "outputs": [
    {
     "data": {
      "image/png": "[encoded data removed]",
      "text/plain": [
       "<Figure size 432x288 with 1 Axes>"
      ]
     },
     "metadata": {
      "needs_background": "light"
     },
     "output_type": "display_data"
    }
   ],
   "source": [
    "plotSilhouette(scaled_df, kmeans_label)"
   ]
  },
  {
   "cell_type": "code",
   "execution_count": 74,
   "metadata": {},
   "outputs": [],
   "source": [
    "# Agglomerative\n",
    "aggl=AgglomerativeClustering(n_clusters=6)\n",
    "aggl.fit(scaled_df)\n",
    "aggl_label=aggl.labels_"
   ]
  },
  {
   "cell_type": "code",
   "execution_count": 75,
   "metadata": {},
   "outputs": [
    {
     "data": {
      "text/plain": [
       "0.4645595016784903"
      ]
     },
     "execution_count": 75,
     "metadata": {},
     "output_type": "execute_result"
    }
   ],
   "source": [
    "silhouette_score(scaled_df, aggl_label)"
   ]
  },
  {
   "cell_type": "code",
   "execution_count": 76,
   "metadata": {},
   "outputs": [
    {
     "data": {
      "text/plain": [
       "Counter({4: 384, 0: 7464, 3: 1640, 5: 1489, 1: 54, 2: 39})"
      ]
     },
     "execution_count": 76,
     "metadata": {},
     "output_type": "execute_result"
    }
   ],
   "source": [
    "collections.Counter(aggl_label)"
   ]
  },
  {
   "cell_type": "code",
   "execution_count": 77,
   "metadata": {},
   "outputs": [
    {
     "data": {
      "image/png": "[encoded data removed]",
      "text/plain": [
       "<Figure size 432x288 with 1 Axes>"
      ]
     },
     "metadata": {
      "needs_background": "light"
     },
     "output_type": "display_data"
    }
   ],
   "source": [
    "plotSilhouette(scaled_df, aggl_label)"
   ]
  },
  {
   "cell_type": "code",
   "execution_count": 78,
   "metadata": {},
   "outputs": [
    {
     "name": "stdout",
     "output_type": "stream",
     "text": [
      "최적의 bandwidth 값: 1.444\n"
     ]
    }
   ],
   "source": [
    "# MeanShift\n",
    "from sklearn.cluster import estimate_bandwidth\n",
    "\n",
    "bandwidth = estimate_bandwidth(scaled_df, quantile=0.25)\n",
    "print(\"최적의 bandwidth 값:\", round(bandwidth, 3))"
   ]
  },
  {
   "cell_type": "code",
   "execution_count": 79,
   "metadata": {},
   "outputs": [],
   "source": [
    "MS=MeanShift(bandwidth=1.444)\n",
    "MS_label=MS.fit_predict(scaled_df)"
   ]
  },
  {
   "cell_type": "code",
   "execution_count": 80,
   "metadata": {},
   "outputs": [
    {
     "data": {
      "text/plain": [
       "0.4016502173200638"
      ]
     },
     "execution_count": 80,
     "metadata": {},
     "output_type": "execute_result"
    }
   ],
   "source": [
    "silhouette_score(scaled_df, MS_label)"
   ]
  },
  {
   "cell_type": "code",
   "execution_count": 81,
   "metadata": {},
   "outputs": [
    {
     "data": {
      "image/png": "[encoded data removed]",
      "text/plain": [
       "<Figure size 432x288 with 1 Axes>"
      ]
     },
     "metadata": {
      "needs_background": "light"
     },
     "output_type": "display_data"
    }
   ],
   "source": [
    "plotSilhouette(scaled_df, MS_label)"
   ]
  },
  {
   "cell_type": "code",
   "execution_count": 82,
   "metadata": {},
   "outputs": [],
   "source": [
    "# DBSCAN\n",
    "dbscan = DBSCAN(eps=0.5, min_samples=200, metric='euclidean')\n",
    "dbscan_label = dbscan.fit_predict(scaled_df)"
   ]
  },
  {
   "cell_type": "code",
   "execution_count": 83,
   "metadata": {},
   "outputs": [
    {
     "data": {
      "text/plain": [
       "0.20341830204004555"
      ]
     },
     "execution_count": 83,
     "metadata": {},
     "output_type": "execute_result"
    }
   ],
   "source": [
    "silhouette_score(scaled_df, dbscan_label)"
   ]
  },
  {
   "cell_type": "code",
   "execution_count": 84,
   "metadata": {},
   "outputs": [
    {
     "data": {
      "text/plain": [
       "Counter({-1: 827, 0: 5589, 1: 3166, 2: 1488})"
      ]
     },
     "execution_count": 84,
     "metadata": {},
     "output_type": "execute_result"
    }
   ],
   "source": [
    "collections.Counter(dbscan_label)"
   ]
  },
  {
   "cell_type": "code",
   "execution_count": 85,
   "metadata": {},
   "outputs": [
    {
     "data": {
      "image/png": "[encoded data removed]",
      "text/plain": [
       "<Figure size 432x288 with 1 Axes>"
      ]
     },
     "metadata": {
      "needs_background": "light"
     },
     "output_type": "display_data"
    }
   ],
   "source": [
    "plotSilhouette(scaled_df, dbscan_label)"
   ]
  },
  {
   "cell_type": "code",
   "execution_count": 86,
   "metadata": {},
   "outputs": [],
   "source": [
    "# GMM\n",
    "from sklearn.mixture import GaussianMixture\n",
    "\n",
    "gmm = GaussianMixture(n_components=6)\n",
    "gmm_label = gmm.fit_predict(scaled_df)"
   ]
  },
  {
   "cell_type": "code",
   "execution_count": 87,
   "metadata": {},
   "outputs": [
    {
     "data": {
      "text/plain": [
       "0.3039074212674275"
      ]
     },
     "execution_count": 87,
     "metadata": {},
     "output_type": "execute_result"
    }
   ],
   "source": [
    "silhouette_score(scaled_df, gmm_label)"
   ]
  },
  {
   "cell_type": "code",
   "execution_count": 88,
   "metadata": {},
   "outputs": [
    {
     "data": {
      "image/png": "[encoded data removed]",
      "text/plain": [
       "<Figure size 432x288 with 1 Axes>"
      ]
     },
     "metadata": {
      "needs_background": "light"
     },
     "output_type": "display_data"
    }
   ],
   "source": [
    "plotSilhouette(scaled_df, gmm_label)"
   ]
  },
  {
   "cell_type": "code",
   "execution_count": null,
   "metadata": {},
   "outputs": [],
   "source": []
  },
  {
   "cell_type": "code",
   "execution_count": 112,
   "metadata": {},
   "outputs": [],
   "source": [
    "#변수별 시각화 - kmeans 기준\n",
    "data['label'] = kmeans_label"
   ]
  },
  {
   "cell_type": "code",
   "execution_count": 113,
   "metadata": {},
   "outputs": [
    {
     "data": {
      "text/plain": [
       "0    6157\n",
       "3    2707\n",
       "1    1717\n",
       "4     387\n",
       "2      54\n",
       "5      48\n",
       "Name: label, dtype: int64"
      ]
     },
     "execution_count": 113,
     "metadata": {},
     "output_type": "execute_result"
    }
   ],
   "source": [
    "data['label'].value_counts()"
   ]
  },
  {
   "cell_type": "code",
   "execution_count": 142,
   "metadata": {
    "scrolled": true
   },
   "outputs": [
    {
     "data": {
      "text/html": [
       "<div>\n",
       "<style scoped>\n",
       "    .dataframe tbody tr th:only-of-type {\n",
       "        vertical-align: middle;\n",
       "    }\n",
       "\n",
       "    .dataframe tbody tr th {\n",
       "        vertical-align: top;\n",
       "    }\n",
       "\n",
       "    .dataframe thead th {\n",
       "        text-align: right;\n",
       "    }\n",
       "</style>\n",
       "<table border=\"1\" class=\"dataframe\">\n",
       "  <thead>\n",
       "    <tr style=\"text-align: right;\">\n",
       "      <th></th>\n",
       "      <th>Announced_Date</th>\n",
       "      <th>Industry_Groups_Similarity</th>\n",
       "      <th>Industries_Similarity</th>\n",
       "      <th>Location_Similarity</th>\n",
       "      <th>EE_Name</th>\n",
       "      <th>EE_Founded_Date</th>\n",
       "      <th>EE_Age</th>\n",
       "      <th>EE_Industry Groups</th>\n",
       "      <th>EE_Industries</th>\n",
       "      <th>EE_Headquarters_Location</th>\n",
       "      <th>...</th>\n",
       "      <th>Diff_NPatents</th>\n",
       "      <th>Diff_NTrademarks</th>\n",
       "      <th>Diff_NProducts</th>\n",
       "      <th>Diff_IT_Spend</th>\n",
       "      <th>Diff_ERR</th>\n",
       "      <th>Diff_NFunding</th>\n",
       "      <th>Diff_Funding_Amount</th>\n",
       "      <th>Diff_NInvestors</th>\n",
       "      <th>Diff_Infra</th>\n",
       "      <th>label</th>\n",
       "    </tr>\n",
       "  </thead>\n",
       "  <tbody>\n",
       "    <tr>\n",
       "      <th>0</th>\n",
       "      <td>2011</td>\n",
       "      <td>1.000000</td>\n",
       "      <td>0.200000</td>\n",
       "      <td>0.000000</td>\n",
       "      <td>Unified Dispatch</td>\n",
       "      <td>2001</td>\n",
       "      <td>10</td>\n",
       "      <td>Mobile, Transportation</td>\n",
       "      <td>Automotive, Car Sharing, Mobile</td>\n",
       "      <td>Pasadena, California, United States</td>\n",
       "      <td>...</td>\n",
       "      <td>1.000000</td>\n",
       "      <td>240001.000000</td>\n",
       "      <td>310001.000000</td>\n",
       "      <td>100.000000</td>\n",
       "      <td>50000001.000000</td>\n",
       "      <td>1.000000</td>\n",
       "      <td>1.000000</td>\n",
       "      <td>1.999900</td>\n",
       "      <td>24.995201</td>\n",
       "      <td>4</td>\n",
       "    </tr>\n",
       "    <tr>\n",
       "      <th>1</th>\n",
       "      <td>2011</td>\n",
       "      <td>0.125000</td>\n",
       "      <td>0.000000</td>\n",
       "      <td>0.500000</td>\n",
       "      <td>iVisit</td>\n",
       "      <td>2006</td>\n",
       "      <td>5</td>\n",
       "      <td>Hardware, Information Technology, Internet Ser...</td>\n",
       "      <td>Messaging, Software, Video Conferencing</td>\n",
       "      <td>Santa Monica, California, United States</td>\n",
       "      <td>...</td>\n",
       "      <td>270001.000000</td>\n",
       "      <td>1.499975</td>\n",
       "      <td>210001.000000</td>\n",
       "      <td>71149000100.000015</td>\n",
       "      <td>3000001.000000</td>\n",
       "      <td>20001.000000</td>\n",
       "      <td>1400000000000.999756</td>\n",
       "      <td>10001.000000</td>\n",
       "      <td>14.998600</td>\n",
       "      <td>0</td>\n",
       "    </tr>\n",
       "    <tr>\n",
       "      <th>2</th>\n",
       "      <td>2011</td>\n",
       "      <td>0.250000</td>\n",
       "      <td>0.100000</td>\n",
       "      <td>0.500000</td>\n",
       "      <td>Bring Light</td>\n",
       "      <td>2006</td>\n",
       "      <td>5</td>\n",
       "      <td>Community and Lifestyle, Internet Services, Other</td>\n",
       "      <td>Non Profit, Social, Social Network</td>\n",
       "      <td>Cupertino, California, United States</td>\n",
       "      <td>...</td>\n",
       "      <td>1.000000</td>\n",
       "      <td>1.000000</td>\n",
       "      <td>0.000020</td>\n",
       "      <td>100.000000</td>\n",
       "      <td>250001.000000</td>\n",
       "      <td>2.999800</td>\n",
       "      <td>105000000001.000000</td>\n",
       "      <td>10.999500</td>\n",
       "      <td>1.000000</td>\n",
       "      <td>0</td>\n",
       "    </tr>\n",
       "    <tr>\n",
       "      <th>3</th>\n",
       "      <td>2011</td>\n",
       "      <td>0.333333</td>\n",
       "      <td>0.222222</td>\n",
       "      <td>0.500000</td>\n",
       "      <td>nuBridges</td>\n",
       "      <td>2001</td>\n",
       "      <td>10</td>\n",
       "      <td>Hardware, Privacy and Security, Professional S...</td>\n",
       "      <td>Compliance, Data Storage, Security, Software</td>\n",
       "      <td>Atlanta, Georgia, United States</td>\n",
       "      <td>...</td>\n",
       "      <td>60001.000000</td>\n",
       "      <td>430001.000000</td>\n",
       "      <td>380001.000000</td>\n",
       "      <td>100.000000</td>\n",
       "      <td>3000001.000000</td>\n",
       "      <td>3.999700</td>\n",
       "      <td>8.314114</td>\n",
       "      <td>1.000000</td>\n",
       "      <td>245001.000000</td>\n",
       "      <td>0</td>\n",
       "    </tr>\n",
       "    <tr>\n",
       "      <th>4</th>\n",
       "      <td>2011</td>\n",
       "      <td>0.142857</td>\n",
       "      <td>0.000000</td>\n",
       "      <td>0.200000</td>\n",
       "      <td>ibeatyou</td>\n",
       "      <td>2007</td>\n",
       "      <td>4</td>\n",
       "      <td>Internet Services, Media and Entertainment, Video</td>\n",
       "      <td>Internet, Online Portals, Video</td>\n",
       "      <td>Santa Monica, California, United States</td>\n",
       "      <td>...</td>\n",
       "      <td>120001.000000</td>\n",
       "      <td>90001.000000</td>\n",
       "      <td>5.888835</td>\n",
       "      <td>100.000000</td>\n",
       "      <td>750001.000000</td>\n",
       "      <td>5.999750</td>\n",
       "      <td>49.106783</td>\n",
       "      <td>2.999933</td>\n",
       "      <td>105001.000000</td>\n",
       "      <td>0</td>\n",
       "    </tr>\n",
       "    <tr>\n",
       "      <th>...</th>\n",
       "      <td>...</td>\n",
       "      <td>...</td>\n",
       "      <td>...</td>\n",
       "      <td>...</td>\n",
       "      <td>...</td>\n",
       "      <td>...</td>\n",
       "      <td>...</td>\n",
       "      <td>...</td>\n",
       "      <td>...</td>\n",
       "      <td>...</td>\n",
       "      <td>...</td>\n",
       "      <td>...</td>\n",
       "      <td>...</td>\n",
       "      <td>...</td>\n",
       "      <td>...</td>\n",
       "      <td>...</td>\n",
       "      <td>...</td>\n",
       "      <td>...</td>\n",
       "      <td>...</td>\n",
       "      <td>...</td>\n",
       "      <td>...</td>\n",
       "    </tr>\n",
       "    <tr>\n",
       "      <th>11065</th>\n",
       "      <td>2021</td>\n",
       "      <td>0.500000</td>\n",
       "      <td>0.400000</td>\n",
       "      <td>0.000000</td>\n",
       "      <td>Beach Bum</td>\n",
       "      <td>2015</td>\n",
       "      <td>6</td>\n",
       "      <td>Gaming, Software</td>\n",
       "      <td>Casual Games, Online Games, Software, Video Games</td>\n",
       "      <td>Ra'anana, HaMerkaz, Israel</td>\n",
       "      <td>...</td>\n",
       "      <td>1.000000</td>\n",
       "      <td>0.200016</td>\n",
       "      <td>250001.000000</td>\n",
       "      <td>100.000000</td>\n",
       "      <td>3000001.000000</td>\n",
       "      <td>60001.000000</td>\n",
       "      <td>5168518440001.000000</td>\n",
       "      <td>70001.000000</td>\n",
       "      <td>0.200032</td>\n",
       "      <td>3</td>\n",
       "    </tr>\n",
       "    <tr>\n",
       "      <th>11066</th>\n",
       "      <td>2021</td>\n",
       "      <td>1.000000</td>\n",
       "      <td>0.400000</td>\n",
       "      <td>0.200000</td>\n",
       "      <td>Habitu8</td>\n",
       "      <td>2017</td>\n",
       "      <td>4</td>\n",
       "      <td>Information Technology, Privacy and Security, ...</td>\n",
       "      <td>Cyber Security, Security, Software</td>\n",
       "      <td>Torrance, California, United States</td>\n",
       "      <td>...</td>\n",
       "      <td>10001.000000</td>\n",
       "      <td>1.499988</td>\n",
       "      <td>1.708330</td>\n",
       "      <td>457832000100.000000</td>\n",
       "      <td>3000001.000000</td>\n",
       "      <td>2.333289</td>\n",
       "      <td>4982000000001.000000</td>\n",
       "      <td>4.666544</td>\n",
       "      <td>1.749963</td>\n",
       "      <td>3</td>\n",
       "    </tr>\n",
       "    <tr>\n",
       "      <th>11067</th>\n",
       "      <td>2021</td>\n",
       "      <td>0.333333</td>\n",
       "      <td>0.000000</td>\n",
       "      <td>0.000000</td>\n",
       "      <td>Uncanny Vision</td>\n",
       "      <td>2012</td>\n",
       "      <td>9</td>\n",
       "      <td>Administrative Services, Artificial Intelligen...</td>\n",
       "      <td>Artificial Intelligence, Computer Vision, Imag...</td>\n",
       "      <td>Bangalore, Karnataka, India</td>\n",
       "      <td>...</td>\n",
       "      <td>150001.000000</td>\n",
       "      <td>10001.000000</td>\n",
       "      <td>1.923070</td>\n",
       "      <td>100.000000</td>\n",
       "      <td>4.999600</td>\n",
       "      <td>1.999950</td>\n",
       "      <td>950000000001.000000</td>\n",
       "      <td>1.499975</td>\n",
       "      <td>80001.000000</td>\n",
       "      <td>0</td>\n",
       "    </tr>\n",
       "    <tr>\n",
       "      <th>11068</th>\n",
       "      <td>2021</td>\n",
       "      <td>0.250000</td>\n",
       "      <td>0.000000</td>\n",
       "      <td>0.000000</td>\n",
       "      <td>Restorepoint</td>\n",
       "      <td>2008</td>\n",
       "      <td>13</td>\n",
       "      <td>Hardware, Information Technology, Privacy and ...</td>\n",
       "      <td>Data Center Automation, Enterprise Software, N...</td>\n",
       "      <td>Woking, Surrey, United Kingdom</td>\n",
       "      <td>...</td>\n",
       "      <td>160001.000000</td>\n",
       "      <td>50001.000000</td>\n",
       "      <td>2.999987</td>\n",
       "      <td>6166194000100.000000</td>\n",
       "      <td>59.998820</td>\n",
       "      <td>60001.000000</td>\n",
       "      <td>2140000000000.999756</td>\n",
       "      <td>70001.000000</td>\n",
       "      <td>105001.000000</td>\n",
       "      <td>0</td>\n",
       "    </tr>\n",
       "    <tr>\n",
       "      <th>11069</th>\n",
       "      <td>2021</td>\n",
       "      <td>1.000000</td>\n",
       "      <td>0.400000</td>\n",
       "      <td>0.250000</td>\n",
       "      <td>The Music Fund</td>\n",
       "      <td>2017</td>\n",
       "      <td>4</td>\n",
       "      <td>Data and Analytics, Financial Services, Media ...</td>\n",
       "      <td>Analytics, Finance, FinTech, Music</td>\n",
       "      <td>San Francisco, California, United States</td>\n",
       "      <td>...</td>\n",
       "      <td>1.000000</td>\n",
       "      <td>1.000000</td>\n",
       "      <td>100001.000000</td>\n",
       "      <td>100.000000</td>\n",
       "      <td>50001.000000</td>\n",
       "      <td>1.000000</td>\n",
       "      <td>0.000000</td>\n",
       "      <td>0.500025</td>\n",
       "      <td>1.000000</td>\n",
       "      <td>3</td>\n",
       "    </tr>\n",
       "  </tbody>\n",
       "</table>\n",
       "<p>11070 rows × 55 columns</p>\n",
       "</div>"
      ],
      "text/plain": [
       "       Announced_Date  Industry_Groups_Similarity  Industries_Similarity  \\\n",
       "0                2011                    1.000000               0.200000   \n",
       "1                2011                    0.125000               0.000000   \n",
       "2                2011                    0.250000               0.100000   \n",
       "3                2011                    0.333333               0.222222   \n",
       "4                2011                    0.142857               0.000000   \n",
       "...               ...                         ...                    ...   \n",
       "11065            2021                    0.500000               0.400000   \n",
       "11066            2021                    1.000000               0.400000   \n",
       "11067            2021                    0.333333               0.000000   \n",
       "11068            2021                    0.250000               0.000000   \n",
       "11069            2021                    1.000000               0.400000   \n",
       "\n",
       "       Location_Similarity           EE_Name  EE_Founded_Date  EE_Age  \\\n",
       "0                 0.000000  Unified Dispatch             2001      10   \n",
       "1                 0.500000            iVisit             2006       5   \n",
       "2                 0.500000       Bring Light             2006       5   \n",
       "3                 0.500000         nuBridges             2001      10   \n",
       "4                 0.200000          ibeatyou             2007       4   \n",
       "...                    ...               ...              ...     ...   \n",
       "11065             0.000000         Beach Bum             2015       6   \n",
       "11066             0.200000           Habitu8             2017       4   \n",
       "11067             0.000000    Uncanny Vision             2012       9   \n",
       "11068             0.000000      Restorepoint             2008      13   \n",
       "11069             0.250000    The Music Fund             2017       4   \n",
       "\n",
       "                                      EE_Industry Groups  \\\n",
       "0                                 Mobile, Transportation   \n",
       "1      Hardware, Information Technology, Internet Ser...   \n",
       "2      Community and Lifestyle, Internet Services, Other   \n",
       "3      Hardware, Privacy and Security, Professional S...   \n",
       "4      Internet Services, Media and Entertainment, Video   \n",
       "...                                                  ...   \n",
       "11065                                   Gaming, Software   \n",
       "11066  Information Technology, Privacy and Security, ...   \n",
       "11067  Administrative Services, Artificial Intelligen...   \n",
       "11068  Hardware, Information Technology, Privacy and ...   \n",
       "11069  Data and Analytics, Financial Services, Media ...   \n",
       "\n",
       "                                           EE_Industries  \\\n",
       "0                        Automotive, Car Sharing, Mobile   \n",
       "1                Messaging, Software, Video Conferencing   \n",
       "2                     Non Profit, Social, Social Network   \n",
       "3           Compliance, Data Storage, Security, Software   \n",
       "4                        Internet, Online Portals, Video   \n",
       "...                                                  ...   \n",
       "11065  Casual Games, Online Games, Software, Video Games   \n",
       "11066                 Cyber Security, Security, Software   \n",
       "11067  Artificial Intelligence, Computer Vision, Imag...   \n",
       "11068  Data Center Automation, Enterprise Software, N...   \n",
       "11069                 Analytics, Finance, FinTech, Music   \n",
       "\n",
       "                       EE_Headquarters_Location  ...  Diff_NPatents  \\\n",
       "0           Pasadena, California, United States  ...       1.000000   \n",
       "1       Santa Monica, California, United States  ...  270001.000000   \n",
       "2          Cupertino, California, United States  ...       1.000000   \n",
       "3               Atlanta, Georgia, United States  ...   60001.000000   \n",
       "4       Santa Monica, California, United States  ...  120001.000000   \n",
       "...                                         ...  ...            ...   \n",
       "11065                Ra'anana, HaMerkaz, Israel  ...       1.000000   \n",
       "11066       Torrance, California, United States  ...   10001.000000   \n",
       "11067               Bangalore, Karnataka, India  ...  150001.000000   \n",
       "11068            Woking, Surrey, United Kingdom  ...  160001.000000   \n",
       "11069  San Francisco, California, United States  ...       1.000000   \n",
       "\n",
       "       Diff_NTrademarks  Diff_NProducts        Diff_IT_Spend        Diff_ERR  \\\n",
       "0         240001.000000   310001.000000           100.000000 50000001.000000   \n",
       "1              1.499975   210001.000000   71149000100.000015  3000001.000000   \n",
       "2              1.000000        0.000020           100.000000   250001.000000   \n",
       "3         430001.000000   380001.000000           100.000000  3000001.000000   \n",
       "4          90001.000000        5.888835           100.000000   750001.000000   \n",
       "...                 ...             ...                  ...             ...   \n",
       "11065          0.200016   250001.000000           100.000000  3000001.000000   \n",
       "11066          1.499988        1.708330  457832000100.000000  3000001.000000   \n",
       "11067      10001.000000        1.923070           100.000000        4.999600   \n",
       "11068      50001.000000        2.999987 6166194000100.000000       59.998820   \n",
       "11069          1.000000   100001.000000           100.000000    50001.000000   \n",
       "\n",
       "       Diff_NFunding  Diff_Funding_Amount  Diff_NInvestors    Diff_Infra  \\\n",
       "0           1.000000             1.000000         1.999900     24.995201   \n",
       "1       20001.000000 1400000000000.999756     10001.000000     14.998600   \n",
       "2           2.999800  105000000001.000000        10.999500      1.000000   \n",
       "3           3.999700             8.314114         1.000000 245001.000000   \n",
       "4           5.999750            49.106783         2.999933 105001.000000   \n",
       "...              ...                  ...              ...           ...   \n",
       "11065   60001.000000 5168518440001.000000     70001.000000      0.200032   \n",
       "11066       2.333289 4982000000001.000000         4.666544      1.749963   \n",
       "11067       1.999950  950000000001.000000         1.499975  80001.000000   \n",
       "11068   60001.000000 2140000000000.999756     70001.000000 105001.000000   \n",
       "11069       1.000000             0.000000         0.500025      1.000000   \n",
       "\n",
       "       label  \n",
       "0          4  \n",
       "1          0  \n",
       "2          0  \n",
       "3          0  \n",
       "4          0  \n",
       "...      ...  \n",
       "11065      3  \n",
       "11066      3  \n",
       "11067      0  \n",
       "11068      0  \n",
       "11069      3  \n",
       "\n",
       "[11070 rows x 55 columns]"
      ]
     },
     "execution_count": 142,
     "metadata": {},
     "output_type": "execute_result"
    }
   ],
   "source": [
    "data"
   ]
  },
  {
   "cell_type": "code",
   "execution_count": 143,
   "metadata": {},
   "outputs": [],
   "source": [
    "data.to_excel('..\\\\data\\\\result\\\\clustering_final.xlsx', index=False)"
   ]
  },
  {
   "cell_type": "code",
   "execution_count": 116,
   "metadata": {},
   "outputs": [],
   "source": [
    "formula = 'label ~ Industry_Groups_Similarity+Industries_Similarity+Location_Similarity+EE_Age+EE_Number_of_Founders+EE_Number_of_Employees+EE_Number_of_Articles+EE_Active_Tech_Count+EE_Patents_Granted+EE_Trademarks_Registered+EE_Total_Products_Active+EE_IT_Spend+EE_Estimated_Revenue_Range+EE_Number_of_Funding_Rounds+EE_Total_Funding_Amount+EE_Number_of_Investors+ER_Age+ER_Number_of_Founders+ER_Number_of_Employees+ER_Number_of_Articles+ER_Active_Tech_Count+ER_Patents_Granted+ER_Trademarks_Registered+ER_Total_Products_Active+ER_IT_Spend+ER_Estimated_Revenue_Range+ER_Number_of_Funding_Rounds+ER_Total_Funding_Amount+ER_Number_of_Investors+Diff_Age+Diff_NFounders+Diff_NEmployees+Diff_NArticles+Diff_NTech+Diff_NPatents+Diff_NTrademarks+Diff_NProducts+Diff_IT_Spend+Diff_Infra+Diff_ERR+Diff_NFunding+Diff_Funding_Amount+Diff_NInvestors'"
   ]
  },
  {
   "cell_type": "code",
   "execution_count": 117,
   "metadata": {},
   "outputs": [],
   "source": [
    "pd.options.display.float_format = '{:.6f}'.format\n",
    "#pd.reset_option('display.float_format')"
   ]
  },
  {
   "cell_type": "code",
   "execution_count": 118,
   "metadata": {},
   "outputs": [
    {
     "data": {
      "text/html": [
       "<div>\n",
       "<style scoped>\n",
       "    .dataframe tbody tr th:only-of-type {\n",
       "        vertical-align: middle;\n",
       "    }\n",
       "\n",
       "    .dataframe tbody tr th {\n",
       "        vertical-align: top;\n",
       "    }\n",
       "\n",
       "    .dataframe thead th {\n",
       "        text-align: right;\n",
       "    }\n",
       "</style>\n",
       "<table border=\"1\" class=\"dataframe\">\n",
       "  <thead>\n",
       "    <tr style=\"text-align: right;\">\n",
       "      <th></th>\n",
       "      <th>df</th>\n",
       "      <th>sum_sq</th>\n",
       "      <th>mean_sq</th>\n",
       "      <th>F</th>\n",
       "      <th>PR(&gt;F)</th>\n",
       "    </tr>\n",
       "  </thead>\n",
       "  <tbody>\n",
       "    <tr>\n",
       "      <th>Industry_Groups_Similarity</th>\n",
       "      <td>1.000000</td>\n",
       "      <td>8374.414608</td>\n",
       "      <td>8374.414608</td>\n",
       "      <td>10498.732318</td>\n",
       "      <td>0.000000</td>\n",
       "    </tr>\n",
       "    <tr>\n",
       "      <th>Industries_Similarity</th>\n",
       "      <td>1.000000</td>\n",
       "      <td>53.972169</td>\n",
       "      <td>53.972169</td>\n",
       "      <td>67.663160</td>\n",
       "      <td>0.000000</td>\n",
       "    </tr>\n",
       "    <tr>\n",
       "      <th>Location_Similarity</th>\n",
       "      <td>1.000000</td>\n",
       "      <td>35.369404</td>\n",
       "      <td>35.369404</td>\n",
       "      <td>44.341476</td>\n",
       "      <td>0.000000</td>\n",
       "    </tr>\n",
       "    <tr>\n",
       "      <th>EE_Age</th>\n",
       "      <td>1.000000</td>\n",
       "      <td>23.057858</td>\n",
       "      <td>23.057858</td>\n",
       "      <td>28.906890</td>\n",
       "      <td>0.000000</td>\n",
       "    </tr>\n",
       "    <tr>\n",
       "      <th>EE_Number_of_Founders</th>\n",
       "      <td>1.000000</td>\n",
       "      <td>4.318449</td>\n",
       "      <td>4.318449</td>\n",
       "      <td>5.413900</td>\n",
       "      <td>0.019995</td>\n",
       "    </tr>\n",
       "    <tr>\n",
       "      <th>EE_Number_of_Employees</th>\n",
       "      <td>1.000000</td>\n",
       "      <td>28.420195</td>\n",
       "      <td>28.420195</td>\n",
       "      <td>35.629477</td>\n",
       "      <td>0.000000</td>\n",
       "    </tr>\n",
       "    <tr>\n",
       "      <th>EE_Number_of_Articles</th>\n",
       "      <td>1.000000</td>\n",
       "      <td>0.194828</td>\n",
       "      <td>0.194828</td>\n",
       "      <td>0.244250</td>\n",
       "      <td>0.621163</td>\n",
       "    </tr>\n",
       "    <tr>\n",
       "      <th>EE_Active_Tech_Count</th>\n",
       "      <td>1.000000</td>\n",
       "      <td>13.029271</td>\n",
       "      <td>13.029271</td>\n",
       "      <td>16.334375</td>\n",
       "      <td>0.000053</td>\n",
       "    </tr>\n",
       "    <tr>\n",
       "      <th>EE_Patents_Granted</th>\n",
       "      <td>1.000000</td>\n",
       "      <td>0.043182</td>\n",
       "      <td>0.043182</td>\n",
       "      <td>0.054136</td>\n",
       "      <td>0.816021</td>\n",
       "    </tr>\n",
       "    <tr>\n",
       "      <th>EE_Trademarks_Registered</th>\n",
       "      <td>1.000000</td>\n",
       "      <td>1.266808</td>\n",
       "      <td>1.266808</td>\n",
       "      <td>1.588157</td>\n",
       "      <td>0.207616</td>\n",
       "    </tr>\n",
       "    <tr>\n",
       "      <th>EE_Total_Products_Active</th>\n",
       "      <td>1.000000</td>\n",
       "      <td>1.626255</td>\n",
       "      <td>1.626255</td>\n",
       "      <td>2.038783</td>\n",
       "      <td>0.153361</td>\n",
       "    </tr>\n",
       "    <tr>\n",
       "      <th>EE_IT_Spend</th>\n",
       "      <td>1.000000</td>\n",
       "      <td>0.694457</td>\n",
       "      <td>0.694457</td>\n",
       "      <td>0.870619</td>\n",
       "      <td>0.350805</td>\n",
       "    </tr>\n",
       "    <tr>\n",
       "      <th>EE_Estimated_Revenue_Range</th>\n",
       "      <td>1.000000</td>\n",
       "      <td>2.349390</td>\n",
       "      <td>2.349390</td>\n",
       "      <td>2.945354</td>\n",
       "      <td>0.086153</td>\n",
       "    </tr>\n",
       "    <tr>\n",
       "      <th>EE_Number_of_Funding_Rounds</th>\n",
       "      <td>1.000000</td>\n",
       "      <td>18.198192</td>\n",
       "      <td>18.198192</td>\n",
       "      <td>22.814483</td>\n",
       "      <td>0.000002</td>\n",
       "    </tr>\n",
       "    <tr>\n",
       "      <th>EE_Total_Funding_Amount</th>\n",
       "      <td>1.000000</td>\n",
       "      <td>0.964191</td>\n",
       "      <td>0.964191</td>\n",
       "      <td>1.208775</td>\n",
       "      <td>0.271599</td>\n",
       "    </tr>\n",
       "    <tr>\n",
       "      <th>EE_Number_of_Investors</th>\n",
       "      <td>1.000000</td>\n",
       "      <td>0.800650</td>\n",
       "      <td>0.800650</td>\n",
       "      <td>1.003749</td>\n",
       "      <td>0.316427</td>\n",
       "    </tr>\n",
       "    <tr>\n",
       "      <th>ER_Age</th>\n",
       "      <td>1.000000</td>\n",
       "      <td>2.775212</td>\n",
       "      <td>2.775212</td>\n",
       "      <td>3.479193</td>\n",
       "      <td>0.062172</td>\n",
       "    </tr>\n",
       "    <tr>\n",
       "      <th>ER_Number_of_Founders</th>\n",
       "      <td>1.000000</td>\n",
       "      <td>0.241291</td>\n",
       "      <td>0.241291</td>\n",
       "      <td>0.302498</td>\n",
       "      <td>0.582332</td>\n",
       "    </tr>\n",
       "    <tr>\n",
       "      <th>ER_Number_of_Employees</th>\n",
       "      <td>1.000000</td>\n",
       "      <td>675.802840</td>\n",
       "      <td>675.802840</td>\n",
       "      <td>847.232129</td>\n",
       "      <td>0.000000</td>\n",
       "    </tr>\n",
       "    <tr>\n",
       "      <th>ER_Number_of_Articles</th>\n",
       "      <td>1.000000</td>\n",
       "      <td>173.013836</td>\n",
       "      <td>173.013836</td>\n",
       "      <td>216.901842</td>\n",
       "      <td>0.000000</td>\n",
       "    </tr>\n",
       "    <tr>\n",
       "      <th>ER_Active_Tech_Count</th>\n",
       "      <td>1.000000</td>\n",
       "      <td>0.124042</td>\n",
       "      <td>0.124042</td>\n",
       "      <td>0.155507</td>\n",
       "      <td>0.693335</td>\n",
       "    </tr>\n",
       "    <tr>\n",
       "      <th>ER_Patents_Granted</th>\n",
       "      <td>1.000000</td>\n",
       "      <td>15.405402</td>\n",
       "      <td>15.405402</td>\n",
       "      <td>19.313253</td>\n",
       "      <td>0.000011</td>\n",
       "    </tr>\n",
       "    <tr>\n",
       "      <th>ER_Trademarks_Registered</th>\n",
       "      <td>1.000000</td>\n",
       "      <td>5.816441</td>\n",
       "      <td>5.816441</td>\n",
       "      <td>7.291884</td>\n",
       "      <td>0.006937</td>\n",
       "    </tr>\n",
       "    <tr>\n",
       "      <th>ER_Total_Products_Active</th>\n",
       "      <td>1.000000</td>\n",
       "      <td>2.397805</td>\n",
       "      <td>2.397805</td>\n",
       "      <td>3.006050</td>\n",
       "      <td>0.082982</td>\n",
       "    </tr>\n",
       "    <tr>\n",
       "      <th>ER_IT_Spend</th>\n",
       "      <td>1.000000</td>\n",
       "      <td>5.891327</td>\n",
       "      <td>5.891327</td>\n",
       "      <td>7.385766</td>\n",
       "      <td>0.006584</td>\n",
       "    </tr>\n",
       "    <tr>\n",
       "      <th>ER_Estimated_Revenue_Range</th>\n",
       "      <td>1.000000</td>\n",
       "      <td>746.739427</td>\n",
       "      <td>746.739427</td>\n",
       "      <td>936.163031</td>\n",
       "      <td>0.000000</td>\n",
       "    </tr>\n",
       "    <tr>\n",
       "      <th>ER_Number_of_Funding_Rounds</th>\n",
       "      <td>1.000000</td>\n",
       "      <td>0.045460</td>\n",
       "      <td>0.045460</td>\n",
       "      <td>0.056991</td>\n",
       "      <td>0.811320</td>\n",
       "    </tr>\n",
       "    <tr>\n",
       "      <th>ER_Total_Funding_Amount</th>\n",
       "      <td>1.000000</td>\n",
       "      <td>18.599127</td>\n",
       "      <td>18.599127</td>\n",
       "      <td>23.317123</td>\n",
       "      <td>0.000001</td>\n",
       "    </tr>\n",
       "    <tr>\n",
       "      <th>ER_Number_of_Investors</th>\n",
       "      <td>1.000000</td>\n",
       "      <td>2.350958</td>\n",
       "      <td>2.350958</td>\n",
       "      <td>2.947319</td>\n",
       "      <td>0.086048</td>\n",
       "    </tr>\n",
       "    <tr>\n",
       "      <th>Diff_Age</th>\n",
       "      <td>1.000000</td>\n",
       "      <td>635.252084</td>\n",
       "      <td>635.252084</td>\n",
       "      <td>796.394960</td>\n",
       "      <td>0.000000</td>\n",
       "    </tr>\n",
       "    <tr>\n",
       "      <th>Diff_NFounders</th>\n",
       "      <td>1.000000</td>\n",
       "      <td>0.642958</td>\n",
       "      <td>0.642958</td>\n",
       "      <td>0.806055</td>\n",
       "      <td>0.369309</td>\n",
       "    </tr>\n",
       "    <tr>\n",
       "      <th>Diff_NEmployees</th>\n",
       "      <td>1.000000</td>\n",
       "      <td>18.290203</td>\n",
       "      <td>18.290203</td>\n",
       "      <td>22.929835</td>\n",
       "      <td>0.000002</td>\n",
       "    </tr>\n",
       "    <tr>\n",
       "      <th>Diff_NArticles</th>\n",
       "      <td>1.000000</td>\n",
       "      <td>24.850605</td>\n",
       "      <td>24.850605</td>\n",
       "      <td>31.154398</td>\n",
       "      <td>0.000000</td>\n",
       "    </tr>\n",
       "    <tr>\n",
       "      <th>Diff_NTech</th>\n",
       "      <td>1.000000</td>\n",
       "      <td>0.676168</td>\n",
       "      <td>0.676168</td>\n",
       "      <td>0.847689</td>\n",
       "      <td>0.357227</td>\n",
       "    </tr>\n",
       "    <tr>\n",
       "      <th>Diff_NPatents</th>\n",
       "      <td>1.000000</td>\n",
       "      <td>13.318158</td>\n",
       "      <td>13.318158</td>\n",
       "      <td>16.696543</td>\n",
       "      <td>0.000044</td>\n",
       "    </tr>\n",
       "    <tr>\n",
       "      <th>Diff_NTrademarks</th>\n",
       "      <td>1.000000</td>\n",
       "      <td>0.807228</td>\n",
       "      <td>0.807228</td>\n",
       "      <td>1.011995</td>\n",
       "      <td>0.314447</td>\n",
       "    </tr>\n",
       "    <tr>\n",
       "      <th>Diff_NProducts</th>\n",
       "      <td>1.000000</td>\n",
       "      <td>1.051015</td>\n",
       "      <td>1.051015</td>\n",
       "      <td>1.317624</td>\n",
       "      <td>0.251044</td>\n",
       "    </tr>\n",
       "    <tr>\n",
       "      <th>Diff_IT_Spend</th>\n",
       "      <td>1.000000</td>\n",
       "      <td>0.032707</td>\n",
       "      <td>0.032707</td>\n",
       "      <td>0.041003</td>\n",
       "      <td>0.839535</td>\n",
       "    </tr>\n",
       "    <tr>\n",
       "      <th>Diff_Infra</th>\n",
       "      <td>1.000000</td>\n",
       "      <td>0.297574</td>\n",
       "      <td>0.297574</td>\n",
       "      <td>0.373058</td>\n",
       "      <td>0.541355</td>\n",
       "    </tr>\n",
       "    <tr>\n",
       "      <th>Diff_ERR</th>\n",
       "      <td>1.000000</td>\n",
       "      <td>1519.228507</td>\n",
       "      <td>1519.228507</td>\n",
       "      <td>1904.607566</td>\n",
       "      <td>0.000000</td>\n",
       "    </tr>\n",
       "    <tr>\n",
       "      <th>Diff_NFunding</th>\n",
       "      <td>1.000000</td>\n",
       "      <td>3.389539</td>\n",
       "      <td>3.389539</td>\n",
       "      <td>4.249355</td>\n",
       "      <td>0.039289</td>\n",
       "    </tr>\n",
       "    <tr>\n",
       "      <th>Diff_Funding_Amount</th>\n",
       "      <td>1.000000</td>\n",
       "      <td>32.569422</td>\n",
       "      <td>32.569422</td>\n",
       "      <td>40.831229</td>\n",
       "      <td>0.000000</td>\n",
       "    </tr>\n",
       "    <tr>\n",
       "      <th>Diff_NInvestors</th>\n",
       "      <td>1.000000</td>\n",
       "      <td>0.014868</td>\n",
       "      <td>0.014868</td>\n",
       "      <td>0.018640</td>\n",
       "      <td>0.891407</td>\n",
       "    </tr>\n",
       "    <tr>\n",
       "      <th>Residual</th>\n",
       "      <td>11027.000000</td>\n",
       "      <td>8795.792395</td>\n",
       "      <td>0.797660</td>\n",
       "      <td>nan</td>\n",
       "      <td>nan</td>\n",
       "    </tr>\n",
       "  </tbody>\n",
       "</table>\n",
       "</div>"
      ],
      "text/plain": [
       "                                      df      sum_sq     mean_sq            F  \\\n",
       "Industry_Groups_Similarity      1.000000 8374.414608 8374.414608 10498.732318   \n",
       "Industries_Similarity           1.000000   53.972169   53.972169    67.663160   \n",
       "Location_Similarity             1.000000   35.369404   35.369404    44.341476   \n",
       "EE_Age                          1.000000   23.057858   23.057858    28.906890   \n",
       "EE_Number_of_Founders           1.000000    4.318449    4.318449     5.413900   \n",
       "EE_Number_of_Employees          1.000000   28.420195   28.420195    35.629477   \n",
       "EE_Number_of_Articles           1.000000    0.194828    0.194828     0.244250   \n",
       "EE_Active_Tech_Count            1.000000   13.029271   13.029271    16.334375   \n",
       "EE_Patents_Granted              1.000000    0.043182    0.043182     0.054136   \n",
       "EE_Trademarks_Registered        1.000000    1.266808    1.266808     1.588157   \n",
       "EE_Total_Products_Active        1.000000    1.626255    1.626255     2.038783   \n",
       "EE_IT_Spend                     1.000000    0.694457    0.694457     0.870619   \n",
       "EE_Estimated_Revenue_Range      1.000000    2.349390    2.349390     2.945354   \n",
       "EE_Number_of_Funding_Rounds     1.000000   18.198192   18.198192    22.814483   \n",
       "EE_Total_Funding_Amount         1.000000    0.964191    0.964191     1.208775   \n",
       "EE_Number_of_Investors          1.000000    0.800650    0.800650     1.003749   \n",
       "ER_Age                          1.000000    2.775212    2.775212     3.479193   \n",
       "ER_Number_of_Founders           1.000000    0.241291    0.241291     0.302498   \n",
       "ER_Number_of_Employees          1.000000  675.802840  675.802840   847.232129   \n",
       "ER_Number_of_Articles           1.000000  173.013836  173.013836   216.901842   \n",
       "ER_Active_Tech_Count            1.000000    0.124042    0.124042     0.155507   \n",
       "ER_Patents_Granted              1.000000   15.405402   15.405402    19.313253   \n",
       "ER_Trademarks_Registered        1.000000    5.816441    5.816441     7.291884   \n",
       "ER_Total_Products_Active        1.000000    2.397805    2.397805     3.006050   \n",
       "ER_IT_Spend                     1.000000    5.891327    5.891327     7.385766   \n",
       "ER_Estimated_Revenue_Range      1.000000  746.739427  746.739427   936.163031   \n",
       "ER_Number_of_Funding_Rounds     1.000000    0.045460    0.045460     0.056991   \n",
       "ER_Total_Funding_Amount         1.000000   18.599127   18.599127    23.317123   \n",
       "ER_Number_of_Investors          1.000000    2.350958    2.350958     2.947319   \n",
       "Diff_Age                        1.000000  635.252084  635.252084   796.394960   \n",
       "Diff_NFounders                  1.000000    0.642958    0.642958     0.806055   \n",
       "Diff_NEmployees                 1.000000   18.290203   18.290203    22.929835   \n",
       "Diff_NArticles                  1.000000   24.850605   24.850605    31.154398   \n",
       "Diff_NTech                      1.000000    0.676168    0.676168     0.847689   \n",
       "Diff_NPatents                   1.000000   13.318158   13.318158    16.696543   \n",
       "Diff_NTrademarks                1.000000    0.807228    0.807228     1.011995   \n",
       "Diff_NProducts                  1.000000    1.051015    1.051015     1.317624   \n",
       "Diff_IT_Spend                   1.000000    0.032707    0.032707     0.041003   \n",
       "Diff_Infra                      1.000000    0.297574    0.297574     0.373058   \n",
       "Diff_ERR                        1.000000 1519.228507 1519.228507  1904.607566   \n",
       "Diff_NFunding                   1.000000    3.389539    3.389539     4.249355   \n",
       "Diff_Funding_Amount             1.000000   32.569422   32.569422    40.831229   \n",
       "Diff_NInvestors                 1.000000    0.014868    0.014868     0.018640   \n",
       "Residual                    11027.000000 8795.792395    0.797660          nan   \n",
       "\n",
       "                              PR(>F)  \n",
       "Industry_Groups_Similarity  0.000000  \n",
       "Industries_Similarity       0.000000  \n",
       "Location_Similarity         0.000000  \n",
       "EE_Age                      0.000000  \n",
       "EE_Number_of_Founders       0.019995  \n",
       "EE_Number_of_Employees      0.000000  \n",
       "EE_Number_of_Articles       0.621163  \n",
       "EE_Active_Tech_Count        0.000053  \n",
       "EE_Patents_Granted          0.816021  \n",
       "EE_Trademarks_Registered    0.207616  \n",
       "EE_Total_Products_Active    0.153361  \n",
       "EE_IT_Spend                 0.350805  \n",
       "EE_Estimated_Revenue_Range  0.086153  \n",
       "EE_Number_of_Funding_Rounds 0.000002  \n",
       "EE_Total_Funding_Amount     0.271599  \n",
       "EE_Number_of_Investors      0.316427  \n",
       "ER_Age                      0.062172  \n",
       "ER_Number_of_Founders       0.582332  \n",
       "ER_Number_of_Employees      0.000000  \n",
       "ER_Number_of_Articles       0.000000  \n",
       "ER_Active_Tech_Count        0.693335  \n",
       "ER_Patents_Granted          0.000011  \n",
       "ER_Trademarks_Registered    0.006937  \n",
       "ER_Total_Products_Active    0.082982  \n",
       "ER_IT_Spend                 0.006584  \n",
       "ER_Estimated_Revenue_Range  0.000000  \n",
       "ER_Number_of_Funding_Rounds 0.811320  \n",
       "ER_Total_Funding_Amount     0.000001  \n",
       "ER_Number_of_Investors      0.086048  \n",
       "Diff_Age                    0.000000  \n",
       "Diff_NFounders              0.369309  \n",
       "Diff_NEmployees             0.000002  \n",
       "Diff_NArticles              0.000000  \n",
       "Diff_NTech                  0.357227  \n",
       "Diff_NPatents               0.000044  \n",
       "Diff_NTrademarks            0.314447  \n",
       "Diff_NProducts              0.251044  \n",
       "Diff_IT_Spend               0.839535  \n",
       "Diff_Infra                  0.541355  \n",
       "Diff_ERR                    0.000000  \n",
       "Diff_NFunding               0.039289  \n",
       "Diff_Funding_Amount         0.000000  \n",
       "Diff_NInvestors             0.891407  \n",
       "Residual                         nan  "
      ]
     },
     "execution_count": 118,
     "metadata": {},
     "output_type": "execute_result"
    }
   ],
   "source": [
    "lm = ols(formula, data).fit()\n",
    "anova_lm(lm)"
   ]
  },
  {
   "cell_type": "code",
   "execution_count": 119,
   "metadata": {},
   "outputs": [],
   "source": [
    "cluster0 = data.loc[data['label']==0, :]\n",
    "cluster1 = data.loc[data['label']==1, :]\n",
    "cluster2 = data.loc[data['label']==2, :]\n",
    "cluster3 = data.loc[data['label']==3, :]\n",
    "cluster4 = data.loc[data['label']==4, :]\n",
    "cluster5 = data.loc[data['label']==5, :]"
   ]
  },
  {
   "cell_type": "code",
   "execution_count": 120,
   "metadata": {},
   "outputs": [
    {
     "name": "stdout",
     "output_type": "stream",
     "text": [
      "0: 0.215475\n",
      "1: 0.340812\n",
      "2: 0.241983\n",
      "3: 0.665456\n",
      "4: 0.296574\n",
      "5: 0.316948\n"
     ]
    }
   ],
   "source": [
    "print('0:',round(cluster0['Industry_Groups_Similarity'].mean(),6))\n",
    "print('1:',round(cluster1['Industry_Groups_Similarity'].mean(),6))\n",
    "print('2:',round(cluster2['Industry_Groups_Similarity'].mean(),6))\n",
    "print('3:',round(cluster3['Industry_Groups_Similarity'].mean(),6))\n",
    "print('4:',round(cluster4['Industry_Groups_Similarity'].mean(),6))\n",
    "print('5:',round(cluster5['Industry_Groups_Similarity'].mean(),6))"
   ]
  },
  {
   "cell_type": "code",
   "execution_count": 123,
   "metadata": {},
   "outputs": [
    {
     "name": "stdout",
     "output_type": "stream",
     "text": [
      "0: 0.11648\n",
      "1: 0.183141\n",
      "2: 0.084385\n",
      "3: 0.321424\n",
      "4: 0.127865\n",
      "5: 0.135475\n"
     ]
    }
   ],
   "source": [
    "print('0:',round(cluster0['Industries_Similarity'].mean(),6))\n",
    "print('1:',round(cluster1['Industries_Similarity'].mean(),6))\n",
    "print('2:',round(cluster2['Industries_Similarity'].mean(),6))\n",
    "print('3:',round(cluster3['Industries_Similarity'].mean(),6))\n",
    "print('4:',round(cluster4['Industries_Similarity'].mean(),6))\n",
    "print('5:',round(cluster5['Industries_Similarity'].mean(),6))"
   ]
  },
  {
   "cell_type": "code",
   "execution_count": 124,
   "metadata": {},
   "outputs": [
    {
     "name": "stdout",
     "output_type": "stream",
     "text": [
      "0: 0.172384\n",
      "1: 0.98641\n",
      "2: 0.282407\n",
      "3: 0.166273\n",
      "4: 0.336606\n",
      "5: 0.429861\n"
     ]
    }
   ],
   "source": [
    "print('0:',round(cluster0['Location_Similarity'].mean(),6))\n",
    "print('1:',round(cluster1['Location_Similarity'].mean(),6))\n",
    "print('2:',round(cluster2['Location_Similarity'].mean(),6))\n",
    "print('3:',round(cluster3['Location_Similarity'].mean(),6))\n",
    "print('4:',round(cluster4['Location_Similarity'].mean(),6))\n",
    "print('5:',round(cluster5['Location_Similarity'].mean(),6))"
   ]
  },
  {
   "cell_type": "code",
   "execution_count": 125,
   "metadata": {},
   "outputs": [
    {
     "name": "stdout",
     "output_type": "stream",
     "text": [
      "0: 40.7154\n",
      "1: 95.010541\n",
      "2: 3.364489\n",
      "3: 45.963096\n",
      "4: 209.066414\n",
      "5: 70001.0\n"
     ]
    }
   ],
   "source": [
    "print('0:',round(cluster0['Diff_Age'].mean(),6))\n",
    "print('1:',round(cluster1['Diff_Age'].mean(),6))\n",
    "print('2:',round(cluster2['Diff_Age'].mean(),6))\n",
    "print('3:',round(cluster3['Diff_Age'].mean(),6))\n",
    "print('4:',round(cluster4['Diff_Age'].mean(),6))\n",
    "print('5:',round(cluster5['Diff_Age'].mean(),6))"
   ]
  },
  {
   "cell_type": "code",
   "execution_count": 126,
   "metadata": {},
   "outputs": [
    {
     "name": "stdout",
     "output_type": "stream",
     "text": [
      "0: 66.218597\n",
      "1: 71.540821\n",
      "2: 1040.855382\n",
      "3: 49.220549\n",
      "4: 476.091369\n",
      "5: 88.399418\n"
     ]
    }
   ],
   "source": [
    "print('0:',round(cluster0['Diff_NEmployees'].mean(),6))\n",
    "print('1:',round(cluster1['Diff_NEmployees'].mean(),6))\n",
    "print('2:',round(cluster2['Diff_NEmployees'].mean(),6))\n",
    "print('3:',round(cluster3['Diff_NEmployees'].mean(),6))\n",
    "print('4:',round(cluster4['Diff_NEmployees'].mean(),6))\n",
    "print('5:',round(cluster5['Diff_NEmployees'].mean(),6))"
   ]
  },
  {
   "cell_type": "code",
   "execution_count": 127,
   "metadata": {},
   "outputs": [
    {
     "name": "stdout",
     "output_type": "stream",
     "text": [
      "0: 546542.125421\n",
      "1: 833893.941678\n",
      "2: 15866999.38657\n",
      "3: 274026.020831\n",
      "4: 14541889.660079\n",
      "5: 2442453.258716\n"
     ]
    }
   ],
   "source": [
    "print('0:',round(cluster0['Diff_NArticles'].mean(),6))\n",
    "print('1:',round(cluster1['Diff_NArticles'].mean(),6))\n",
    "print('2:',round(cluster2['Diff_NArticles'].mean(),6))\n",
    "print('3:',round(cluster3['Diff_NArticles'].mean(),6))\n",
    "print('4:',round(cluster4['Diff_NArticles'].mean(),6))\n",
    "print('5:',round(cluster5['Diff_NArticles'].mean(),6))"
   ]
  },
  {
   "cell_type": "code",
   "execution_count": 128,
   "metadata": {},
   "outputs": [
    {
     "name": "stdout",
     "output_type": "stream",
     "text": [
      "0: 398017.094896\n",
      "1: 505792.61609\n",
      "2: 108174815.814815\n",
      "3: 471220.665095\n",
      "4: 5322299.162649\n",
      "5: 619167.711307\n"
     ]
    }
   ],
   "source": [
    "print('0:',round(cluster0['Diff_NPatents'].mean(),6))\n",
    "print('1:',round(cluster1['Diff_NPatents'].mean(),6))\n",
    "print('2:',round(cluster2['Diff_NPatents'].mean(),6))\n",
    "print('3:',round(cluster3['Diff_NPatents'].mean(),6))\n",
    "print('4:',round(cluster4['Diff_NPatents'].mean(),6))\n",
    "print('5:',round(cluster5['Diff_NPatents'].mean(),6))"
   ]
  },
  {
   "cell_type": "code",
   "execution_count": 129,
   "metadata": {},
   "outputs": [
    {
     "name": "stdout",
     "output_type": "stream",
     "text": [
      "0: 497950.11809\n",
      "1: 499469.319607\n",
      "2: 61125689.850788\n",
      "3: 456206.950301\n",
      "4: 56976745.186047\n",
      "5: 6158751.208324\n"
     ]
    }
   ],
   "source": [
    "print('0:',round(cluster0['Diff_ERR'].mean(),6))\n",
    "print('1:',round(cluster1['Diff_ERR'].mean(),6))\n",
    "print('2:',round(cluster2['Diff_ERR'].mean(),6))\n",
    "print('3:',round(cluster3['Diff_ERR'].mean(),6))\n",
    "print('4:',round(cluster4['Diff_ERR'].mean(),6))\n",
    "print('5:',round(cluster5['Diff_ERR'].mean(),6))"
   ]
  },
  {
   "cell_type": "code",
   "execution_count": 130,
   "metadata": {},
   "outputs": [
    {
     "name": "stdout",
     "output_type": "stream",
     "text": [
      "0: 1116840227471.7412\n",
      "1: 1356322136851.2837\n",
      "2: 78369121242271.69\n",
      "3: 877796823957.3136\n",
      "4: 9574810557103.303\n",
      "5: 7149389423637.558\n"
     ]
    }
   ],
   "source": [
    "print('0:',round(cluster0['Diff_Funding_Amount'].mean(),6))\n",
    "print('1:',round(cluster1['Diff_Funding_Amount'].mean(),6))\n",
    "print('2:',round(cluster2['Diff_Funding_Amount'].mean(),6))\n",
    "print('3:',round(cluster3['Diff_Funding_Amount'].mean(),6))\n",
    "print('4:',round(cluster4['Diff_Funding_Amount'].mean(),6))\n",
    "print('5:',round(cluster5['Diff_Funding_Amount'].mean(),6))"
   ]
  },
  {
   "cell_type": "code",
   "execution_count": 131,
   "metadata": {},
   "outputs": [
    {
     "name": "stdout",
     "output_type": "stream",
     "text": [
      "0: 7.247848\n",
      "1: 5.649388\n",
      "2: 5.259259\n",
      "3: 7.534171\n",
      "4: 6.356589\n",
      "5: 0.0\n"
     ]
    }
   ],
   "source": [
    "print('0:',round(cluster0['EE_Age'].mean(),6))\n",
    "print('1:',round(cluster1['EE_Age'].mean(),6))\n",
    "print('2:',round(cluster2['EE_Age'].mean(),6))\n",
    "print('3:',round(cluster3['EE_Age'].mean(),6))\n",
    "print('4:',round(cluster4['EE_Age'].mean(),6))\n",
    "print('5:',round(cluster5['EE_Age'].mean(),6))"
   ]
  },
  {
   "cell_type": "code",
   "execution_count": 132,
   "metadata": {},
   "outputs": [
    {
     "name": "stdout",
     "output_type": "stream",
     "text": [
      "0: 153.673055\n",
      "1: 155.320326\n",
      "2: 617.777778\n",
      "3: 184.918729\n",
      "4: 418.320413\n",
      "5: 388.75\n"
     ]
    }
   ],
   "source": [
    "print('0:',round(cluster0['EE_Number_of_Employees'].mean(),6))\n",
    "print('1:',round(cluster1['EE_Number_of_Employees'].mean(),6))\n",
    "print('2:',round(cluster2['EE_Number_of_Employees'].mean(),6))\n",
    "print('3:',round(cluster3['EE_Number_of_Employees'].mean(),6))\n",
    "print('4:',round(cluster4['EE_Number_of_Employees'].mean(),6))\n",
    "print('5:',round(cluster5['EE_Number_of_Employees'].mean(),6))"
   ]
  },
  {
   "cell_type": "code",
   "execution_count": 133,
   "metadata": {},
   "outputs": [
    {
     "name": "stdout",
     "output_type": "stream",
     "text": [
      "0: 25.701965\n",
      "1: 23.313337\n",
      "2: 17.12963\n",
      "3: 24.422977\n",
      "4: 17.338501\n",
      "5: 21.791667\n"
     ]
    }
   ],
   "source": [
    "print('0:',round(cluster0['EE_Active_Tech_Count'].mean(),6))\n",
    "print('1:',round(cluster1['EE_Active_Tech_Count'].mean(),6))\n",
    "print('2:',round(cluster2['EE_Active_Tech_Count'].mean(),6))\n",
    "print('3:',round(cluster3['EE_Active_Tech_Count'].mean(),6))\n",
    "print('4:',round(cluster4['EE_Active_Tech_Count'].mean(),6))\n",
    "print('5:',round(cluster5['EE_Active_Tech_Count'].mean(),6))"
   ]
  },
  {
   "cell_type": "code",
   "execution_count": 134,
   "metadata": {},
   "outputs": [
    {
     "name": "stdout",
     "output_type": "stream",
     "text": [
      "0: 1.690758\n",
      "1: 1.752475\n",
      "2: 1.592593\n",
      "3: 1.917252\n",
      "4: 1.067183\n",
      "5: 0.770833\n"
     ]
    }
   ],
   "source": [
    "print('0:',round(cluster0['EE_Number_of_Funding_Rounds'].mean(),6))\n",
    "print('1:',round(cluster1['EE_Number_of_Funding_Rounds'].mean(),6))\n",
    "print('2:',round(cluster2['EE_Number_of_Funding_Rounds'].mean(),6))\n",
    "print('3:',round(cluster3['EE_Number_of_Funding_Rounds'].mean(),6))\n",
    "print('4:',round(cluster4['EE_Number_of_Funding_Rounds'].mean(),6))\n",
    "print('5:',round(cluster5['EE_Number_of_Funding_Rounds'].mean(),6))"
   ]
  },
  {
   "cell_type": "code",
   "execution_count": 135,
   "metadata": {},
   "outputs": [
    {
     "name": "stdout",
     "output_type": "stream",
     "text": [
      "0: 1335.488062\n",
      "1: 1139.280722\n",
      "2: 9815.37037\n",
      "3: 1205.487625\n",
      "4: 6695.465116\n",
      "5: 1609.166667\n"
     ]
    }
   ],
   "source": [
    "print('0:',round(cluster0['ER_Number_of_Employees'].mean(),6))\n",
    "print('1:',round(cluster1['ER_Number_of_Employees'].mean(),6))\n",
    "print('2:',round(cluster2['ER_Number_of_Employees'].mean(),6))\n",
    "print('3:',round(cluster3['ER_Number_of_Employees'].mean(),6))\n",
    "print('4:',round(cluster4['ER_Number_of_Employees'].mean(),6))\n",
    "print('5:',round(cluster5['ER_Number_of_Employees'].mean(),6))"
   ]
  },
  {
   "cell_type": "code",
   "execution_count": 136,
   "metadata": {},
   "outputs": [
    {
     "name": "stdout",
     "output_type": "stream",
     "text": [
      "0: 670.545071\n",
      "1: 914.94933\n",
      "2: 31691.055556\n",
      "3: 369.78611\n",
      "4: 8041.542636\n",
      "5: 2200.166667\n"
     ]
    }
   ],
   "source": [
    "print('0:',round(cluster0['ER_Number_of_Articles'].mean(),6))\n",
    "print('1:',round(cluster1['ER_Number_of_Articles'].mean(),6))\n",
    "print('2:',round(cluster2['ER_Number_of_Articles'].mean(),6))\n",
    "print('3:',round(cluster3['ER_Number_of_Articles'].mean(),6))\n",
    "print('4:',round(cluster4['ER_Number_of_Articles'].mean(),6))\n",
    "print('5:',round(cluster5['ER_Number_of_Articles'].mean(),6))"
   ]
  },
  {
   "cell_type": "code",
   "execution_count": 137,
   "metadata": {},
   "outputs": [
    {
     "name": "stdout",
     "output_type": "stream",
     "text": [
      "0: 92.010232\n",
      "1: 61.892836\n",
      "2: 10817.481481\n",
      "3: 70.219431\n",
      "4: 701.235142\n",
      "5: 62.270833\n"
     ]
    }
   ],
   "source": [
    "print('0:',round(cluster0['ER_Patents_Granted'].mean(),6))\n",
    "print('1:',round(cluster1['ER_Patents_Granted'].mean(),6))\n",
    "print('2:',round(cluster2['ER_Patents_Granted'].mean(),6))\n",
    "print('3:',round(cluster3['ER_Patents_Granted'].mean(),6))\n",
    "print('4:',round(cluster4['ER_Patents_Granted'].mean(),6))\n",
    "print('5:',round(cluster5['ER_Patents_Granted'].mean(),6))"
   ]
  },
  {
   "cell_type": "code",
   "execution_count": 138,
   "metadata": {},
   "outputs": [
    {
     "name": "stdout",
     "output_type": "stream",
     "text": [
      "0: 16.957772\n",
      "1: 11.635993\n",
      "2: 453.592593\n",
      "3: 18.673809\n",
      "4: 70.70801\n",
      "5: 14.958333\n"
     ]
    }
   ],
   "source": [
    "print('0:',round(cluster0['ER_Trademarks_Registered'].mean(),6))\n",
    "print('1:',round(cluster1['ER_Trademarks_Registered'].mean(),6))\n",
    "print('2:',round(cluster2['ER_Trademarks_Registered'].mean(),6))\n",
    "print('3:',round(cluster3['ER_Trademarks_Registered'].mean(),6))\n",
    "print('4:',round(cluster4['ER_Trademarks_Registered'].mean(),6))\n",
    "print('5:',round(cluster5['ER_Trademarks_Registered'].mean(),6))"
   ]
  },
  {
   "cell_type": "code",
   "execution_count": 139,
   "metadata": {},
   "outputs": [
    {
     "name": "stdout",
     "output_type": "stream",
     "text": [
      "0: 4038291.100861\n",
      "1: 3180760.329062\n",
      "2: 64661504.185185\n",
      "3: 3904689.059106\n",
      "4: 10238963.565891\n",
      "5: 8616086.666667\n"
     ]
    }
   ],
   "source": [
    "print('0:',round(cluster0['ER_IT_Spend'].mean(),6))\n",
    "print('1:',round(cluster1['ER_IT_Spend'].mean(),6))\n",
    "print('2:',round(cluster2['ER_IT_Spend'].mean(),6))\n",
    "print('3:',round(cluster3['ER_IT_Spend'].mean(),6))\n",
    "print('4:',round(cluster4['ER_IT_Spend'].mean(),6))\n",
    "print('5:',round(cluster5['ER_IT_Spend'].mean(),6))"
   ]
  },
  {
   "cell_type": "code",
   "execution_count": 140,
   "metadata": {},
   "outputs": [
    {
     "name": "stdout",
     "output_type": "stream",
     "text": [
      "0: 335.92269\n",
      "1: 320.543972\n",
      "2: 8242.592593\n",
      "3: 248.27041\n",
      "4: 5697.674419\n",
      "5: 619.208333\n"
     ]
    }
   ],
   "source": [
    "print('0:',round(cluster0['ER_Estimated_Revenue_Range'].mean(),6))\n",
    "print('1:',round(cluster1['ER_Estimated_Revenue_Range'].mean(),6))\n",
    "print('2:',round(cluster2['ER_Estimated_Revenue_Range'].mean(),6))\n",
    "print('3:',round(cluster3['ER_Estimated_Revenue_Range'].mean(),6))\n",
    "print('4:',round(cluster4['ER_Estimated_Revenue_Range'].mean(),6))\n",
    "print('5:',round(cluster5['ER_Estimated_Revenue_Range'].mean(),6))"
   ]
  },
  {
   "cell_type": "code",
   "execution_count": 141,
   "metadata": {},
   "outputs": [
    {
     "name": "stdout",
     "output_type": "stream",
     "text": [
      "0: 354259876.624005\n",
      "1: 466852479.807804\n",
      "2: 11721757074.666666\n",
      "3: 283383441.68563\n",
      "4: 2425363670.374677\n",
      "5: 808958098.166667\n"
     ]
    }
   ],
   "source": [
    "print('0:',round(cluster0['ER_Total_Funding_Amount'].mean(),6))\n",
    "print('1:',round(cluster1['ER_Total_Funding_Amount'].mean(),6))\n",
    "print('2:',round(cluster2['ER_Total_Funding_Amount'].mean(),6))\n",
    "print('3:',round(cluster3['ER_Total_Funding_Amount'].mean(),6))\n",
    "print('4:',round(cluster4['ER_Total_Funding_Amount'].mean(),6))\n",
    "print('5:',round(cluster5['ER_Total_Funding_Amount'].mean(),6))"
   ]
  },
  {
   "cell_type": "code",
   "execution_count": null,
   "metadata": {},
   "outputs": [],
   "source": []
  },
  {
   "cell_type": "code",
   "execution_count": 54,
   "metadata": {
    "scrolled": false
   },
   "outputs": [
    {
     "data": {
      "image/png": "[encoded data removed]",
      "text/plain": [
       "<Figure size 432x288 with 1 Axes>"
      ]
     },
     "metadata": {
      "needs_background": "light"
     },
     "output_type": "display_data"
    }
   ],
   "source": [
    "ax = sns.boxplot(data = data, x = 'label', y = 'Industry_Groups_Similarity')\n",
    "#ax.set_ylim(0,1)"
   ]
  },
  {
   "cell_type": "code",
   "execution_count": 55,
   "metadata": {},
   "outputs": [
    {
     "data": {
      "image/png": "[encoded data removed]",
      "text/plain": [
       "<Figure size 432x288 with 1 Axes>"
      ]
     },
     "metadata": {
      "needs_background": "light"
     },
     "output_type": "display_data"
    }
   ],
   "source": [
    "ax = sns.boxplot(data = data, x = 'label', y = 'Industries_Similarity')"
   ]
  },
  {
   "cell_type": "code",
   "execution_count": 56,
   "metadata": {
    "scrolled": false
   },
   "outputs": [
    {
     "data": {
      "text/plain": [
       "<matplotlib.axes._subplots.AxesSubplot at 0x1ac03d15fd0>"
      ]
     },
     "execution_count": 56,
     "metadata": {},
     "output_type": "execute_result"
    },
    {
     "data": {
      "image/png": "[encoded data removed]",
      "text/plain": [
       "<Figure size 432x288 with 1 Axes>"
      ]
     },
     "metadata": {
      "needs_background": "light"
     },
     "output_type": "display_data"
    }
   ],
   "source": [
    "sns.boxplot(data = data, x = 'label', y = 'Location_Similarity')"
   ]
  },
  {
   "cell_type": "code",
   "execution_count": 57,
   "metadata": {
    "scrolled": true
   },
   "outputs": [
    {
     "data": {
      "text/plain": [
       "<matplotlib.axes._subplots.AxesSubplot at 0x1ac03f86d60>"
      ]
     },
     "execution_count": 57,
     "metadata": {},
     "output_type": "execute_result"
    },
    {
     "data": {
      "image/png": "[encoded data removed]",
      "text/plain": [
       "<Figure size 432x288 with 1 Axes>"
      ]
     },
     "metadata": {
      "needs_background": "light"
     },
     "output_type": "display_data"
    }
   ],
   "source": [
    "sns.boxplot(data = data, x = 'label', y = 'Diff_Age')"
   ]
  },
  {
   "cell_type": "code",
   "execution_count": 58,
   "metadata": {
    "scrolled": true
   },
   "outputs": [
    {
     "data": {
      "text/plain": [
       "<matplotlib.axes._subplots.AxesSubplot at 0x1ac01e73df0>"
      ]
     },
     "execution_count": 58,
     "metadata": {},
     "output_type": "execute_result"
    },
    {
     "data": {
      "image/png": "[encoded data removed]",
      "text/plain": [
       "<Figure size 432x288 with 1 Axes>"
      ]
     },
     "metadata": {
      "needs_background": "light"
     },
     "output_type": "display_data"
    }
   ],
   "source": [
    "sns.boxplot(data = data, x = 'label', y = 'Patents_Granted')"
   ]
  },
  {
   "cell_type": "code",
   "execution_count": 59,
   "metadata": {
    "scrolled": true
   },
   "outputs": [
    {
     "data": {
      "text/plain": [
       "<matplotlib.axes._subplots.AxesSubplot at 0x1ac04cedd30>"
      ]
     },
     "execution_count": 59,
     "metadata": {},
     "output_type": "execute_result"
    },
    {
     "data": {
      "image/png": "[encoded data removed]",
      "text/plain": [
       "<Figure size 432x288 with 1 Axes>"
      ]
     },
     "metadata": {
      "needs_background": "light"
     },
     "output_type": "display_data"
    }
   ],
   "source": [
    "sns.boxplot(data = data, x = 'label', y = 'EE_Patents_Granted')"
   ]
  },
  {
   "cell_type": "code",
   "execution_count": 60,
   "metadata": {
    "scrolled": true
   },
   "outputs": [
    {
     "data": {
      "text/plain": [
       "<matplotlib.axes._subplots.AxesSubplot at 0x1ac020fa1f0>"
      ]
     },
     "execution_count": 60,
     "metadata": {},
     "output_type": "execute_result"
    },
    {
     "data": {
      "image/png": "[encoded data removed]",
      "text/plain": [
       "<Figure size 432x288 with 1 Axes>"
      ]
     },
     "metadata": {
      "needs_background": "light"
     },
     "output_type": "display_data"
    }
   ],
   "source": [
    "sns.boxplot(data = data, x = 'label', y = 'EE_Number_of_Funding_Rounds')"
   ]
  },
  {
   "cell_type": "code",
   "execution_count": 61,
   "metadata": {
    "scrolled": true
   },
   "outputs": [
    {
     "data": {
      "text/plain": [
       "<matplotlib.axes._subplots.AxesSubplot at 0x1ac03573be0>"
      ]
     },
     "execution_count": 61,
     "metadata": {},
     "output_type": "execute_result"
    },
    {
     "data": {
      "image/png": "[encoded data removed]",
      "text/plain": [
       "<Figure size 432x288 with 1 Axes>"
      ]
     },
     "metadata": {
      "needs_background": "light"
     },
     "output_type": "display_data"
    }
   ],
   "source": [
    "sns.boxplot(data = data, x = 'label', y = 'EE_Total_Funding_Amount')"
   ]
  },
  {
   "cell_type": "code",
   "execution_count": 62,
   "metadata": {
    "scrolled": true
   },
   "outputs": [
    {
     "data": {
      "text/plain": [
       "<matplotlib.axes._subplots.AxesSubplot at 0x1ac03684040>"
      ]
     },
     "execution_count": 62,
     "metadata": {},
     "output_type": "execute_result"
    },
    {
     "data": {
      "image/png": "[encoded data removed]",
      "text/plain": [
       "<Figure size 432x288 with 1 Axes>"
      ]
     },
     "metadata": {
      "needs_background": "light"
     },
     "output_type": "display_data"
    }
   ],
   "source": [
    "sns.boxplot(data = data, x = 'label', y = 'ER_Number_of_Founders')"
   ]
  },
  {
   "cell_type": "code",
   "execution_count": 63,
   "metadata": {
    "scrolled": true
   },
   "outputs": [
    {
     "data": {
      "text/plain": [
       "<matplotlib.axes._subplots.AxesSubplot at 0x1ac0088f820>"
      ]
     },
     "execution_count": 63,
     "metadata": {},
     "output_type": "execute_result"
    },
    {
     "data": {
      "image/png": "[encoded data removed]",
      "text/plain": [
       "<Figure size 432x288 with 1 Axes>"
      ]
     },
     "metadata": {
      "needs_background": "light"
     },
     "output_type": "display_data"
    }
   ],
   "source": [
    "sns.boxplot(data = data, x = 'label', y = 'ER_Active_Tech_Count')"
   ]
  },
  {
   "cell_type": "code",
   "execution_count": 64,
   "metadata": {
    "scrolled": true
   },
   "outputs": [
    {
     "data": {
      "text/plain": [
       "<matplotlib.axes._subplots.AxesSubplot at 0x1ac01729760>"
      ]
     },
     "execution_count": 64,
     "metadata": {},
     "output_type": "execute_result"
    },
    {
     "data": {
      "image/png": "[encoded data removed]",
      "text/plain": [
       "<Figure size 432x288 with 1 Axes>"
      ]
     },
     "metadata": {
      "needs_background": "light"
     },
     "output_type": "display_data"
    }
   ],
   "source": [
    "sns.boxplot(data = data, x = 'label', y = 'ER_IT_Spend')"
   ]
  },
  {
   "cell_type": "code",
   "execution_count": 65,
   "metadata": {
    "scrolled": true
   },
   "outputs": [
    {
     "data": {
      "text/plain": [
       "<matplotlib.axes._subplots.AxesSubplot at 0x1ac039665b0>"
      ]
     },
     "execution_count": 65,
     "metadata": {},
     "output_type": "execute_result"
    },
    {
     "data": {
      "image/png": "[encoded data removed]",
      "text/plain": [
       "<Figure size 432x288 with 1 Axes>"
      ]
     },
     "metadata": {
      "needs_background": "light"
     },
     "output_type": "display_data"
    }
   ],
   "source": [
    "sns.boxplot(data = data, x = 'label', y = 'ER_Number_of_Funding_Rounds')"
   ]
  }
 ],
 "metadata": {
  "kernelspec": {
   "display_name": "Python 3",
   "language": "python",
   "name": "python3"
  },
  "language_info": {
   "codemirror_mode": {
    "name": "ipython",
    "version": 3
   },
   "file_extension": ".py",
   "mimetype": "text/x-python",
   "name": "python",
   "nbconvert_exporter": "python",
   "pygments_lexer": "ipython3",
   "version": "3.7.6"
  }
 },
 "nbformat": 4,
 "nbformat_minor": 4
}
