{
 "cells": [
  {
   "cell_type": "code",
   "execution_count": 1,
   "metadata": {},
   "outputs": [],
   "source": [
    "import pandas as pd\n",
    "import numpy as np"
   ]
  },
  {
   "cell_type": "code",
   "execution_count": 9,
   "metadata": {},
   "outputs": [],
   "source": [
    "data = pd.read_excel(\"..\\\\data\\\\result\\\\clustering_final.xlsx\")"
   ]
  },
  {
   "cell_type": "code",
   "execution_count": 10,
   "metadata": {},
   "outputs": [],
   "source": [
    "data['label'] = data['label'].replace(4,2)"
   ]
  },
  {
   "cell_type": "code",
   "execution_count": 11,
   "metadata": {},
   "outputs": [
    {
     "data": {
      "text/plain": [
       "0    6157\n",
       "3    2707\n",
       "1    1717\n",
       "2     441\n",
       "5      48\n",
       "Name: label, dtype: int64"
      ]
     },
     "execution_count": 11,
     "metadata": {},
     "output_type": "execute_result"
    }
   ],
   "source": [
    "data['label'].value_counts()"
   ]
  },
  {
   "cell_type": "code",
   "execution_count": 13,
   "metadata": {},
   "outputs": [],
   "source": [
    "cluster0 = data.loc[data['label']==0, :]\n",
    "cluster1 = data.loc[data['label']==1, :]\n",
    "cluster2 = data.loc[data['label']==2, :]\n",
    "cluster3 = data.loc[data['label']==3, :]\n",
    "cluster4 = data.loc[data['label']==5, :]"
   ]
  },
  {
   "cell_type": "code",
   "execution_count": null,
   "metadata": {},
   "outputs": [],
   "source": []
  },
  {
   "cell_type": "code",
   "execution_count": 14,
   "metadata": {
    "scrolled": true
   },
   "outputs": [
    {
     "name": "stdout",
     "output_type": "stream",
     "text": [
      "0: 0.2155\n",
      "1: 0.3408\n",
      "2: 0.2899\n",
      "3: 0.6655\n",
      "4: 0.3169\n"
     ]
    }
   ],
   "source": [
    "print('0:',round(cluster0['Industry_Groups_Similarity'].mean(),4))\n",
    "print('1:',round(cluster1['Industry_Groups_Similarity'].mean(),4))\n",
    "print('2:',round(cluster2['Industry_Groups_Similarity'].mean(),4))\n",
    "print('3:',round(cluster3['Industry_Groups_Similarity'].mean(),4))\n",
    "print('4:',round(cluster4['Industry_Groups_Similarity'].mean(),4))"
   ]
  },
  {
   "cell_type": "code",
   "execution_count": 97,
   "metadata": {
    "scrolled": true
   },
   "outputs": [
    {
     "name": "stdout",
     "output_type": "stream",
     "text": [
      "all: 0.3484\n"
     ]
    }
   ],
   "source": [
    "print('all:',round(data['Industry_Groups_Similarity'].mean(),4))"
   ]
  },
  {
   "cell_type": "code",
   "execution_count": 98,
   "metadata": {
    "scrolled": true
   },
   "outputs": [
    {
     "name": "stdout",
     "output_type": "stream",
     "text": [
      "all: 0.3333\n"
     ]
    }
   ],
   "source": [
    "print('all:',round(data['Industry_Groups_Similarity'].median(),4))"
   ]
  },
  {
   "cell_type": "code",
   "execution_count": 128,
   "metadata": {},
   "outputs": [
    {
     "name": "stdout",
     "output_type": "stream",
     "text": [
      "0: 86.0\n",
      "1: 61.21\n",
      "2: 70.07\n",
      "3: 0.0\n",
      "4: 66.67\n"
     ]
    }
   ],
   "source": [
    "print('0:',round(len(cluster0[cluster0['Industry_Groups_Similarity'] <= data['Industry_Groups_Similarity'].mean()]) / len(cluster0) * 100, 2))\n",
    "print('1:',round(len(cluster1[cluster1['Industry_Groups_Similarity'] <= data['Industry_Groups_Similarity'].mean()]) / len(cluster1) * 100, 2))\n",
    "print('2:',round(len(cluster2[cluster2['Industry_Groups_Similarity'] <= data['Industry_Groups_Similarity'].mean()]) / len(cluster2) * 100, 2))\n",
    "print('3:',round(len(cluster3[cluster3['Industry_Groups_Similarity'] <= data['Industry_Groups_Similarity'].mean()]) / len(cluster3) * 100, 2))\n",
    "print('4:',round(len(cluster4[cluster4['Industry_Groups_Similarity'] <= data['Industry_Groups_Similarity'].mean()]) / len(cluster4) * 100, 2))"
   ]
  },
  {
   "cell_type": "code",
   "execution_count": null,
   "metadata": {},
   "outputs": [],
   "source": []
  },
  {
   "cell_type": "code",
   "execution_count": 129,
   "metadata": {
    "scrolled": true
   },
   "outputs": [
    {
     "name": "stdout",
     "output_type": "stream",
     "text": [
      "0: 0.1165\n",
      "1: 0.1831\n",
      "2: 0.1225\n",
      "3: 0.3214\n",
      "4: 0.1355\n"
     ]
    }
   ],
   "source": [
    "print('0:',round(cluster0['Industries_Similarity'].mean(),4))\n",
    "print('1:',round(cluster1['Industries_Similarity'].mean(),4))\n",
    "print('2:',round(cluster2['Industries_Similarity'].mean(),4))\n",
    "print('3:',round(cluster3['Industries_Similarity'].mean(),4))\n",
    "print('4:',round(cluster4['Industries_Similarity'].mean(),4))"
   ]
  },
  {
   "cell_type": "code",
   "execution_count": 130,
   "metadata": {},
   "outputs": [
    {
     "name": "stdout",
     "output_type": "stream",
     "text": [
      "all: 0.1773\n"
     ]
    }
   ],
   "source": [
    "print('all:',round(data['Industries_Similarity'].mean(),4))"
   ]
  },
  {
   "cell_type": "code",
   "execution_count": 131,
   "metadata": {},
   "outputs": [
    {
     "name": "stdout",
     "output_type": "stream",
     "text": [
      "all: 0.1429\n"
     ]
    }
   ],
   "source": [
    "print('all:',round(data['Industries_Similarity'].median(),4))"
   ]
  },
  {
   "cell_type": "code",
   "execution_count": 132,
   "metadata": {},
   "outputs": [
    {
     "name": "stdout",
     "output_type": "stream",
     "text": [
      "0: 72.49\n",
      "1: 61.21\n",
      "2: 72.56\n",
      "3: 26.41\n",
      "4: 68.75\n"
     ]
    }
   ],
   "source": [
    "print('0:',round(len(cluster0[cluster0['Industries_Similarity'] <= data['Industries_Similarity'].mean()]) / len(cluster0) * 100, 2))\n",
    "print('1:',round(len(cluster1[cluster1['Industries_Similarity'] <= data['Industries_Similarity'].mean()]) / len(cluster1) * 100, 2))\n",
    "print('2:',round(len(cluster2[cluster2['Industries_Similarity'] <= data['Industries_Similarity'].mean()]) / len(cluster2) * 100, 2))\n",
    "print('3:',round(len(cluster3[cluster3['Industries_Similarity'] <= data['Industries_Similarity'].mean()]) / len(cluster3) * 100, 2))\n",
    "print('4:',round(len(cluster4[cluster4['Industries_Similarity'] <= data['Industries_Similarity'].mean()]) / len(cluster4) * 100, 2))"
   ]
  },
  {
   "cell_type": "code",
   "execution_count": null,
   "metadata": {},
   "outputs": [],
   "source": []
  },
  {
   "cell_type": "code",
   "execution_count": 133,
   "metadata": {},
   "outputs": [
    {
     "name": "stdout",
     "output_type": "stream",
     "text": [
      "0: 0.1724\n",
      "1: 0.9864\n",
      "2: 0.33\n",
      "3: 0.1663\n",
      "4: 0.4299\n"
     ]
    }
   ],
   "source": [
    "print('0:',round(cluster0['Location_Similarity'].mean(),4))\n",
    "print('1:',round(cluster1['Location_Similarity'].mean(),4))\n",
    "print('2:',round(cluster2['Location_Similarity'].mean(),4))\n",
    "print('3:',round(cluster3['Location_Similarity'].mean(),4))\n",
    "print('4:',round(cluster4['Location_Similarity'].mean(),4))"
   ]
  },
  {
   "cell_type": "code",
   "execution_count": 134,
   "metadata": {},
   "outputs": [
    {
     "name": "stdout",
     "output_type": "stream",
     "text": [
      "all: 0.3045\n"
     ]
    }
   ],
   "source": [
    "print('all:',round(data['Location_Similarity'].mean(),4))"
   ]
  },
  {
   "cell_type": "code",
   "execution_count": 135,
   "metadata": {},
   "outputs": [
    {
     "name": "stdout",
     "output_type": "stream",
     "text": [
      "all: 0.2\n"
     ]
    }
   ],
   "source": [
    "print('all:',round(data['Location_Similarity'].median(),4))"
   ]
  },
  {
   "cell_type": "code",
   "execution_count": 136,
   "metadata": {},
   "outputs": [
    {
     "name": "stdout",
     "output_type": "stream",
     "text": [
      "0: 85.92\n",
      "1: 0.0\n",
      "2: 64.63\n",
      "3: 86.52\n",
      "4: 56.25\n"
     ]
    }
   ],
   "source": [
    "print('0:',round(len(cluster0[cluster0['Location_Similarity'] <= data['Location_Similarity'].mean()]) / len(cluster0) * 100, 2))\n",
    "print('1:',round(len(cluster1[cluster1['Location_Similarity'] <= data['Location_Similarity'].mean()]) / len(cluster1) * 100, 2))\n",
    "print('2:',round(len(cluster2[cluster2['Location_Similarity'] <= data['Location_Similarity'].mean()]) / len(cluster2) * 100, 2))\n",
    "print('3:',round(len(cluster3[cluster3['Location_Similarity'] <= data['Location_Similarity'].mean()]) / len(cluster3) * 100, 2))\n",
    "print('4:',round(len(cluster4[cluster4['Location_Similarity'] <= data['Location_Similarity'].mean()]) / len(cluster4) * 100, 2))"
   ]
  },
  {
   "cell_type": "code",
   "execution_count": null,
   "metadata": {},
   "outputs": [],
   "source": []
  },
  {
   "cell_type": "code",
   "execution_count": 62,
   "metadata": {},
   "outputs": [
    {
     "name": "stdout",
     "output_type": "stream",
     "text": [
      "0: 40.7154\n",
      "1: 95.0105\n",
      "2: 183.8784\n",
      "3: 45.9631\n",
      "4: 70001.0\n"
     ]
    }
   ],
   "source": [
    "print('0:',round(cluster0['Diff_Age'].mean(),4))\n",
    "print('1:',round(cluster1['Diff_Age'].mean(),4))\n",
    "print('2:',round(cluster2['Diff_Age'].mean(),4))\n",
    "print('3:',round(cluster3['Diff_Age'].mean(),4))\n",
    "print('4:',round(cluster4['Diff_Age'].mean(),4))"
   ]
  },
  {
   "cell_type": "code",
   "execution_count": 147,
   "metadata": {},
   "outputs": [
    {
     "name": "stdout",
     "output_type": "stream",
     "text": [
      "0: 1.25\n",
      "1: 1.2222\n",
      "2: 1.75\n",
      "3: 1.1818\n",
      "4: 60001.0\n"
     ]
    }
   ],
   "source": [
    "print('0:',round(cluster0['Diff_Age'].median(),4))\n",
    "print('1:',round(cluster1['Diff_Age'].median(),4))\n",
    "print('2:',round(cluster2['Diff_Age'].median(),4))\n",
    "print('3:',round(cluster3['Diff_Age'].median(),4))\n",
    "print('4:',round(cluster4['Diff_Age'].median(),4))"
   ]
  },
  {
   "cell_type": "code",
   "execution_count": 63,
   "metadata": {},
   "outputs": [
    {
     "name": "stdout",
     "output_type": "stream",
     "text": [
      "all: 359.4741\n"
     ]
    }
   ],
   "source": [
    "print('all:',round(data['Diff_Age'].mean(),4))"
   ]
  },
  {
   "cell_type": "code",
   "execution_count": 66,
   "metadata": {},
   "outputs": [
    {
     "name": "stdout",
     "output_type": "stream",
     "text": [
      "all: 1.25\n"
     ]
    }
   ],
   "source": [
    "print('all:',round(data['Diff_Age'].median(),4))"
   ]
  },
  {
   "cell_type": "code",
   "execution_count": 173,
   "metadata": {},
   "outputs": [
    {
     "name": "stdout",
     "output_type": "stream",
     "text": [
      "0: 50.06\n",
      "1: 51.72\n",
      "2: 61.45\n",
      "3: 53.01\n",
      "4: 0.0\n"
     ]
    }
   ],
   "source": [
    "print('0:',round(len(cluster0[cluster0['Diff_Age'] <= data['Diff_Age'].median()]) / len(cluster0) * 100, 2))\n",
    "print('1:',round(len(cluster1[cluster1['Diff_Age'] <= data['Diff_Age'].median()]) / len(cluster1) * 100, 2))\n",
    "print('2:',round(len(cluster2[cluster2['Diff_Age'] >= data['Diff_Age'].median()]) / len(cluster2) * 100, 2))\n",
    "print('3:',round(len(cluster3[cluster3['Diff_Age'] <= data['Diff_Age'].median()]) / len(cluster3) * 100, 2))\n",
    "print('4:',round(len(cluster4[cluster4['Diff_Age'] <= data['Diff_Age'].median()]) / len(cluster4) * 100, 2))"
   ]
  },
  {
   "cell_type": "code",
   "execution_count": null,
   "metadata": {},
   "outputs": [],
   "source": []
  },
  {
   "cell_type": "code",
   "execution_count": 148,
   "metadata": {},
   "outputs": [
    {
     "name": "stdout",
     "output_type": "stream",
     "text": [
      "0: 5.9999\n",
      "1: 5.9999\n",
      "2: 249.9992\n",
      "3: 5.9999\n",
      "4: 5.9999\n"
     ]
    }
   ],
   "source": [
    "print('0:',round(cluster0['Diff_NEmployees'].median(),4))\n",
    "print('1:',round(cluster1['Diff_NEmployees'].median(),4))\n",
    "print('2:',round(cluster2['Diff_NEmployees'].median(),4))\n",
    "print('3:',round(cluster3['Diff_NEmployees'].median(),4))\n",
    "print('4:',round(cluster4['Diff_NEmployees'].median(),4))"
   ]
  },
  {
   "cell_type": "code",
   "execution_count": 69,
   "metadata": {},
   "outputs": [
    {
     "name": "stdout",
     "output_type": "stream",
     "text": [
      "all: 82.0669\n"
     ]
    }
   ],
   "source": [
    "print('all:',round(data['Diff_NEmployees'].mean(),4))"
   ]
  },
  {
   "cell_type": "code",
   "execution_count": 70,
   "metadata": {
    "scrolled": false
   },
   "outputs": [
    {
     "name": "stdout",
     "output_type": "stream",
     "text": [
      "all: 5.9999\n"
     ]
    }
   ],
   "source": [
    "print('all:',round(data['Diff_NEmployees'].median(),4))"
   ]
  },
  {
   "cell_type": "code",
   "execution_count": 168,
   "metadata": {},
   "outputs": [
    {
     "name": "stdout",
     "output_type": "stream",
     "text": [
      "0: 50.43\n",
      "1: 56.61\n",
      "2: 88.89\n",
      "3: 54.12\n",
      "4: 52.08\n"
     ]
    }
   ],
   "source": [
    "print('0:',round(len(cluster0[cluster0['Diff_NEmployees'] <= data['Diff_NEmployees'].median()]) / len(cluster0) * 100, 2))\n",
    "print('1:',round(len(cluster1[cluster1['Diff_NEmployees'] <= data['Diff_NEmployees'].median()]) / len(cluster1) * 100, 2))\n",
    "print('2:',round(len(cluster2[cluster2['Diff_NEmployees'] >= data['Diff_NEmployees'].median()]) / len(cluster2) * 100, 2))\n",
    "print('3:',round(len(cluster3[cluster3['Diff_NEmployees'] <= data['Diff_NEmployees'].median()]) / len(cluster3) * 100, 2))\n",
    "print('4:',round(len(cluster4[cluster4['Diff_NEmployees'] <= data['Diff_NEmployees'].median()]) / len(cluster4) * 100, 2))"
   ]
  },
  {
   "cell_type": "code",
   "execution_count": null,
   "metadata": {},
   "outputs": [],
   "source": []
  },
  {
   "cell_type": "code",
   "execution_count": 149,
   "metadata": {},
   "outputs": [
    {
     "name": "stdout",
     "output_type": "stream",
     "text": [
      "0: 16.1714\n",
      "1: 15.6662\n",
      "2: 1200.2324\n",
      "3: 12.5554\n",
      "4: 216.0903\n"
     ]
    }
   ],
   "source": [
    "print('0:',round(cluster0['Diff_NArticles'].median(),4))\n",
    "print('1:',round(cluster1['Diff_NArticles'].median(),4))\n",
    "print('2:',round(cluster2['Diff_NArticles'].median(),4))\n",
    "print('3:',round(cluster3['Diff_NArticles'].median(),4))\n",
    "print('4:',round(cluster4['Diff_NArticles'].median(),4))"
   ]
  },
  {
   "cell_type": "code",
   "execution_count": 72,
   "metadata": {},
   "outputs": [
    {
     "name": "stdout",
     "output_type": "stream",
     "text": [
      "all: 1096694.7809\n"
     ]
    }
   ],
   "source": [
    "print('all:',round(data['Diff_NArticles'].mean(),4))"
   ]
  },
  {
   "cell_type": "code",
   "execution_count": 73,
   "metadata": {
    "scrolled": true
   },
   "outputs": [
    {
     "name": "stdout",
     "output_type": "stream",
     "text": [
      "all: 17.4992\n"
     ]
    }
   ],
   "source": [
    "print('all:',round(data['Diff_NArticles'].median(),4))"
   ]
  },
  {
   "cell_type": "code",
   "execution_count": 169,
   "metadata": {
    "scrolled": true
   },
   "outputs": [
    {
     "name": "stdout",
     "output_type": "stream",
     "text": [
      "0: 51.0\n",
      "1: 51.19\n",
      "2: 89.8\n",
      "3: 53.71\n",
      "4: 37.5\n"
     ]
    }
   ],
   "source": [
    "print('0:',round(len(cluster0[cluster0['Diff_NArticles'] <= data['Diff_NArticles'].median()]) / len(cluster0) * 100, 2))\n",
    "print('1:',round(len(cluster1[cluster1['Diff_NArticles'] <= data['Diff_NArticles'].median()]) / len(cluster1) * 100, 2))\n",
    "print('2:',round(len(cluster2[cluster2['Diff_NArticles'] >= data['Diff_NArticles'].median()]) / len(cluster2) * 100, 2))\n",
    "print('3:',round(len(cluster3[cluster3['Diff_NArticles'] <= data['Diff_NArticles'].median()]) / len(cluster3) * 100, 2))\n",
    "print('4:',round(len(cluster4[cluster4['Diff_NArticles'] <= data['Diff_NArticles'].median()]) / len(cluster4) * 100, 2))"
   ]
  },
  {
   "cell_type": "code",
   "execution_count": null,
   "metadata": {},
   "outputs": [],
   "source": []
  },
  {
   "cell_type": "code",
   "execution_count": 151,
   "metadata": {},
   "outputs": [
    {
     "name": "stdout",
     "output_type": "stream",
     "text": [
      "0: 1.0\n",
      "1: 1.0\n",
      "2: 140001.0\n",
      "3: 1.0\n",
      "4: 1.0\n"
     ]
    }
   ],
   "source": [
    "print('0:',round(cluster0['Diff_NPatents'].median(),4))\n",
    "print('1:',round(cluster1['Diff_NPatents'].median(),4))\n",
    "print('2:',round(cluster2['Diff_NPatents'].median(),4))\n",
    "print('3:',round(cluster3['Diff_NPatents'].median(),4))\n",
    "print('4:',round(cluster4['Diff_NPatents'].median(),4))"
   ]
  },
  {
   "cell_type": "code",
   "execution_count": 75,
   "metadata": {
    "scrolled": false
   },
   "outputs": [
    {
     "name": "stdout",
     "output_type": "stream",
     "text": [
      "all: 1131483.4142\n"
     ]
    }
   ],
   "source": [
    "print('all:',round(data['Diff_NPatents'].mean(),4))"
   ]
  },
  {
   "cell_type": "code",
   "execution_count": 76,
   "metadata": {
    "scrolled": true
   },
   "outputs": [
    {
     "name": "stdout",
     "output_type": "stream",
     "text": [
      "all: 1.0\n"
     ]
    }
   ],
   "source": [
    "print('all:',round(data['Diff_NPatents'].median(),4))"
   ]
  },
  {
   "cell_type": "code",
   "execution_count": 170,
   "metadata": {
    "scrolled": false
   },
   "outputs": [
    {
     "name": "stdout",
     "output_type": "stream",
     "text": [
      "0: 65.24\n",
      "1: 70.47\n",
      "2: 96.83\n",
      "3: 61.36\n",
      "4: 62.5\n"
     ]
    }
   ],
   "source": [
    "print('0:',round(len(cluster0[cluster0['Diff_NPatents'] <= data['Diff_NPatents'].median()]) / len(cluster0) * 100, 2))\n",
    "print('1:',round(len(cluster1[cluster1['Diff_NPatents'] <= data['Diff_NPatents'].median()]) / len(cluster1) * 100, 2))\n",
    "print('2:',round(len(cluster2[cluster2['Diff_NPatents'] >= data['Diff_NPatents'].median()]) / len(cluster2) * 100, 2))\n",
    "print('3:',round(len(cluster3[cluster3['Diff_NPatents'] <= data['Diff_NPatents'].median()]) / len(cluster3) * 100, 2))\n",
    "print('4:',round(len(cluster4[cluster4['Diff_NPatents'] <= data['Diff_NPatents'].median()]) / len(cluster4) * 100, 2))"
   ]
  },
  {
   "cell_type": "code",
   "execution_count": null,
   "metadata": {},
   "outputs": [],
   "source": []
  },
  {
   "cell_type": "code",
   "execution_count": 153,
   "metadata": {},
   "outputs": [
    {
     "name": "stdout",
     "output_type": "stream",
     "text": [
      "0: 149.997\n",
      "1: 10001.0\n",
      "2: 50000001.0\n",
      "3: 59.9988\n",
      "4: 150001.0\n"
     ]
    }
   ],
   "source": [
    "print('0:',round(cluster0['Diff_ERR'].median(),4))\n",
    "print('1:',round(cluster1['Diff_ERR'].median(),4))\n",
    "print('2:',round(cluster2['Diff_ERR'].median(),4))\n",
    "print('3:',round(cluster3['Diff_ERR'].median(),4))\n",
    "print('4:',round(cluster4['Diff_ERR'].median(),4))"
   ]
  },
  {
   "cell_type": "code",
   "execution_count": 78,
   "metadata": {
    "scrolled": true
   },
   "outputs": [
    {
     "name": "stdout",
     "output_type": "stream",
     "text": [
      "all: 2782730.5881\n"
     ]
    }
   ],
   "source": [
    "print('all:',round(data['Diff_ERR'].mean(),4))"
   ]
  },
  {
   "cell_type": "code",
   "execution_count": 79,
   "metadata": {
    "scrolled": true
   },
   "outputs": [
    {
     "name": "stdout",
     "output_type": "stream",
     "text": [
      "all: 299.9701\n"
     ]
    }
   ],
   "source": [
    "print('all:',round(data['Diff_ERR'].median(),4))"
   ]
  },
  {
   "cell_type": "code",
   "execution_count": 171,
   "metadata": {
    "scrolled": false
   },
   "outputs": [
    {
     "name": "stdout",
     "output_type": "stream",
     "text": [
      "0: 52.7\n",
      "1: 47.06\n",
      "2: 98.64\n",
      "3: 54.97\n",
      "4: 31.25\n"
     ]
    }
   ],
   "source": [
    "print('0:',round(len(cluster0[cluster0['Diff_ERR'] <= data['Diff_ERR'].median()]) / len(cluster0) * 100, 2))\n",
    "print('1:',round(len(cluster1[cluster1['Diff_ERR'] <= data['Diff_ERR'].median()]) / len(cluster1) * 100, 2))\n",
    "print('2:',round(len(cluster2[cluster2['Diff_ERR'] >= data['Diff_ERR'].median()]) / len(cluster2) * 100, 2))\n",
    "print('3:',round(len(cluster3[cluster3['Diff_ERR'] <= data['Diff_ERR'].median()]) / len(cluster3) * 100, 2))\n",
    "print('4:',round(len(cluster4[cluster4['Diff_ERR'] <= data['Diff_ERR'].median()]) / len(cluster4) * 100, 2))"
   ]
  },
  {
   "cell_type": "code",
   "execution_count": null,
   "metadata": {},
   "outputs": [],
   "source": []
  },
  {
   "cell_type": "code",
   "execution_count": 155,
   "metadata": {},
   "outputs": [
    {
     "name": "stdout",
     "output_type": "stream",
     "text": [
      "0: 54.0231\n",
      "1: 83.2536\n",
      "2: 45400000001.0\n",
      "3: 31.8186\n",
      "4: 36189960001.0\n"
     ]
    }
   ],
   "source": [
    "print('0:',round(cluster0['Diff_Funding_Amount'].median(),4))\n",
    "print('1:',round(cluster1['Diff_Funding_Amount'].median(),4))\n",
    "print('2:',round(cluster2['Diff_Funding_Amount'].median(),4))\n",
    "print('3:',round(cluster3['Diff_Funding_Amount'].median(),4))\n",
    "print('4:',round(cluster4['Diff_Funding_Amount'].median(),4))"
   ]
  },
  {
   "cell_type": "code",
   "execution_count": 81,
   "metadata": {
    "scrolled": false
   },
   "outputs": [
    {
     "name": "stdout",
     "output_type": "stream",
     "text": [
      "all: 1794213307767.2368\n"
     ]
    }
   ],
   "source": [
    "print('all:',round(data['Diff_Funding_Amount'].mean(),4))"
   ]
  },
  {
   "cell_type": "code",
   "execution_count": 82,
   "metadata": {
    "scrolled": true
   },
   "outputs": [
    {
     "name": "stdout",
     "output_type": "stream",
     "text": [
      "all: 58.1844\n"
     ]
    }
   ],
   "source": [
    "print('all:',round(data['Diff_Funding_Amount'].median(),4))"
   ]
  },
  {
   "cell_type": "code",
   "execution_count": 172,
   "metadata": {
    "scrolled": false
   },
   "outputs": [
    {
     "name": "stdout",
     "output_type": "stream",
     "text": [
      "0: 50.63\n",
      "1: 48.57\n",
      "2: 75.74\n",
      "3: 53.9\n",
      "4: 37.5\n"
     ]
    }
   ],
   "source": [
    "print('0:',round(len(cluster0[cluster0['Diff_Funding_Amount'] <= data['Diff_Funding_Amount'].median()]) / len(cluster0) * 100, 2))\n",
    "print('1:',round(len(cluster1[cluster1['Diff_Funding_Amount'] <= data['Diff_Funding_Amount'].median()]) / len(cluster1) * 100, 2))\n",
    "print('2:',round(len(cluster2[cluster2['Diff_Funding_Amount'] >= data['Diff_Funding_Amount'].median()]) / len(cluster2) * 100, 2))\n",
    "print('3:',round(len(cluster3[cluster3['Diff_Funding_Amount'] <= data['Diff_Funding_Amount'].median()]) / len(cluster3) * 100, 2))\n",
    "print('4:',round(len(cluster4[cluster4['Diff_Funding_Amount'] <= data['Diff_Funding_Amount'].median()]) / len(cluster4) * 100, 2))"
   ]
  },
  {
   "cell_type": "code",
   "execution_count": null,
   "metadata": {},
   "outputs": [],
   "source": []
  },
  {
   "cell_type": "code",
   "execution_count": 23,
   "metadata": {},
   "outputs": [
    {
     "name": "stdout",
     "output_type": "stream",
     "text": [
      "0: 7.2478\n",
      "1: 5.6494\n",
      "2: 6.2222\n",
      "3: 7.5342\n",
      "4: 0.0\n"
     ]
    }
   ],
   "source": [
    "print('0:',round(cluster0['EE_Age'].mean(),4))\n",
    "print('1:',round(cluster1['EE_Age'].mean(),4))\n",
    "print('2:',round(cluster2['EE_Age'].mean(),4))\n",
    "print('3:',round(cluster3['EE_Age'].mean(),4))\n",
    "print('4:',round(cluster4['EE_Age'].mean(),4))"
   ]
  },
  {
   "cell_type": "code",
   "execution_count": 84,
   "metadata": {
    "scrolled": true
   },
   "outputs": [
    {
     "name": "stdout",
     "output_type": "stream",
     "text": [
      "all: 6.9977\n"
     ]
    }
   ],
   "source": [
    "print('all:',round(data['EE_Age'].mean(),4))"
   ]
  },
  {
   "cell_type": "code",
   "execution_count": 85,
   "metadata": {
    "scrolled": true
   },
   "outputs": [
    {
     "name": "stdout",
     "output_type": "stream",
     "text": [
      "all: 6.0\n"
     ]
    }
   ],
   "source": [
    "print('all:',round(data['EE_Age'].median(),4))"
   ]
  },
  {
   "cell_type": "code",
   "execution_count": 139,
   "metadata": {
    "scrolled": true
   },
   "outputs": [
    {
     "name": "stdout",
     "output_type": "stream",
     "text": [
      "0: 53.13\n",
      "1: 68.14\n",
      "2: 61.0\n",
      "3: 48.98\n",
      "4: 100.0\n"
     ]
    }
   ],
   "source": [
    "print('0:',round(len(cluster0[cluster0['EE_Age'] <= data['EE_Age'].mean()]) / len(cluster0) * 100, 2))\n",
    "print('1:',round(len(cluster1[cluster1['EE_Age'] <= data['EE_Age'].mean()]) / len(cluster1) * 100, 2))\n",
    "print('2:',round(len(cluster2[cluster2['EE_Age'] <= data['EE_Age'].mean()]) / len(cluster2) * 100, 2))\n",
    "print('3:',round(len(cluster3[cluster3['EE_Age'] <= data['EE_Age'].mean()]) / len(cluster3) * 100, 2))\n",
    "print('4:',round(len(cluster4[cluster4['EE_Age'] <= data['EE_Age'].mean()]) / len(cluster4) * 100, 2))"
   ]
  },
  {
   "cell_type": "code",
   "execution_count": null,
   "metadata": {},
   "outputs": [],
   "source": []
  },
  {
   "cell_type": "code",
   "execution_count": 24,
   "metadata": {
    "scrolled": true
   },
   "outputs": [
    {
     "name": "stdout",
     "output_type": "stream",
     "text": [
      "0: 153.6731\n",
      "1: 155.3203\n",
      "2: 442.7438\n",
      "3: 184.9187\n",
      "4: 388.75\n"
     ]
    }
   ],
   "source": [
    "print('0:',round(cluster0['EE_Number_of_Employees'].mean(),4))\n",
    "print('1:',round(cluster1['EE_Number_of_Employees'].mean(),4))\n",
    "print('2:',round(cluster2['EE_Number_of_Employees'].mean(),4))\n",
    "print('3:',round(cluster3['EE_Number_of_Employees'].mean(),4))\n",
    "print('4:',round(cluster4['EE_Number_of_Employees'].mean(),4))"
   ]
  },
  {
   "cell_type": "code",
   "execution_count": 87,
   "metadata": {
    "scrolled": false
   },
   "outputs": [
    {
     "name": "stdout",
     "output_type": "stream",
     "text": [
      "all: 174.1043\n"
     ]
    }
   ],
   "source": [
    "print('all:',round(data['EE_Number_of_Employees'].mean(),4))"
   ]
  },
  {
   "cell_type": "code",
   "execution_count": 88,
   "metadata": {
    "scrolled": true
   },
   "outputs": [
    {
     "name": "stdout",
     "output_type": "stream",
     "text": [
      "all: 30.0\n"
     ]
    }
   ],
   "source": [
    "print('all:',round(data['EE_Number_of_Employees'].median(),4))"
   ]
  },
  {
   "cell_type": "code",
   "execution_count": 174,
   "metadata": {
    "scrolled": true
   },
   "outputs": [
    {
     "name": "stdout",
     "output_type": "stream",
     "text": [
      "0: 71.19\n",
      "1: 74.67\n",
      "2: 68.03\n",
      "3: 66.86\n",
      "4: 66.67\n"
     ]
    }
   ],
   "source": [
    "print('0:',round(len(cluster0[cluster0['EE_Number_of_Employees'] <= data['EE_Number_of_Employees'].median()]) / len(cluster0) * 100, 2))\n",
    "print('1:',round(len(cluster1[cluster1['EE_Number_of_Employees'] <= data['EE_Number_of_Employees'].median()]) / len(cluster1) * 100, 2))\n",
    "print('2:',round(len(cluster2[cluster2['EE_Number_of_Employees'] <= data['EE_Number_of_Employees'].median()]) / len(cluster2) * 100, 2))\n",
    "print('3:',round(len(cluster3[cluster3['EE_Number_of_Employees'] <= data['EE_Number_of_Employees'].median()]) / len(cluster3) * 100, 2))\n",
    "print('4:',round(len(cluster4[cluster4['EE_Number_of_Employees'] <= data['EE_Number_of_Employees'].median()]) / len(cluster4) * 100, 2))"
   ]
  },
  {
   "cell_type": "code",
   "execution_count": null,
   "metadata": {},
   "outputs": [],
   "source": []
  },
  {
   "cell_type": "code",
   "execution_count": 25,
   "metadata": {},
   "outputs": [
    {
     "name": "stdout",
     "output_type": "stream",
     "text": [
      "0: 25.702\n",
      "1: 23.3133\n",
      "2: 17.3129\n",
      "3: 24.423\n",
      "4: 21.7917\n"
     ]
    }
   ],
   "source": [
    "print('0:',round(cluster0['EE_Active_Tech_Count'].mean(),4))\n",
    "print('1:',round(cluster1['EE_Active_Tech_Count'].mean(),4))\n",
    "print('2:',round(cluster2['EE_Active_Tech_Count'].mean(),4))\n",
    "print('3:',round(cluster3['EE_Active_Tech_Count'].mean(),4))\n",
    "print('4:',round(cluster4['EE_Active_Tech_Count'].mean(),4))"
   ]
  },
  {
   "cell_type": "code",
   "execution_count": 143,
   "metadata": {},
   "outputs": [
    {
     "name": "stdout",
     "output_type": "stream",
     "text": [
      "0: 1.3378\n",
      "1: 2.3797\n",
      "2: 1.5488\n",
      "3: 1.8969\n",
      "4: 0.1667\n"
     ]
    }
   ],
   "source": [
    "print('0:',round(cluster0['EE_Patents_Granted'].mean(),4))\n",
    "print('1:',round(cluster1['EE_Patents_Granted'].mean(),4))\n",
    "print('2:',round(cluster2['EE_Patents_Granted'].mean(),4))\n",
    "print('3:',round(cluster3['EE_Patents_Granted'].mean(),4))\n",
    "print('4:',round(cluster4['EE_Patents_Granted'].mean(),4))"
   ]
  },
  {
   "cell_type": "code",
   "execution_count": 144,
   "metadata": {},
   "outputs": [
    {
     "name": "stdout",
     "output_type": "stream",
     "text": [
      "all: 1.6395\n"
     ]
    }
   ],
   "source": [
    "print('all:',round(data['EE_Patents_Granted'].mean(),4))"
   ]
  },
  {
   "cell_type": "code",
   "execution_count": 158,
   "metadata": {
    "scrolled": true
   },
   "outputs": [
    {
     "name": "stdout",
     "output_type": "stream",
     "text": [
      "0: 8.82\n",
      "1: 6.64\n",
      "2: 6.12\n",
      "3: 13.08\n",
      "4: 2.08\n"
     ]
    }
   ],
   "source": [
    "print('0:',round(len(cluster0[cluster0['EE_Patents_Granted'] >= data['EE_Patents_Granted'].mean()]) / len(cluster0) * 100, 2))\n",
    "print('1:',round(len(cluster1[cluster1['EE_Patents_Granted'] >= data['EE_Patents_Granted'].mean()]) / len(cluster1) * 100, 2))\n",
    "print('2:',round(len(cluster2[cluster2['EE_Patents_Granted'] >= data['EE_Patents_Granted'].mean()]) / len(cluster2) * 100, 2))\n",
    "print('3:',round(len(cluster3[cluster3['EE_Patents_Granted'] >= data['EE_Patents_Granted'].mean()]) / len(cluster3) * 100, 2))\n",
    "print('4:',round(len(cluster4[cluster4['EE_Patents_Granted'] >= data['EE_Patents_Granted'].mean()]) / len(cluster4) * 100, 2))"
   ]
  },
  {
   "cell_type": "code",
   "execution_count": 145,
   "metadata": {},
   "outputs": [
    {
     "name": "stdout",
     "output_type": "stream",
     "text": [
      "0: 1.5694\n",
      "1: 1.1852\n",
      "2: 1.5011\n",
      "3: 1.3373\n",
      "4: 0.8333\n"
     ]
    }
   ],
   "source": [
    "print('0:',round(cluster0['EE_Trademarks_Registered'].mean(),4))\n",
    "print('1:',round(cluster1['EE_Trademarks_Registered'].mean(),4))\n",
    "print('2:',round(cluster2['EE_Trademarks_Registered'].mean(),4))\n",
    "print('3:',round(cluster3['EE_Trademarks_Registered'].mean(),4))\n",
    "print('4:',round(cluster4['EE_Trademarks_Registered'].mean(),4))"
   ]
  },
  {
   "cell_type": "code",
   "execution_count": 146,
   "metadata": {},
   "outputs": [
    {
     "name": "stdout",
     "output_type": "stream",
     "text": [
      "all: 1.4472\n"
     ]
    }
   ],
   "source": [
    "print('all:',round(data['EE_Trademarks_Registered'].mean(),4))"
   ]
  },
  {
   "cell_type": "code",
   "execution_count": 91,
   "metadata": {
    "scrolled": false
   },
   "outputs": [
    {
     "name": "stdout",
     "output_type": "stream",
     "text": [
      "all: 24.6676\n"
     ]
    }
   ],
   "source": [
    "print('all:',round(data['EE_Active_Tech_Count'].mean(),4))"
   ]
  },
  {
   "cell_type": "code",
   "execution_count": 92,
   "metadata": {
    "scrolled": true
   },
   "outputs": [
    {
     "name": "stdout",
     "output_type": "stream",
     "text": [
      "all: 19.0\n"
     ]
    }
   ],
   "source": [
    "print('all:',round(data['EE_Active_Tech_Count'].median(),4))"
   ]
  },
  {
   "cell_type": "code",
   "execution_count": 185,
   "metadata": {
    "scrolled": true
   },
   "outputs": [
    {
     "name": "stdout",
     "output_type": "stream",
     "text": [
      "0: 43.11\n",
      "1: 36.98\n",
      "2: 73.7\n",
      "3: 41.08\n",
      "4: 66.67\n"
     ]
    }
   ],
   "source": [
    "print('0:',round(len(cluster0[cluster0['EE_Active_Tech_Count'] >= data['EE_Active_Tech_Count'].mean()]) / len(cluster0) * 100, 2))\n",
    "print('1:',round(len(cluster1[cluster1['EE_Active_Tech_Count'] >= data['EE_Active_Tech_Count'].mean()]) / len(cluster1) * 100, 2))\n",
    "print('2:',round(len(cluster2[cluster2['EE_Active_Tech_Count'] <= data['EE_Active_Tech_Count'].mean()]) / len(cluster2) * 100, 2))\n",
    "print('3:',round(len(cluster3[cluster3['EE_Active_Tech_Count'] >= data['EE_Active_Tech_Count'].mean()]) / len(cluster3) * 100, 2))\n",
    "print('4:',round(len(cluster4[cluster4['EE_Active_Tech_Count'] <= data['EE_Active_Tech_Count'].mean()]) / len(cluster4) * 100, 2))"
   ]
  },
  {
   "cell_type": "code",
   "execution_count": null,
   "metadata": {},
   "outputs": [],
   "source": []
  },
  {
   "cell_type": "code",
   "execution_count": 26,
   "metadata": {},
   "outputs": [
    {
     "name": "stdout",
     "output_type": "stream",
     "text": [
      "0: 1.6908\n",
      "1: 1.7525\n",
      "2: 1.1315\n",
      "3: 1.9173\n",
      "4: 0.7708\n"
     ]
    }
   ],
   "source": [
    "print('0:',round(cluster0['EE_Number_of_Funding_Rounds'].mean(),4))\n",
    "print('1:',round(cluster1['EE_Number_of_Funding_Rounds'].mean(),4))\n",
    "print('2:',round(cluster2['EE_Number_of_Funding_Rounds'].mean(),4))\n",
    "print('3:',round(cluster3['EE_Number_of_Funding_Rounds'].mean(),4))\n",
    "print('4:',round(cluster4['EE_Number_of_Funding_Rounds'].mean(),4))"
   ]
  },
  {
   "cell_type": "code",
   "execution_count": 99,
   "metadata": {
    "scrolled": false
   },
   "outputs": [
    {
     "name": "stdout",
     "output_type": "stream",
     "text": [
      "all: 1.7294\n"
     ]
    }
   ],
   "source": [
    "print('all:',round(data['EE_Number_of_Funding_Rounds'].mean(),4))"
   ]
  },
  {
   "cell_type": "code",
   "execution_count": 100,
   "metadata": {
    "scrolled": true
   },
   "outputs": [
    {
     "name": "stdout",
     "output_type": "stream",
     "text": [
      "all: 1.0\n"
     ]
    }
   ],
   "source": [
    "print('all:',round(data['EE_Number_of_Funding_Rounds'].median(),4))"
   ]
  },
  {
   "cell_type": "code",
   "execution_count": 159,
   "metadata": {
    "scrolled": true
   },
   "outputs": [
    {
     "name": "stdout",
     "output_type": "stream",
     "text": [
      "0: 58.76\n",
      "1: 57.43\n",
      "2: 72.79\n",
      "3: 56.3\n",
      "4: 85.42\n"
     ]
    }
   ],
   "source": [
    "print('0:',round(len(cluster0[cluster0['EE_Number_of_Funding_Rounds'] <= data['EE_Number_of_Funding_Rounds'].mean()]) / len(cluster0) * 100, 2))\n",
    "print('1:',round(len(cluster1[cluster1['EE_Number_of_Funding_Rounds'] <= data['EE_Number_of_Funding_Rounds'].mean()]) / len(cluster1) * 100, 2))\n",
    "print('2:',round(len(cluster2[cluster2['EE_Number_of_Funding_Rounds'] <= data['EE_Number_of_Funding_Rounds'].mean()]) / len(cluster2) * 100, 2))\n",
    "print('3:',round(len(cluster3[cluster3['EE_Number_of_Funding_Rounds'] <= data['EE_Number_of_Funding_Rounds'].mean()]) / len(cluster3) * 100, 2))\n",
    "print('4:',round(len(cluster4[cluster4['EE_Number_of_Funding_Rounds'] <= data['EE_Number_of_Funding_Rounds'].mean()]) / len(cluster4) * 100, 2))"
   ]
  },
  {
   "cell_type": "code",
   "execution_count": null,
   "metadata": {},
   "outputs": [],
   "source": []
  },
  {
   "cell_type": "code",
   "execution_count": 27,
   "metadata": {},
   "outputs": [
    {
     "name": "stdout",
     "output_type": "stream",
     "text": [
      "0: 1335.4881\n",
      "1: 1139.2807\n",
      "2: 7077.4943\n",
      "3: 1205.4876\n",
      "4: 1609.1667\n"
     ]
    }
   ],
   "source": [
    "print('0:',round(cluster0['ER_Number_of_Employees'].mean(),4))\n",
    "print('1:',round(cluster1['ER_Number_of_Employees'].mean(),4))\n",
    "print('2:',round(cluster2['ER_Number_of_Employees'].mean(),4))\n",
    "print('3:',round(cluster3['ER_Number_of_Employees'].mean(),4))\n",
    "print('4:',round(cluster4['ER_Number_of_Employees'].mean(),4))"
   ]
  },
  {
   "cell_type": "code",
   "execution_count": 102,
   "metadata": {
    "scrolled": false
   },
   "outputs": [
    {
     "name": "stdout",
     "output_type": "stream",
     "text": [
      "all: 1503.1992\n"
     ]
    }
   ],
   "source": [
    "print('all:',round(data['ER_Number_of_Employees'].mean(),4))"
   ]
  },
  {
   "cell_type": "code",
   "execution_count": 103,
   "metadata": {
    "scrolled": true
   },
   "outputs": [
    {
     "name": "stdout",
     "output_type": "stream",
     "text": [
      "all: 375.0\n"
     ]
    }
   ],
   "source": [
    "print('all:',round(data['ER_Number_of_Employees'].median(),4))"
   ]
  },
  {
   "cell_type": "code",
   "execution_count": 176,
   "metadata": {
    "scrolled": true
   },
   "outputs": [
    {
     "name": "stdout",
     "output_type": "stream",
     "text": [
      "0: 77.78\n",
      "1: 80.55\n",
      "2: 91.61\n",
      "3: 78.94\n",
      "4: 72.92\n"
     ]
    }
   ],
   "source": [
    "print('0:',round(len(cluster0[cluster0['ER_Number_of_Employees'] <= data['ER_Number_of_Employees'].mean()]) / len(cluster0) * 100, 2))\n",
    "print('1:',round(len(cluster1[cluster1['ER_Number_of_Employees'] <= data['ER_Number_of_Employees'].mean()]) / len(cluster1) * 100, 2))\n",
    "print('2:',round(len(cluster2[cluster2['ER_Number_of_Employees'] >= data['ER_Number_of_Employees'].mean()]) / len(cluster2) * 100, 2))\n",
    "print('3:',round(len(cluster3[cluster3['ER_Number_of_Employees'] <= data['ER_Number_of_Employees'].mean()]) / len(cluster3) * 100, 2))\n",
    "print('4:',round(len(cluster4[cluster4['ER_Number_of_Employees'] <= data['ER_Number_of_Employees'].mean()]) / len(cluster4) * 100, 2))"
   ]
  },
  {
   "cell_type": "code",
   "execution_count": null,
   "metadata": {},
   "outputs": [],
   "source": []
  },
  {
   "cell_type": "code",
   "execution_count": 28,
   "metadata": {},
   "outputs": [
    {
     "name": "stdout",
     "output_type": "stream",
     "text": [
      "0: 670.5451\n",
      "1: 914.9493\n",
      "2: 10937.4014\n",
      "3: 369.7861\n",
      "4: 2200.1667\n"
     ]
    }
   ],
   "source": [
    "print('0:',round(cluster0['ER_Number_of_Articles'].mean(),4))\n",
    "print('1:',round(cluster1['ER_Number_of_Articles'].mean(),4))\n",
    "print('2:',round(cluster2['ER_Number_of_Articles'].mean(),4))\n",
    "print('3:',round(cluster3['ER_Number_of_Articles'].mean(),4))\n",
    "print('4:',round(cluster4['ER_Number_of_Articles'].mean(),4))"
   ]
  },
  {
   "cell_type": "code",
   "execution_count": 105,
   "metadata": {
    "scrolled": true
   },
   "outputs": [
    {
     "name": "stdout",
     "output_type": "stream",
     "text": [
      "all: 1050.5444\n"
     ]
    }
   ],
   "source": [
    "print('all:',round(data['ER_Number_of_Articles'].mean(),4))"
   ]
  },
  {
   "cell_type": "code",
   "execution_count": 106,
   "metadata": {
    "scrolled": true
   },
   "outputs": [
    {
     "name": "stdout",
     "output_type": "stream",
     "text": [
      "all: 37.0\n"
     ]
    }
   ],
   "source": [
    "print('all:',round(data['ER_Number_of_Articles'].median(),4))"
   ]
  },
  {
   "cell_type": "code",
   "execution_count": 177,
   "metadata": {
    "scrolled": true
   },
   "outputs": [
    {
     "name": "stdout",
     "output_type": "stream",
     "text": [
      "0: 90.74\n",
      "1: 89.57\n",
      "2: 54.2\n",
      "3: 93.46\n",
      "4: 81.25\n"
     ]
    }
   ],
   "source": [
    "print('0:',round(len(cluster0[cluster0['ER_Number_of_Articles'] <= data['ER_Number_of_Articles'].mean()]) / len(cluster0) * 100, 2))\n",
    "print('1:',round(len(cluster1[cluster1['ER_Number_of_Articles'] <= data['ER_Number_of_Articles'].mean()]) / len(cluster1) * 100, 2))\n",
    "print('2:',round(len(cluster2[cluster2['ER_Number_of_Articles'] >= data['ER_Number_of_Articles'].mean()]) / len(cluster2) * 100, 2))\n",
    "print('3:',round(len(cluster3[cluster3['ER_Number_of_Articles'] <= data['ER_Number_of_Articles'].mean()]) / len(cluster3) * 100, 2))\n",
    "print('4:',round(len(cluster4[cluster4['ER_Number_of_Articles'] <= data['ER_Number_of_Articles'].mean()]) / len(cluster4) * 100, 2))"
   ]
  },
  {
   "cell_type": "code",
   "execution_count": null,
   "metadata": {},
   "outputs": [],
   "source": []
  },
  {
   "cell_type": "code",
   "execution_count": 30,
   "metadata": {},
   "outputs": [
    {
     "name": "stdout",
     "output_type": "stream",
     "text": [
      "0: 92.0102\n",
      "1: 61.8928\n",
      "2: 1939.9592\n",
      "3: 70.2194\n",
      "4: 62.2708\n"
     ]
    }
   ],
   "source": [
    "print('0:',round(cluster0['ER_Patents_Granted'].mean(),4))\n",
    "print('1:',round(cluster1['ER_Patents_Granted'].mean(),4))\n",
    "print('2:',round(cluster2['ER_Patents_Granted'].mean(),4))\n",
    "print('3:',round(cluster3['ER_Patents_Granted'].mean(),4))\n",
    "print('4:',round(cluster4['ER_Patents_Granted'].mean(),4))"
   ]
  },
  {
   "cell_type": "code",
   "execution_count": 109,
   "metadata": {
    "scrolled": false
   },
   "outputs": [
    {
     "name": "stdout",
     "output_type": "stream",
     "text": [
      "all: 155.4988\n"
     ]
    }
   ],
   "source": [
    "print('all:',round(data['ER_Patents_Granted'].mean(),4))"
   ]
  },
  {
   "cell_type": "code",
   "execution_count": 110,
   "metadata": {
    "scrolled": true
   },
   "outputs": [
    {
     "name": "stdout",
     "output_type": "stream",
     "text": [
      "all: 0.0\n"
     ]
    }
   ],
   "source": [
    "print('all:',round(data['ER_Patents_Granted'].median(),4))"
   ]
  },
  {
   "cell_type": "code",
   "execution_count": 178,
   "metadata": {
    "scrolled": true
   },
   "outputs": [
    {
     "name": "stdout",
     "output_type": "stream",
     "text": [
      "0: 94.95\n",
      "1: 95.4\n",
      "2: 38.78\n",
      "3: 95.01\n",
      "4: 91.67\n"
     ]
    }
   ],
   "source": [
    "print('0:',round(len(cluster0[cluster0['ER_Patents_Granted'] <= data['ER_Patents_Granted'].mean()]) / len(cluster0) * 100, 2))\n",
    "print('1:',round(len(cluster1[cluster1['ER_Patents_Granted'] <= data['ER_Patents_Granted'].mean()]) / len(cluster1) * 100, 2))\n",
    "print('2:',round(len(cluster2[cluster2['ER_Patents_Granted'] >= data['ER_Patents_Granted'].mean()]) / len(cluster2) * 100, 2))\n",
    "print('3:',round(len(cluster3[cluster3['ER_Patents_Granted'] <= data['ER_Patents_Granted'].mean()]) / len(cluster3) * 100, 2))\n",
    "print('4:',round(len(cluster4[cluster4['ER_Patents_Granted'] <= data['ER_Patents_Granted'].mean()]) / len(cluster4) * 100, 2))"
   ]
  },
  {
   "cell_type": "code",
   "execution_count": null,
   "metadata": {},
   "outputs": [],
   "source": []
  },
  {
   "cell_type": "code",
   "execution_count": 31,
   "metadata": {},
   "outputs": [
    {
     "name": "stdout",
     "output_type": "stream",
     "text": [
      "0: 16.9578\n",
      "1: 11.636\n",
      "2: 117.5918\n",
      "3: 18.6738\n",
      "4: 14.9583\n"
     ]
    }
   ],
   "source": [
    "print('0:',round(cluster0['ER_Trademarks_Registered'].mean(),4))\n",
    "print('1:',round(cluster1['ER_Trademarks_Registered'].mean(),4))\n",
    "print('2:',round(cluster2['ER_Trademarks_Registered'].mean(),4))\n",
    "print('3:',round(cluster3['ER_Trademarks_Registered'].mean(),4))\n",
    "print('4:',round(cluster4['ER_Trademarks_Registered'].mean(),4))"
   ]
  },
  {
   "cell_type": "code",
   "execution_count": 114,
   "metadata": {
    "scrolled": true
   },
   "outputs": [
    {
     "name": "stdout",
     "output_type": "stream",
     "text": [
      "all: 20.5523\n"
     ]
    }
   ],
   "source": [
    "print('all:',round(data['ER_Trademarks_Registered'].mean(),4))"
   ]
  },
  {
   "cell_type": "code",
   "execution_count": 115,
   "metadata": {
    "scrolled": true
   },
   "outputs": [
    {
     "name": "stdout",
     "output_type": "stream",
     "text": [
      "all: 3.0\n"
     ]
    }
   ],
   "source": [
    "print('all:',round(data['ER_Trademarks_Registered'].median(),4))"
   ]
  },
  {
   "cell_type": "code",
   "execution_count": 179,
   "metadata": {
    "scrolled": true
   },
   "outputs": [
    {
     "name": "stdout",
     "output_type": "stream",
     "text": [
      "0: 84.28\n",
      "1: 87.42\n",
      "2: 62.81\n",
      "3: 84.63\n",
      "4: 87.5\n"
     ]
    }
   ],
   "source": [
    "print('0:',round(len(cluster0[cluster0['ER_Trademarks_Registered'] <= data['ER_Trademarks_Registered'].mean()]) / len(cluster0) * 100, 2))\n",
    "print('1:',round(len(cluster1[cluster1['ER_Trademarks_Registered'] <= data['ER_Trademarks_Registered'].mean()]) / len(cluster1) * 100, 2))\n",
    "print('2:',round(len(cluster2[cluster2['ER_Trademarks_Registered'] >= data['ER_Trademarks_Registered'].mean()]) / len(cluster2) * 100, 2))\n",
    "print('3:',round(len(cluster3[cluster3['ER_Trademarks_Registered'] <= data['ER_Trademarks_Registered'].mean()]) / len(cluster3) * 100, 2))\n",
    "print('4:',round(len(cluster4[cluster4['ER_Trademarks_Registered'] <= data['ER_Trademarks_Registered'].mean()]) / len(cluster4) * 100, 2))"
   ]
  },
  {
   "cell_type": "code",
   "execution_count": null,
   "metadata": {},
   "outputs": [],
   "source": []
  },
  {
   "cell_type": "code",
   "execution_count": 32,
   "metadata": {},
   "outputs": [
    {
     "name": "stdout",
     "output_type": "stream",
     "text": [
      "0: 4038291.1009\n",
      "1: 3180760.3291\n",
      "2: 16902948.1315\n",
      "3: 3904689.0591\n",
      "4: 8616086.6667\n"
     ]
    }
   ],
   "source": [
    "print('0:',round(cluster0['ER_IT_Spend'].mean(),4))\n",
    "print('1:',round(cluster1['ER_IT_Spend'].mean(),4))\n",
    "print('2:',round(cluster2['ER_IT_Spend'].mean(),4))\n",
    "print('3:',round(cluster3['ER_IT_Spend'].mean(),4))\n",
    "print('4:',round(cluster4['ER_IT_Spend'].mean(),4))"
   ]
  },
  {
   "cell_type": "code",
   "execution_count": 117,
   "metadata": {
    "scrolled": true
   },
   "outputs": [
    {
     "name": "stdout",
     "output_type": "stream",
     "text": [
      "all: 4404958.3886\n"
     ]
    }
   ],
   "source": [
    "print('all:',round(data['ER_IT_Spend'].mean(),4))"
   ]
  },
  {
   "cell_type": "code",
   "execution_count": 118,
   "metadata": {
    "scrolled": true
   },
   "outputs": [
    {
     "name": "stdout",
     "output_type": "stream",
     "text": [
      "all: 0.0\n"
     ]
    }
   ],
   "source": [
    "print('all:',round(data['ER_IT_Spend'].median(),4))"
   ]
  },
  {
   "cell_type": "code",
   "execution_count": 182,
   "metadata": {
    "scrolled": true
   },
   "outputs": [
    {
     "name": "stdout",
     "output_type": "stream",
     "text": [
      "0: 87.69\n",
      "1: 90.22\n",
      "2: 37.41\n",
      "3: 87.7\n",
      "4: 83.33\n"
     ]
    }
   ],
   "source": [
    "print('0:',round(len(cluster0[cluster0['ER_IT_Spend'] <= data['ER_IT_Spend'].mean()]) / len(cluster0) * 100, 2))\n",
    "print('1:',round(len(cluster1[cluster1['ER_IT_Spend'] <= data['ER_IT_Spend'].mean()]) / len(cluster1) * 100, 2))\n",
    "print('2:',round(len(cluster2[cluster2['ER_IT_Spend'] >= data['ER_IT_Spend'].mean()]) / len(cluster2) * 100, 2))\n",
    "print('3:',round(len(cluster3[cluster3['ER_IT_Spend'] <= data['ER_IT_Spend'].mean()]) / len(cluster3) * 100, 2))\n",
    "print('4:',round(len(cluster4[cluster4['ER_IT_Spend'] <= data['ER_IT_Spend'].mean()]) / len(cluster4) * 100, 2))"
   ]
  },
  {
   "cell_type": "code",
   "execution_count": null,
   "metadata": {},
   "outputs": [],
   "source": []
  },
  {
   "cell_type": "code",
   "execution_count": 33,
   "metadata": {},
   "outputs": [
    {
     "name": "stdout",
     "output_type": "stream",
     "text": [
      "0: 335.9227\n",
      "1: 320.544\n",
      "2: 6009.2971\n",
      "3: 248.2704\n",
      "4: 619.2083\n"
     ]
    }
   ],
   "source": [
    "print('0:',round(cluster0['ER_Estimated_Revenue_Range'].mean(),4))\n",
    "print('1:',round(cluster1['ER_Estimated_Revenue_Range'].mean(),4))\n",
    "print('2:',round(cluster2['ER_Estimated_Revenue_Range'].mean(),4))\n",
    "print('3:',round(cluster3['ER_Estimated_Revenue_Range'].mean(),4))\n",
    "print('4:',round(cluster4['ER_Estimated_Revenue_Range'].mean(),4))"
   ]
  },
  {
   "cell_type": "code",
   "execution_count": 120,
   "metadata": {
    "scrolled": true
   },
   "outputs": [
    {
     "name": "stdout",
     "output_type": "stream",
     "text": [
      "all: 539.3442\n"
     ]
    }
   ],
   "source": [
    "print('all:',round(data['ER_Estimated_Revenue_Range'].mean(),4))"
   ]
  },
  {
   "cell_type": "code",
   "execution_count": 121,
   "metadata": {
    "scrolled": true
   },
   "outputs": [
    {
     "name": "stdout",
     "output_type": "stream",
     "text": [
      "all: 25.0\n"
     ]
    }
   ],
   "source": [
    "print('all:',round(data['ER_Estimated_Revenue_Range'].median(),4))"
   ]
  },
  {
   "cell_type": "code",
   "execution_count": 183,
   "metadata": {
    "scrolled": true
   },
   "outputs": [
    {
     "name": "stdout",
     "output_type": "stream",
     "text": [
      "0: 92.03\n",
      "1: 92.08\n",
      "2: 99.09\n",
      "3: 93.06\n",
      "4: 87.5\n"
     ]
    }
   ],
   "source": [
    "print('0:',round(len(cluster0[cluster0['ER_Estimated_Revenue_Range'] <= data['ER_Estimated_Revenue_Range'].mean()]) / len(cluster0) * 100, 2))\n",
    "print('1:',round(len(cluster1[cluster1['ER_Estimated_Revenue_Range'] <= data['ER_Estimated_Revenue_Range'].mean()]) / len(cluster1) * 100, 2))\n",
    "print('2:',round(len(cluster2[cluster2['ER_Estimated_Revenue_Range'] >= data['ER_Estimated_Revenue_Range'].mean()]) / len(cluster2) * 100, 2))\n",
    "print('3:',round(len(cluster3[cluster3['ER_Estimated_Revenue_Range'] <= data['ER_Estimated_Revenue_Range'].mean()]) / len(cluster3) * 100, 2))\n",
    "print('4:',round(len(cluster4[cluster4['ER_Estimated_Revenue_Range'] <= data['ER_Estimated_Revenue_Range'].mean()]) / len(cluster4) * 100, 2))"
   ]
  },
  {
   "cell_type": "code",
   "execution_count": null,
   "metadata": {},
   "outputs": [],
   "source": []
  },
  {
   "cell_type": "code",
   "execution_count": 34,
   "metadata": {},
   "outputs": [
    {
     "name": "stdout",
     "output_type": "stream",
     "text": [
      "0: 354259876.624\n",
      "1: 466852479.8078\n",
      "2: 3563697556.6145\n",
      "3: 283383441.6856\n",
      "4: 808958098.1667\n"
     ]
    }
   ],
   "source": [
    "print('0:',round(cluster0['ER_Total_Funding_Amount'].mean(),4))\n",
    "print('1:',round(cluster1['ER_Total_Funding_Amount'].mean(),4))\n",
    "print('2:',round(cluster2['ER_Total_Funding_Amount'].mean(),4))\n",
    "print('3:',round(cluster3['ER_Total_Funding_Amount'].mean(),4))\n",
    "print('4:',round(cluster4['ER_Total_Funding_Amount'].mean(),4))"
   ]
  },
  {
   "cell_type": "code",
   "execution_count": 125,
   "metadata": {
    "scrolled": true
   },
   "outputs": [
    {
     "name": "stdout",
     "output_type": "stream",
     "text": [
      "all: 484218912.0168\n"
     ]
    }
   ],
   "source": [
    "print('all:',round(data['ER_Total_Funding_Amount'].mean(),4))"
   ]
  },
  {
   "cell_type": "code",
   "execution_count": 126,
   "metadata": {
    "scrolled": true
   },
   "outputs": [
    {
     "name": "stdout",
     "output_type": "stream",
     "text": [
      "all: 35731069.5\n"
     ]
    }
   ],
   "source": [
    "print('all:',round(data['ER_Total_Funding_Amount'].median(),4))"
   ]
  },
  {
   "cell_type": "code",
   "execution_count": 184,
   "metadata": {
    "scrolled": true
   },
   "outputs": [
    {
     "name": "stdout",
     "output_type": "stream",
     "text": [
      "0: 87.9\n",
      "1: 86.43\n",
      "2: 51.25\n",
      "3: 87.81\n",
      "4: 79.17\n"
     ]
    }
   ],
   "source": [
    "print('0:',round(len(cluster0[cluster0['ER_Total_Funding_Amount'] <= data['ER_Total_Funding_Amount'].mean()]) / len(cluster0) * 100, 2))\n",
    "print('1:',round(len(cluster1[cluster1['ER_Total_Funding_Amount'] <= data['ER_Total_Funding_Amount'].mean()]) / len(cluster1) * 100, 2))\n",
    "print('2:',round(len(cluster2[cluster2['ER_Total_Funding_Amount'] >= data['ER_Total_Funding_Amount'].mean()]) / len(cluster2) * 100, 2))\n",
    "print('3:',round(len(cluster3[cluster3['ER_Total_Funding_Amount'] <= data['ER_Total_Funding_Amount'].mean()]) / len(cluster3) * 100, 2))\n",
    "print('4:',round(len(cluster4[cluster4['ER_Total_Funding_Amount'] <= data['ER_Total_Funding_Amount'].mean()]) / len(cluster4) * 100, 2))"
   ]
  },
  {
   "cell_type": "code",
   "execution_count": null,
   "metadata": {},
   "outputs": [],
   "source": []
  },
  {
   "cell_type": "code",
   "execution_count": 35,
   "metadata": {},
   "outputs": [],
   "source": [
    "from tqdm import tqdm"
   ]
  },
  {
   "cell_type": "code",
   "execution_count": 37,
   "metadata": {},
   "outputs": [
    {
     "name": "stderr",
     "output_type": "stream",
     "text": [
      "100%|██████████████████████████████████████████████████████████████████████████| 6157/6157 [00:00<00:00, 881948.35it/s]\n",
      "100%|██████████████████████████████████████████████████████████████████████████| 1717/1717 [00:00<00:00, 847249.41it/s]\n",
      "100%|████████████████████████████████████████████████████████████████████████████████████████| 441/441 [00:00<?, ?it/s]\n",
      "100%|██████████████████████████████████████████████████████████████████████████| 2707/2707 [00:00<00:00, 895706.92it/s]\n",
      "100%|██████████████████████████████████████████████████████████████████████████████████████████| 48/48 [00:00<?, ?it/s]\n"
     ]
    }
   ],
   "source": [
    "eig_list0 = []\n",
    "for x in tqdm(cluster0['EE_Industry Groups']):\n",
    "    new_x=str(x).split(', ')\n",
    "    for i in new_x:\n",
    "        eig_list0.append(i)\n",
    "\n",
    "eig_list1 = []\n",
    "for x in tqdm(cluster1['EE_Industry Groups']):\n",
    "    new_x=str(x).split(', ')\n",
    "    for i in new_x:\n",
    "        eig_list1.append(i)\n",
    "\n",
    "eig_list2 = []\n",
    "for x in tqdm(cluster2['EE_Industry Groups']):\n",
    "    new_x=str(x).split(', ')\n",
    "    for i in new_x:\n",
    "        eig_list2.append(i)\n",
    "        \n",
    "eig_list3 = []\n",
    "for x in tqdm(cluster3['EE_Industry Groups']):\n",
    "    new_x=str(x).split(', ')\n",
    "    for i in new_x:\n",
    "        eig_list3.append(i)\n",
    "        \n",
    "eig_list4 = []\n",
    "for x in tqdm(cluster4['EE_Industry Groups']):\n",
    "    new_x=str(x).split(', ')\n",
    "    for i in new_x:\n",
    "        eig_list4.append(i)"
   ]
  },
  {
   "cell_type": "code",
   "execution_count": 38,
   "metadata": {},
   "outputs": [
    {
     "name": "stderr",
     "output_type": "stream",
     "text": [
      "100%|██████████████████████████████████████████████████████████████████████████| 6157/6157 [00:00<00:00, 841759.17it/s]\n",
      "100%|██████████████████████████████████████████████████████████████████████████| 1717/1717 [00:00<00:00, 596160.59it/s]\n",
      "100%|████████████████████████████████████████████████████████████████████████████| 441/441 [00:00<00:00, 456938.75it/s]\n",
      "100%|██████████████████████████████████████████████████████████████████████████| 2707/2707 [00:00<00:00, 895565.62it/s]\n",
      "100%|██████████████████████████████████████████████████████████████████████████████████████████| 48/48 [00:00<?, ?it/s]\n"
     ]
    }
   ],
   "source": [
    "rig_list0 = []\n",
    "for x in tqdm(cluster0['ER_Industry Groups']):\n",
    "    new_x=str(x).split(', ')\n",
    "    for i in new_x:\n",
    "        rig_list0.append(i)\n",
    "\n",
    "rig_list1 = []\n",
    "for x in tqdm(cluster1['ER_Industry Groups']):\n",
    "    new_x=str(x).split(', ')\n",
    "    for i in new_x:\n",
    "        rig_list1.append(i)\n",
    "\n",
    "rig_list2 = []\n",
    "for x in tqdm(cluster2['ER_Industry Groups']):\n",
    "    new_x=str(x).split(', ')\n",
    "    for i in new_x:\n",
    "        rig_list2.append(i)\n",
    "        \n",
    "rig_list3 = []\n",
    "for x in tqdm(cluster3['ER_Industry Groups']):\n",
    "    new_x=str(x).split(', ')\n",
    "    for i in new_x:\n",
    "        rig_list3.append(i)\n",
    "\n",
    "rig_list4 = []\n",
    "for x in tqdm(cluster4['ER_Industry Groups']):\n",
    "    new_x=str(x).split(', ')\n",
    "    for i in new_x:\n",
    "        rig_list4.append(i)"
   ]
  },
  {
   "cell_type": "code",
   "execution_count": 39,
   "metadata": {},
   "outputs": [],
   "source": [
    "eidf0 = pd.DataFrame(eig_list0, columns = [\"Industry Groups\"])\n",
    "eidf1 = pd.DataFrame(eig_list1, columns = [\"Industry Groups\"])\n",
    "eidf2 = pd.DataFrame(eig_list2, columns = [\"Industry Groups\"])\n",
    "eidf3 = pd.DataFrame(eig_list3, columns = [\"Industry Groups\"])\n",
    "eidf4 = pd.DataFrame(eig_list4, columns = [\"Industry Groups\"])\n",
    "ridf0 = pd.DataFrame(rig_list0, columns = [\"Industry Groups\"])\n",
    "ridf1 = pd.DataFrame(rig_list1, columns = [\"Industry Groups\"])\n",
    "ridf2 = pd.DataFrame(rig_list2, columns = [\"Industry Groups\"])\n",
    "ridf3 = pd.DataFrame(rig_list3, columns = [\"Industry Groups\"])\n",
    "ridf4 = pd.DataFrame(rig_list4, columns = [\"Industry Groups\"])"
   ]
  },
  {
   "cell_type": "code",
   "execution_count": 40,
   "metadata": {
    "scrolled": false
   },
   "outputs": [
    {
     "name": "stdout",
     "output_type": "stream",
     "text": [
      "e0 Index(['Software', 'Internet Services', 'Information Technology',\n",
      "       'Data and Analytics', 'Media and Entertainment', 'Mobile',\n",
      "       'Sales and Marketing', 'Hardware', 'Commerce and Shopping', 'Other',\n",
      "       'Financial Services', 'Health Care', 'Apps', 'Professional Services',\n",
      "       'Science and Engineering', 'Advertising', 'Consumer Electronics',\n",
      "       'Artificial Intelligence', 'Content and Publishing',\n",
      "       'Community and Lifestyle', 'Transportation', 'Design',\n",
      "       'Privacy and Security', 'Video', 'Education', 'Real Estate',\n",
      "       'Travel and Tourism', 'Food and Beverage', 'Administrative Services',\n",
      "       'Gaming', 'Payments', 'Platforms', 'Sports',\n",
      "       'Messaging and Telecommunications', 'Manufacturing', 'Biotechnology',\n",
      "       'Events', 'Consumer Goods', 'Energy', 'Lending and Investments',\n",
      "       'Sustainability', 'Navigation and Mapping', 'Music and Audio',\n",
      "       'Clothing and Apparel', 'Natural Resources', 'Government and Military',\n",
      "       'Agriculture and Farming'],\n",
      "      dtype='object')\n",
      "r0 Index(['Software', 'Internet Services', 'Information Technology',\n",
      "       'Media and Entertainment', 'Sales and Marketing', 'Data and Analytics',\n",
      "       'Mobile', 'Other', 'Hardware', 'Commerce and Shopping',\n",
      "       'Financial Services', 'Professional Services', 'Health Care', 'Apps',\n",
      "       'Science and Engineering', 'Advertising', 'Transportation',\n",
      "       'Content and Publishing', 'Consumer Electronics',\n",
      "       'Artificial Intelligence', 'Privacy and Security',\n",
      "       'Community and Lifestyle', 'Real Estate', 'Design',\n",
      "       'Administrative Services', 'Food and Beverage', 'Video', 'Education',\n",
      "       'Payments', 'Travel and Tourism', 'Lending and Investments', 'Gaming',\n",
      "       'Messaging and Telecommunications', 'Manufacturing', 'Sports',\n",
      "       'Biotechnology', 'Energy', 'Events', 'Consumer Goods', 'Sustainability',\n",
      "       'Music and Audio', 'Platforms', 'Navigation and Mapping',\n",
      "       'Government and Military', 'Clothing and Apparel',\n",
      "       'Agriculture and Farming', 'Natural Resources'],\n",
      "      dtype='object')\n",
      "e1 Index(['Software', 'Internet Services', 'Media and Entertainment',\n",
      "       'Information Technology', 'Sales and Marketing', 'Mobile',\n",
      "       'Commerce and Shopping', 'Data and Analytics', 'Financial Services',\n",
      "       'Other', 'Apps', 'Hardware', 'Advertising', 'Content and Publishing',\n",
      "       'Health Care', 'Science and Engineering', 'Professional Services',\n",
      "       'Community and Lifestyle', 'Artificial Intelligence', 'Design',\n",
      "       'Transportation', 'Video', 'Food and Beverage', 'Real Estate',\n",
      "       'Consumer Electronics', 'Privacy and Security', 'Platforms', 'Payments',\n",
      "       'Travel and Tourism', 'Education', 'Administrative Services', 'Sports',\n",
      "       'Gaming', 'Lending and Investments', 'Messaging and Telecommunications',\n",
      "       'Events', 'Biotechnology', 'Clothing and Apparel', 'Music and Audio',\n",
      "       'Energy', 'Consumer Goods', 'Navigation and Mapping', 'Manufacturing',\n",
      "       'Sustainability', 'Natural Resources', 'Government and Military',\n",
      "       'Agriculture and Farming'],\n",
      "      dtype='object')\n",
      "r1 Index(['Software', 'Internet Services', 'Information Technology',\n",
      "       'Sales and Marketing', 'Media and Entertainment',\n",
      "       'Commerce and Shopping', 'Mobile', 'Financial Services', 'Other',\n",
      "       'Data and Analytics', 'Advertising', 'Hardware', 'Apps',\n",
      "       'Content and Publishing', 'Professional Services', 'Health Care',\n",
      "       'Science and Engineering', 'Real Estate', 'Transportation', 'Payments',\n",
      "       'Lending and Investments', 'Design', 'Community and Lifestyle',\n",
      "       'Artificial Intelligence', 'Food and Beverage', 'Video', 'Gaming',\n",
      "       'Administrative Services', 'Travel and Tourism', 'Consumer Electronics',\n",
      "       'Messaging and Telecommunications', 'Sports', 'Privacy and Security',\n",
      "       'Education', 'Biotechnology', 'Clothing and Apparel', 'Consumer Goods',\n",
      "       'Platforms', 'Energy', 'Events', 'Manufacturing', 'Sustainability',\n",
      "       'Navigation and Mapping', 'Natural Resources', 'Music and Audio',\n",
      "       'Government and Military', 'Agriculture and Farming'],\n",
      "      dtype='object')\n",
      "e2 Index(['Software', 'Internet Services', 'Information Technology',\n",
      "       'Media and Entertainment', 'Mobile', 'Data and Analytics', 'Hardware',\n",
      "       'Financial Services', 'Sales and Marketing', 'Professional Services',\n",
      "       'Commerce and Shopping', 'Apps', 'Science and Engineering', 'Other',\n",
      "       'Consumer Electronics', 'Advertising', 'Health Care', 'Video',\n",
      "       'Artificial Intelligence', 'Transportation', 'Platforms',\n",
      "       'Content and Publishing', 'Community and Lifestyle', 'Music and Audio',\n",
      "       'Messaging and Telecommunications', 'Privacy and Security',\n",
      "       'Real Estate', 'Administrative Services', 'Design', 'Manufacturing',\n",
      "       'Biotechnology', 'Energy', 'Payments', 'Food and Beverage', 'Gaming',\n",
      "       'Sustainability', 'Natural Resources', 'Education',\n",
      "       'Travel and Tourism', 'Events', 'Lending and Investments',\n",
      "       'Navigation and Mapping', 'Consumer Goods', 'Sports',\n",
      "       'Clothing and Apparel', 'Government and Military',\n",
      "       'Agriculture and Farming'],\n",
      "      dtype='object')\n",
      "r2 Index(['Software', 'Internet Services', 'Media and Entertainment', 'Mobile',\n",
      "       'Information Technology', 'Content and Publishing', 'Apps',\n",
      "       'Financial Services', 'Hardware', 'Commerce and Shopping', 'Other',\n",
      "       'Professional Services', 'Messaging and Telecommunications',\n",
      "       'Real Estate', 'Sales and Marketing', 'Health Care',\n",
      "       'Administrative Services', 'Payments', 'Transportation', 'Advertising',\n",
      "       'Science and Engineering', 'Consumer Electronics', 'Video',\n",
      "       'Community and Lifestyle', 'Travel and Tourism',\n",
      "       'Lending and Investments', 'Energy', 'Design', 'Music and Audio',\n",
      "       'Consumer Goods', 'Clothing and Apparel', 'Natural Resources',\n",
      "       'Food and Beverage', 'Sustainability', 'Privacy and Security',\n",
      "       'Data and Analytics', 'Government and Military', 'Events',\n",
      "       'Biotechnology', 'Gaming', 'Manufacturing', 'Education',\n",
      "       'Artificial Intelligence', 'Sports', 'Navigation and Mapping',\n",
      "       'Platforms'],\n",
      "      dtype='object')\n",
      "e3 Index(['Software', 'Information Technology', 'Internet Services',\n",
      "       'Health Care', 'Science and Engineering', 'Sales and Marketing',\n",
      "       'Media and Entertainment', 'Data and Analytics', 'Biotechnology',\n",
      "       'Commerce and Shopping', 'Financial Services', 'Mobile', 'Advertising',\n",
      "       'Hardware', 'Other', 'Professional Services', 'Privacy and Security',\n",
      "       'Apps', 'Transportation', 'Community and Lifestyle',\n",
      "       'Artificial Intelligence', 'Payments', 'Education', 'Food and Beverage',\n",
      "       'Content and Publishing', 'Video', 'Messaging and Telecommunications',\n",
      "       'Real Estate', 'Design', 'Gaming', 'Travel and Tourism',\n",
      "       'Lending and Investments', 'Sustainability', 'Energy', 'Manufacturing',\n",
      "       'Administrative Services', 'Consumer Electronics', 'Sports',\n",
      "       'Platforms', 'Music and Audio', 'Natural Resources', 'Consumer Goods',\n",
      "       'Clothing and Apparel', 'Events', 'Government and Military',\n",
      "       'Agriculture and Farming', 'Navigation and Mapping'],\n",
      "      dtype='object')\n",
      "r3 Index(['Software', 'Information Technology', 'Internet Services',\n",
      "       'Health Care', 'Science and Engineering', 'Sales and Marketing',\n",
      "       'Media and Entertainment', 'Data and Analytics', 'Financial Services',\n",
      "       'Mobile', 'Commerce and Shopping', 'Biotechnology', 'Hardware',\n",
      "       'Advertising', 'Other', 'Professional Services', 'Privacy and Security',\n",
      "       'Apps', 'Transportation', 'Education', 'Payments',\n",
      "       'Content and Publishing', 'Food and Beverage',\n",
      "       'Community and Lifestyle', 'Video', 'Artificial Intelligence', 'Design',\n",
      "       'Real Estate', 'Lending and Investments', 'Manufacturing',\n",
      "       'Messaging and Telecommunications', 'Gaming', 'Consumer Electronics',\n",
      "       'Energy', 'Travel and Tourism', 'Administrative Services',\n",
      "       'Sustainability', 'Music and Audio', 'Sports', 'Natural Resources',\n",
      "       'Clothing and Apparel', 'Consumer Goods', 'Events', 'Platforms',\n",
      "       'Government and Military', 'Agriculture and Farming',\n",
      "       'Navigation and Mapping'],\n",
      "      dtype='object')\n",
      "e4 Index(['Software', 'Internet Services', 'Media and Entertainment',\n",
      "       'Information Technology', 'Commerce and Shopping', 'Mobile', 'Other',\n",
      "       'Health Care', 'Financial Services', 'Hardware',\n",
      "       'Content and Publishing', 'Apps', 'Sales and Marketing',\n",
      "       'Science and Engineering', 'Food and Beverage', 'Transportation',\n",
      "       'Community and Lifestyle', 'Video', 'Consumer Electronics',\n",
      "       'Manufacturing', 'Education', 'Professional Services',\n",
      "       'Privacy and Security', 'Payments', 'Data and Analytics', 'Gaming',\n",
      "       'Real Estate', 'Advertising', 'Events', 'Natural Resources',\n",
      "       'Agriculture and Farming', 'Platforms', 'Administrative Services',\n",
      "       'Consumer Goods', 'Biotechnology', 'Messaging and Telecommunications',\n",
      "       'Navigation and Mapping', 'Energy', 'Travel and Tourism', 'Sports',\n",
      "       'Design'],\n",
      "      dtype='object')\n",
      "r4 Index(['Software', 'Internet Services', 'Information Technology',\n",
      "       'Commerce and Shopping', 'Media and Entertainment', 'Mobile', 'Other',\n",
      "       'Data and Analytics', 'Financial Services', 'Content and Publishing',\n",
      "       'Sales and Marketing', 'Health Care', 'Hardware', 'Education',\n",
      "       'Messaging and Telecommunications', 'Professional Services', 'Apps',\n",
      "       'Transportation', 'Food and Beverage', 'Privacy and Security',\n",
      "       'Advertising', 'Video', 'Gaming', 'Community and Lifestyle', 'Events',\n",
      "       'Payments', 'Platforms', 'Consumer Electronics', 'Manufacturing',\n",
      "       'Biotechnology', 'Design', 'Travel and Tourism', 'Consumer Goods',\n",
      "       'Sports', 'Agriculture and Farming', 'Navigation and Mapping',\n",
      "       'Energy'],\n",
      "      dtype='object')\n"
     ]
    }
   ],
   "source": [
    "print('e0', eidf0['Industry Groups'].value_counts().index)\n",
    "print('r0', ridf0['Industry Groups'].value_counts().index)\n",
    "print('e1', eidf1['Industry Groups'].value_counts().index)\n",
    "print('r1', ridf1['Industry Groups'].value_counts().index)\n",
    "print('e2', eidf2['Industry Groups'].value_counts().index)\n",
    "print('r2', ridf2['Industry Groups'].value_counts().index)\n",
    "print('e3', eidf3['Industry Groups'].value_counts().index)\n",
    "print('r3', ridf3['Industry Groups'].value_counts().index)\n",
    "print('e4', eidf4['Industry Groups'].value_counts().index)\n",
    "print('r4', ridf4['Industry Groups'].value_counts().index)"
   ]
  },
  {
   "cell_type": "code",
   "execution_count": null,
   "metadata": {},
   "outputs": [],
   "source": [
    "import matplotlib.pyplot as plt\n",
    "import seaborn as sns"
   ]
  },
  {
   "cell_type": "code",
   "execution_count": null,
   "metadata": {},
   "outputs": [],
   "source": [
    "#0"
   ]
  },
  {
   "cell_type": "code",
   "execution_count": null,
   "metadata": {
    "scrolled": false
   },
   "outputs": [],
   "source": [
    "plt.rcParams[\"figure.figsize\"] = (12, 10)\n",
    "sns.countplot(y=\"Industry Groups\", data=eidf0, order = eidf0['Industry Groups'].value_counts().index)\n",
    "plt.show()"
   ]
  },
  {
   "cell_type": "code",
   "execution_count": null,
   "metadata": {
    "scrolled": false
   },
   "outputs": [],
   "source": [
    "plt.rcParams[\"figure.figsize\"] = (12, 10)\n",
    "sns.countplot(y=\"Industry Groups\", data=ridf0, order = ridf0['Industry Groups'].value_counts().index)\n",
    "plt.show()"
   ]
  },
  {
   "cell_type": "code",
   "execution_count": null,
   "metadata": {},
   "outputs": [],
   "source": [
    "#1"
   ]
  },
  {
   "cell_type": "code",
   "execution_count": null,
   "metadata": {
    "scrolled": false
   },
   "outputs": [],
   "source": [
    "plt.rcParams[\"figure.figsize\"] = (12, 10)\n",
    "sns.countplot(y=\"Industry Groups\", data=eidf1, order = eidf1['Industry Groups'].value_counts().index)\n",
    "plt.show()"
   ]
  },
  {
   "cell_type": "code",
   "execution_count": null,
   "metadata": {
    "scrolled": false
   },
   "outputs": [],
   "source": [
    "plt.rcParams[\"figure.figsize\"] = (12, 10)\n",
    "sns.countplot(y=\"Industry Groups\", data=ridf1, order = ridf1['Industry Groups'].value_counts().index)\n",
    "plt.show()"
   ]
  },
  {
   "cell_type": "code",
   "execution_count": null,
   "metadata": {},
   "outputs": [],
   "source": [
    "#2"
   ]
  },
  {
   "cell_type": "code",
   "execution_count": null,
   "metadata": {
    "scrolled": false
   },
   "outputs": [],
   "source": [
    "plt.rcParams[\"figure.figsize\"] = (12, 10)\n",
    "sns.countplot(y=\"Industry Groups\", data=eidf2, order = eidf2['Industry Groups'].value_counts().index)\n",
    "plt.show()"
   ]
  },
  {
   "cell_type": "code",
   "execution_count": null,
   "metadata": {
    "scrolled": false
   },
   "outputs": [],
   "source": [
    "plt.rcParams[\"figure.figsize\"] = (12, 10)\n",
    "sns.countplot(y=\"Industry Groups\", data=ridf2, order = ridf2['Industry Groups'].value_counts().index)\n",
    "plt.show()"
   ]
  },
  {
   "cell_type": "code",
   "execution_count": null,
   "metadata": {},
   "outputs": [],
   "source": [
    "#3"
   ]
  },
  {
   "cell_type": "code",
   "execution_count": null,
   "metadata": {
    "scrolled": false
   },
   "outputs": [],
   "source": [
    "plt.rcParams[\"figure.figsize\"] = (12, 10)\n",
    "sns.countplot(y=\"Industry Groups\", data=eidf3, order = eidf3['Industry Groups'].value_counts().index)\n",
    "plt.show()"
   ]
  },
  {
   "cell_type": "code",
   "execution_count": null,
   "metadata": {
    "scrolled": false
   },
   "outputs": [],
   "source": [
    "plt.rcParams[\"figure.figsize\"] = (12, 10)\n",
    "sns.countplot(y=\"Industry Groups\", data=ridf3, order = ridf3['Industry Groups'].value_counts().index)\n",
    "plt.show()"
   ]
  },
  {
   "cell_type": "code",
   "execution_count": null,
   "metadata": {},
   "outputs": [],
   "source": [
    "#5"
   ]
  },
  {
   "cell_type": "code",
   "execution_count": null,
   "metadata": {
    "scrolled": false
   },
   "outputs": [],
   "source": [
    "plt.rcParams[\"figure.figsize\"] = (12, 10)\n",
    "sns.countplot(y=\"Industry Groups\", data=eidf5, order = eidf5['Industry Groups'].value_counts().index)\n",
    "plt.show()"
   ]
  },
  {
   "cell_type": "code",
   "execution_count": null,
   "metadata": {
    "scrolled": false
   },
   "outputs": [],
   "source": [
    "plt.rcParams[\"figure.figsize\"] = (12, 10)\n",
    "sns.countplot(y=\"Industry Groups\", data=ridf5, order = ridf5['Industry Groups'].value_counts().index)\n",
    "plt.show()"
   ]
  },
  {
   "cell_type": "code",
   "execution_count": null,
   "metadata": {},
   "outputs": [],
   "source": []
  },
  {
   "cell_type": "code",
   "execution_count": null,
   "metadata": {},
   "outputs": [],
   "source": [
    "#plt.hist(data['Industry_Groups_Similarity'], alpha=0.5, label='all')\n",
    "plt.hist(cl0['Industry_Groups_Similarity'], alpha=0.5, label='cluster0')\n",
    "plt.hist(cl1['Industry_Groups_Similarity'], alpha=0.5, label='cluster1')\n",
    "plt.hist(cl2['Industry_Groups_Similarity'], alpha=0.5, label='cluster2')\n",
    "plt.hist(cl3['Industry_Groups_Similarity'], alpha=0.5, label='cluster3')\n",
    "plt.hist(cl5['Industry_Groups_Similarity'], alpha=0.5, label='cluster5')\n",
    "plt.legend(loc='upper right')"
   ]
  },
  {
   "cell_type": "code",
   "execution_count": null,
   "metadata": {},
   "outputs": [],
   "source": [
    "plt.hist(cl0['Location_Similarity'], alpha=0.5, label='cluster0')\n",
    "plt.hist(cl1['Location_Similarity'], alpha=0.5, label='cluster1')\n",
    "plt.hist(cl2['Location_Similarity'], alpha=0.5, label='cluster2')\n",
    "plt.hist(cl3['Location_Similarity'], alpha=0.5, label='cluster3')\n",
    "plt.hist(cl5['Location_Similarity'], alpha=0.5, label='cluster5')\n",
    "plt.legend(loc='upper right')"
   ]
  },
  {
   "cell_type": "code",
   "execution_count": null,
   "metadata": {},
   "outputs": [],
   "source": []
  }
 ],
 "metadata": {
  "kernelspec": {
   "display_name": "Python 3",
   "language": "python",
   "name": "python3"
  },
  "language_info": {
   "codemirror_mode": {
    "name": "ipython",
    "version": 3
   },
   "file_extension": ".py",
   "mimetype": "text/x-python",
   "name": "python",
   "nbconvert_exporter": "python",
   "pygments_lexer": "ipython3",
   "version": "3.7.6"
  }
 },
 "nbformat": 4,
 "nbformat_minor": 4
}
